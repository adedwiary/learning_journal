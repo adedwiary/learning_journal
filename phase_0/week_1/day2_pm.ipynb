{
 "cells": [
  {
   "cell_type": "markdown",
   "metadata": {},
   "source": [
    "# Week 1: Day 2 PM // Python: Conditionals and loops"
   ]
  },
  {
   "cell_type": "markdown",
   "metadata": {},
   "source": [
    "# CONDITIONAL"
   ]
  },
  {
   "cell_type": "markdown",
   "metadata": {},
   "source": [
    "Python bisa melakukan `logical conditions` dari matematika:\n",
    "\n",
    "- Sama dengan: a == b\n",
    "- Tidak Sama dengan: a != b\n",
    "- Kurang dari: a < b\n",
    "- Kurang dari atau sama dengan: a <= b\n",
    "- Lebih besar dari: a > b\n",
    "- Lebih besar dari atau sama dengan: a >= b\n",
    "- Pengisian dan penambahan +=\n",
    "- Pengisian dan pengurangan -=\n",
    "- Pengisian dan perkalian *=\n",
    "- Pengisian dan pembagian /=\n",
    "- Kondisi ini dapat digunakan dalam beberapa cara, paling umum dalam \"pernyataan if\" dan loop.\n",
    "\n",
    "Sebuah \"pernyataan if\" ditulis dengan menggunakan kata kunci `if`.\n",
    "\n",
    "Dalam program Python, `pernyataan if` dilakukan untuk **pengambilan keputusan / decision making**. Hal ini memungkinkan untuk eksekusi kondisional pernyataan atau kelompok pernyataan berdasarkan nilai ekspresi."
   ]
  },
  {
   "cell_type": "markdown",
   "metadata": {},
   "source": [
    "### Pengantar Pernyataan if\n",
    "\n",
    "Kita akan mulai dengan melihat tipe paling dasar dari pernyataan if. Dalam bentuknya yang paling sederhana, terlihat seperti ini:\n",
    "\n",
    "```py\n",
    "if <expr>:\n",
    "    <statement>\n",
    "```\n",
    "\n",
    "Keterangan:\n",
    "\n",
    "- `<expr>` adalah ekspresi yang dievaluasi dalam konteks Boolean (true or false).\n",
    "- `<statement>` adalah pernyataan Python yang valid, yang harus diindentasi.\n",
    "\n",
    "Jika `<expr>` benar (mengevaluasi ke nilai yang \"benar\"), maka `<pernyataan>` dijalankan. Jika `<expr>` salah, maka `<statement>` akan dilewati dan tidak dieksekusi.\n",
    "\n",
    "Perhatikan bahwa titik dua `(:)` setelah `<expr>` diperlukan. Beberapa bahasa pemrograman memerlukan `<expr>` untuk diapit dalam tanda kurung, tetapi Python tidak."
   ]
  },
  {
   "cell_type": "code",
   "execution_count": 1,
   "metadata": {},
   "outputs": [],
   "source": [
    "angka = 10"
   ]
  },
  {
   "cell_type": "code",
   "execution_count": 2,
   "metadata": {},
   "outputs": [
    {
     "data": {
      "text/plain": [
       "10"
      ]
     },
     "execution_count": 2,
     "metadata": {},
     "output_type": "execute_result"
    }
   ],
   "source": [
    "angka"
   ]
  },
  {
   "cell_type": "code",
   "execution_count": 3,
   "metadata": {},
   "outputs": [
    {
     "data": {
      "text/plain": [
       "True"
      ]
     },
     "execution_count": 3,
     "metadata": {},
     "output_type": "execute_result"
    }
   ],
   "source": [
    "5==5 #Operator assignment =, operator perbandingan =="
   ]
  },
  {
   "cell_type": "code",
   "execution_count": 4,
   "metadata": {},
   "outputs": [
    {
     "data": {
      "text/plain": [
       "False"
      ]
     },
     "execution_count": 4,
     "metadata": {},
     "output_type": "execute_result"
    }
   ],
   "source": [
    "5==10"
   ]
  },
  {
   "cell_type": "code",
   "execution_count": 5,
   "metadata": {},
   "outputs": [
    {
     "data": {
      "text/plain": [
       "False"
      ]
     },
     "execution_count": 5,
     "metadata": {},
     "output_type": "execute_result"
    }
   ],
   "source": [
    "angka == 15"
   ]
  },
  {
   "cell_type": "code",
   "execution_count": 6,
   "metadata": {},
   "outputs": [
    {
     "data": {
      "text/plain": [
       "True"
      ]
     },
     "execution_count": 6,
     "metadata": {},
     "output_type": "execute_result"
    }
   ],
   "source": [
    "angka == 10 "
   ]
  },
  {
   "cell_type": "code",
   "execution_count": 7,
   "metadata": {},
   "outputs": [
    {
     "name": "stdout",
     "output_type": "stream",
     "text": [
      "8 lebih besar dari 10\n"
     ]
    }
   ],
   "source": [
    "angka = 8\n",
    "print(f\"{angka} lebih besar dari 10\") #fungsi f agar nilai angka keluar"
   ]
  },
  {
   "cell_type": "code",
   "execution_count": 1,
   "metadata": {},
   "outputs": [
    {
     "name": "stdout",
     "output_type": "stream",
     "text": [
      "yes\n",
      "yes\n",
      "yes\n"
     ]
    }
   ],
   "source": [
    "x = 0\n",
    "y = 5\n",
    "\n",
    "if x < y:                            # Truthy\n",
    "    print('yes')\n",
    "\n",
    "if y < x:                            # Falsy\n",
    "    print('yes')\n",
    "\n",
    "if x:                                # Falsy\n",
    "    print('yes')\n",
    "\n",
    "if y:                                # Truthy\n",
    "    print('yes')\n",
    "\n",
    "if 'aul' in 'grault':                # Truthy\n",
    "    print('yes')\n",
    "\n",
    "if 'quux' in ['foo', 'bar', 'baz']:  # Falsy\n",
    "    print('yes')"
   ]
  },
  {
   "cell_type": "code",
   "execution_count": 8,
   "metadata": {},
   "outputs": [
    {
     "name": "stdout",
     "output_type": "stream",
     "text": [
      "f{angka} lebih kecil dari 10\n",
      "ini di luar if\n"
     ]
    }
   ],
   "source": [
    "angka = 9\n",
    "if angka > 10: #dijalankan jika true, tidak dijalankan false\n",
    "    print(f\"{angka} lebih besar dari 10\")\n",
    "    print(\"ini masih di dalam kondisi if\") #tidak dijalankan karena masih sejajar dengan baris sebelumnya, masih dalam kondisi if\n",
    "else:\n",
    "    print(\"f{angka} lebih kecil dari 10\")\n",
    "print(\"ini di luar if\")"
   ]
  },
  {
   "cell_type": "markdown",
   "metadata": {},
   "source": [
    "### Grouping Statements: Indentation and Blocks\n",
    "\n",
    "Jika kita ingin mengevaluasi suatu kondisi dan kemudian melakukan lebih dari satu hal jika itu benar. Misalnya:\n",
    "\n",
    "Jika cuacanya bagus, maka saya akan:\n",
    "\n",
    "- Memotong rumput\n",
    "- Menyiangi taman\n",
    "- Membawa anjing untuk berjalan-jalan\n",
    "\n",
    "(Jika cuacanya tidak bagus, maka saya tidak akan melakukan hal-hal ini.)\n",
    "\n",
    "Dalam semua contoh yang ditampilkan di atas, setiap if `<expr>`: hanya diikuti oleh satu `<statement>`. Perlu ada beberapa cara untuk mengatakan “Jika `<expr>` benar, lakukan semua hal berikut.”\n",
    "\n",
    "Ketika target dari pernyataan if, dan `<expr>` benar, maka semua pernyataan dalam blok akan dieksekusi. Jika `<expr>` salah, maka tidak ada satupun yang salah.\n",
    "\n",
    "**Python: It’s All About the Indentation**\n",
    "\n",
    "Pernyataan majemuk if dalam Python terlihat seperti ini:\n",
    "\n",
    "```py\n",
    "if <expr>:\n",
    "    <statement>\n",
    "    <statement>\n",
    "    ...\n",
    "    <statement>\n",
    "<following_statement>\n",
    "```\n",
    "\n",
    "Di sini, semua pernyataan pada tingkat indentasi yang cocok (baris 2 hingga 5) dianggap sebagai bagian dari blok yang sama. Seluruh blok dieksekusi jika `<expr>` benar, atau dilewati jika `<expr>` salah. Either way, eksekusi dilanjutkan dengan `<following_statement>` (baris 6) sesudahnya.\n",
    "    \n",
    "<img src='https://files.realpython.com/media/t.78f3bacaa261.png' />"
   ]
  },
  {
   "cell_type": "code",
   "execution_count": 2,
   "metadata": {},
   "outputs": [
    {
     "name": "stdout",
     "output_type": "stream",
     "text": [
      "After conditional\n"
     ]
    }
   ],
   "source": [
    "if 'foo' in ['bar', 'baz', 'qux']:\n",
    "    print('Expression was true')\n",
    "    print('Executing statement in suite')\n",
    "    print('...')\n",
    "    print('Done.')\n",
    "    \n",
    "print('After conditional')"
   ]
  },
  {
   "cell_type": "code",
   "execution_count": 3,
   "metadata": {},
   "outputs": [
    {
     "name": "stdout",
     "output_type": "stream",
     "text": [
      "Outer condition is true\n",
      "Between inner conditions\n",
      "Inner condition 2\n",
      "End of outer condition\n",
      "After outer condition\n"
     ]
    }
   ],
   "source": [
    "# Does line execute?                        Yes    No\n",
    "#                                           ---    --\n",
    "if 'foo' in ['foo', 'bar', 'baz']:        #  x\n",
    "    print('Outer condition is true')      #  x\n",
    "\n",
    "    if 10 > 20:                           #  x\n",
    "        print('Inner condition 1')        #        x\n",
    "\n",
    "    print('Between inner conditions')     #  x\n",
    "\n",
    "    if 10 < 20:                           #  x\n",
    "        print('Inner condition 2')        #  x\n",
    "\n",
    "    print('End of outer condition')       #  x\n",
    "print('After outer condition')            #  x"
   ]
  },
  {
   "cell_type": "markdown",
   "metadata": {},
   "source": [
    "### The else and elif Clauses\n",
    "\n",
    "Jika kita ingin mengevaluasi suatu kondisi dengan menentukan jalur alternatif jika tidak. Dapat menggunakan klausa else:\n",
    "\n",
    "```py\n",
    "if <expr>:\n",
    "    <statement(s)>\n",
    "else:\n",
    "    <statement(s)>\n",
    "```\n",
    "\n",
    "If `<expr>` benar, statement pertama dijalankan, dan statement kedua dilewati. If <expr> salah, statement pertama dilewati dan yang kedua dieksekusi. \n",
    "\n",
    "Dalam contoh ini, x kurang dari 50, sehingga statement pertama (baris 4 hingga 5) dijalankan, dan statement kedua (baris 7 hingga 8) dilewati:"
   ]
  },
  {
   "cell_type": "code",
   "execution_count": 1,
   "metadata": {},
   "outputs": [
    {
     "name": "stdout",
     "output_type": "stream",
     "text": [
      "(first suite)\n",
      "x is small\n"
     ]
    }
   ],
   "source": [
    "x = 20\n",
    "\n",
    "if x < 50:\n",
    "    print('(first suite)')\n",
    "    print('x is small')\n",
    "else:\n",
    "    print('(second suite)')\n",
    "    print('x is large')"
   ]
  },
  {
   "cell_type": "markdown",
   "metadata": {},
   "source": [
    "Jika x lebih besar dair 50, statement else yang dieksekusi."
   ]
  },
  {
   "cell_type": "code",
   "execution_count": 2,
   "metadata": {},
   "outputs": [
    {
     "name": "stdout",
     "output_type": "stream",
     "text": [
      "(second suite)\n",
      "x is large\n"
     ]
    }
   ],
   "source": [
    "x = 120\n",
    "\n",
    "if x < 50:\n",
    "    print('(first suite)')\n",
    "    print('x is small')\n",
    "else:\n",
    "    print('(second suite)')\n",
    "    print('x is large')"
   ]
  },
  {
   "cell_type": "code",
   "execution_count": 3,
   "metadata": {},
   "outputs": [
    {
     "name": "stdout",
     "output_type": "stream",
     "text": [
      "uang tidak cukup\n"
     ]
    }
   ],
   "source": [
    "hargaBuku = 20000\n",
    "hargaMajalah = 5000\n",
    "uang = 2000\n",
    "\n",
    "if uang > hargaBuku:\n",
    "    print(\"beli buku\")\n",
    "else:\n",
    "    print(\"uang tidak cukup\")"
   ]
  },
  {
   "cell_type": "markdown",
   "metadata": {},
   "source": [
    "Ada juga sintaks dengan beberapa alternatif. Untuk ini, gunakan satu atau lebih klausa elif (kependekan dari else if). Python mengevaluasi setiap `<expr>` secara bergantian dan mengeksekusi statement yang sesuai dengan yang pertama yang benar. Jika tidak ada ekspresi yang benar, dan klausa lain ditentukan, maka rangkaiannya dieksekusi:\n",
    "    \n",
    "```py\n",
    "if <expr>:\n",
    "    <statement(s)>\n",
    "elif <expr>:\n",
    "    <statement(s)>\n",
    "elif <expr>:\n",
    "    <statement(s)>\n",
    "    ...\n",
    "else:\n",
    "    <statement(s)>\n",
    "```\n",
    "\n",
    "Jumlah klausa elif yang berubah-ubah dapat ditentukan. Klausa else bersifat opsional. Jika ada, hanya ada satu, dan harus ditentukan terakhir:"
   ]
  },
  {
   "cell_type": "code",
   "execution_count": 4,
   "metadata": {},
   "outputs": [
    {
     "name": "stdout",
     "output_type": "stream",
     "text": [
      "uang tidak cukup\n"
     ]
    }
   ],
   "source": [
    "hargaBuku = 20000\n",
    "hargaMajalah = 5000\n",
    "uang = 2000\n",
    "\n",
    "if uang > hargaBuku:\n",
    "    print(\"beli buku\")\n",
    "elif uang > hargaMajalah:\n",
    "    print(\"beli majalah\")\n",
    "else:\n",
    "    print(\"uang tidak cukup\")"
   ]
  },
  {
   "cell_type": "code",
   "execution_count": 5,
   "metadata": {},
   "outputs": [
    {
     "name": "stdout",
     "output_type": "stream",
     "text": [
      "Hello Hacktiv8\n"
     ]
    }
   ],
   "source": [
    "name = 'Hacktiv8'\n",
    "if name == 'Fred':\n",
    "    print('Hello Fred')\n",
    "elif name == 'Xander':\n",
    "    print('Hello Xander')\n",
    "elif name == 'Hacktiv8':\n",
    "    print('Hello Hacktiv8')\n",
    "elif name == 'Arnold':\n",
    "    print('Hello Arnold')\n",
    "else:\n",
    "    print(\"I don't know who you are!\")"
   ]
  },
  {
   "cell_type": "markdown",
   "metadata": {},
   "source": [
    "Jika klausa else tidak disertakan, dan semua kondisi salah, maka tidak ada statement yang akan dieksekusi.\n",
    "\n",
    "Pernyataan if dan elif menggunakan evaluasi yang singkat. Setelah salah satu ekspresi ditemukan benar dan bloknya dieksekusi, tidak ada ekspresi yang tersisa yang diuji. Contoh:"
   ]
  },
  {
   "cell_type": "code",
   "execution_count": 7,
   "metadata": {},
   "outputs": [
    {
     "name": "stdout",
     "output_type": "stream",
     "text": [
      "foo\n"
     ]
    }
   ],
   "source": [
    "if 'b' in 'bar':\n",
    "    print('foo')\n",
    "elif 1/0:\n",
    "    print(\"This won't happen\")\n",
    "elif var:\n",
    "    print(\"This won't either\")"
   ]
  },
  {
   "cell_type": "markdown",
   "metadata": {},
   "source": [
    "### One-Line if Statements\n",
    "\n",
    "Menulis if `<expr>` pada satu baris dan `<statement>` menjorok pada baris adalah suatu kebiasaan.\n",
    "\n",
    "```py\n",
    "if <expr>:\n",
    "    <statement>\n",
    "```\n",
    "\n",
    "Ternyata diperbolehkan untuk menulis seluruh pernyataan if dalam satu baris. Berikut ini secara fungsional setara dengan contoh di atas:\n",
    "\n",
    "`if <expr>: <statement>`\n",
    "\n",
    "Bahkan bisa ada lebih dari satu `<statement>` pada baris yang sama, dipisahkan oleh titik koma:\n",
    "\n",
    "`if <expr>: <statement_1>; <statement_2>; ...; <statement_n>`\n",
    "\n",
    "Tapi apa artinya ini? Ada dua kemungkinan interpretasi:\n",
    "\n",
    "If `<expr>` is true, execute `<statement_1>`.\n",
    "\n",
    "Kemudian, jalankan `<statement_2>` ... `<statement_n>` tanpa syarat, terlepas dari apakah `<expr>` benar atau tidak.\n",
    "\n",
    "Jika `<expr>` benar, jalankan semua `<statement_1>` ... `<statement_n>`. Jika salah, tidak ada yang dijalankan.\n"
   ]
  },
  {
   "cell_type": "code",
   "execution_count": 8,
   "metadata": {},
   "outputs": [
    {
     "name": "stdout",
     "output_type": "stream",
     "text": [
      "1\n",
      "2\n",
      "3\n"
     ]
    }
   ],
   "source": [
    "if 'f' in 'foo': print('1'); print('2'); print('3')"
   ]
  },
  {
   "cell_type": "code",
   "execution_count": 9,
   "metadata": {},
   "outputs": [],
   "source": [
    "if 'z' in 'foo': print('1'); print('2'); print('3')"
   ]
  },
  {
   "cell_type": "markdown",
   "metadata": {},
   "source": [
    "Beberapa statement dapat ditentukan pada baris yang sama sebagai elif atau klausa lain juga:"
   ]
  },
  {
   "cell_type": "code",
   "execution_count": 10,
   "metadata": {},
   "outputs": [
    {
     "name": "stdout",
     "output_type": "stream",
     "text": [
      "qux\n",
      "quux\n"
     ]
    }
   ],
   "source": [
    "x = 2\n",
    "\n",
    "if x == 1: print('foo'); print('bar'); print('baz')\n",
    "elif x == 2: print('qux'); print('quux')\n",
    "else: print('corge'); print('grault')"
   ]
  },
  {
   "cell_type": "code",
   "execution_count": 11,
   "metadata": {},
   "outputs": [
    {
     "name": "stdout",
     "output_type": "stream",
     "text": [
      "corge\n",
      "grault\n"
     ]
    }
   ],
   "source": [
    "x = 3\n",
    "if x == 1: print('foo'); print('bar'); print('baz')\n",
    "elif x == 2: print('qux'); print('quux')\n",
    "else: print('corge'); print('grault')"
   ]
  },
  {
   "cell_type": "markdown",
   "metadata": {},
   "source": [
    "Walaupun rumus ini dapat dijalankan, tapi umumnya tidak disarankan dengan alasan bahwa itu mengarah pada keterbacaan yang buruk, terutama untuk pernyataan if yang kompleks. PEP 8 secara khusus merekomendasikan untuk tidak melakukannya.\n",
    "\n",
    "Jadi lebih ke masalah selera.\n"
   ]
  },
  {
   "cell_type": "code",
   "execution_count": 12,
   "metadata": {},
   "outputs": [
    {
     "name": "stdout",
     "output_type": "stream",
     "text": [
      "corge\n",
      "grault\n"
     ]
    }
   ],
   "source": [
    "x = 3\n",
    "if x == 1:\n",
    "    print('foo')\n",
    "    print('bar')\n",
    "    print('baz')\n",
    "elif x == 2:\n",
    "    print('qux')\n",
    "    print('quux')\n",
    "else:\n",
    "    print('corge')\n",
    "    print('grault')"
   ]
  },
  {
   "cell_type": "markdown",
   "metadata": {},
   "source": [
    "### Conditional Expressions (Python’s Ternary Operator)\n",
    "\n",
    "Disebut juga operator kondisional atau operator ternary di berbagai tempat dalam dokumentasi Python.\n",
    "\n",
    "`<expr1> if <conditional_expr> else <expr2>`\n",
    "\n",
    "Berbeda dari statement if sebelumnya, karena bukan merupakan struktur kontrol yang mengarahkan aliran eksekusi program. Tujuannya lebih seperti operator yang mendefinifikan ekspresi.\n",
    "\n",
    "Dalam contoh di atas, `<conditional_expr>` dievaluasi terlebih dahulu. Jika benar, ekspresi dievaluasi menjadi `<expr1>`. Jika salah, ekspresi dievaluasi menjadi `<expr2>`.\n",
    "\n",
    "Bacanya dari tengah terlebih dahulu, dan berdasarkan hasil itu, jika benar maka `<expr1>` dieksekusi, dan jika salah `<expr2>` yang dieksekusi. "
   ]
  },
  {
   "cell_type": "code",
   "execution_count": 13,
   "metadata": {},
   "outputs": [
    {
     "name": "stdout",
     "output_type": "stream",
     "text": [
      "Let's go to the beach\n"
     ]
    }
   ],
   "source": [
    "raining = False\n",
    "print(\"Let's go to the\", 'beach' if not raining else 'library')"
   ]
  },
  {
   "cell_type": "code",
   "execution_count": 14,
   "metadata": {},
   "outputs": [
    {
     "name": "stdout",
     "output_type": "stream",
     "text": [
      "Let's go to the library\n"
     ]
    }
   ],
   "source": [
    "raining = True\n",
    "print(\"Let's go to the\", 'beach' if not raining else 'library')"
   ]
  },
  {
   "cell_type": "code",
   "execution_count": 15,
   "metadata": {},
   "outputs": [
    {
     "data": {
      "text/plain": [
       "'teen'"
      ]
     },
     "execution_count": 15,
     "metadata": {},
     "output_type": "execute_result"
    }
   ],
   "source": [
    "age = 12\n",
    "s = 'teen' if age < 21 else 'adult'\n",
    "s"
   ]
  },
  {
   "cell_type": "markdown",
   "metadata": {},
   "source": [
    "Kita dapat menggunakan pernyataan if dengan klausa else:\n",
    "\n",
    "```py\n",
    "if a > b:\n",
    "    m = a\n",
    "else:\n",
    "    m = b\n",
    "```\n",
    "\n",
    "Tetapi ekspresi kondisional lebih pendek dan bisa dibilang lebih mudah dibaca juga:\n",
    "\n",
    "`m = a if a > b else b`\n",
    "\n",
    "In the expression `<expr1>` if `<conditional_expr>` else `<expr2>`:\n",
    "\n",
    "`If <conditional_expr> is true, <expr1> is returned and <expr2> is not evaluated.`\n",
    "\n",
    "`If <conditional_expr> is false, <expr2> is returned and <expr1> is not evaluated.`"
   ]
  },
  {
   "cell_type": "markdown",
   "metadata": {},
   "source": [
    "### The Python pass Statement\n",
    "\n",
    "```py\n",
    "if True:\n",
    "\n",
    "print('foo')\n",
    "```\n",
    "\n",
    "Jika foo.py dijalankan:\n",
    "\n",
    "```py\n",
    "   File \"foo.py\", baris 3\n",
    "     print('foo')\n",
    "         ^\n",
    "IndentationError: expected an indented block\n",
    "```\n",
    "\n",
    "Jika tidak ingin menjalankan statement if, maka:\n",
    "\n",
    "```py\n",
    "if True:\n",
    "    pass\n",
    "\n",
    "print('foo')\n",
    "```\n",
    "\n",
    "Sekarang file berjalan tanpa error.\n",
    "\n",
    "______"
   ]
  },
  {
   "cell_type": "code",
   "execution_count": 16,
   "metadata": {},
   "outputs": [
    {
     "name": "stdout",
     "output_type": "stream",
     "text": [
      "foo\n"
     ]
    }
   ],
   "source": [
    "if True:\n",
    "    pass\n",
    "print('foo')"
   ]
  },
  {
   "cell_type": "markdown",
   "metadata": {},
   "source": [
    "# PENGULANGAN\n",
    "\n",
    "**Iterasi** berarti mengeksekusi blok kode yang sama berulang-ulang, atau berkali-kali. Struktur pemrograman yang mengimplementasikan iterasi disebut loop.\n",
    "\n",
    "Dalam pemrograman, ada dua jenis iterasi, tidak terbatas dan pasti:\n",
    "\n",
    "- Dengan **iterasi tak terbatas**, berapa kali loop dieksekusi tidak ditentukan sebelumnya secara eksplisit. Sebaliknya, blok yang ditunjuk dieksekusi berulang kali selama beberapa kondisi terpenuhi.\n",
    "- Dengan **perulangan yang pasti**, berapa kali blok yang ditunjuk akan dieksekusi ditentukan secara eksplisit pada saat perulangan dimulai."
   ]
  },
  {
   "cell_type": "markdown",
   "metadata": {},
   "source": [
    "### Looping"
   ]
  },
  {
   "cell_type": "code",
   "execution_count": 9,
   "metadata": {},
   "outputs": [
    {
     "name": "stdout",
     "output_type": "stream",
     "text": [
      "Halo Ade, apa kabar ?\n",
      "Halo Ade, apa kabar ?\n",
      "Halo Ade, apa kabar ?\n",
      "Halo Ade, apa kabar ?\n",
      "Halo Ade, apa kabar ?\n",
      "Halo Ade, apa kabar ?\n",
      "Halo Ade, apa kabar ?\n",
      "Halo Ade, apa kabar ?\n",
      "Halo Ade, apa kabar ?\n",
      "Halo Ade, apa kabar ?\n"
     ]
    }
   ],
   "source": [
    "print(\"Halo Ade, apa kabar ?\") #copy paste manual 10x, tidak efisien\n",
    "print(\"Halo Ade, apa kabar ?\")\n",
    "print(\"Halo Ade, apa kabar ?\")\n",
    "print(\"Halo Ade, apa kabar ?\")\n",
    "print(\"Halo Ade, apa kabar ?\")\n",
    "print(\"Halo Ade, apa kabar ?\")\n",
    "print(\"Halo Ade, apa kabar ?\")\n",
    "print(\"Halo Ade, apa kabar ?\")\n",
    "print(\"Halo Ade, apa kabar ?\")\n",
    "print(\"Halo Ade, apa kabar ?\")"
   ]
  },
  {
   "cell_type": "markdown",
   "metadata": {},
   "source": [
    "- n awalnya 5. jikah n > 0, yang artinya benar, maka looping dieksekusi. Di dalam loop pada baris 3, n dikurangi 1 hingga 4 (n -= 1 atau pengisian dan pengurangan 1), dan kemudian diprint."
   ]
  },
  {
   "cell_type": "code",
   "execution_count": 18,
   "metadata": {},
   "outputs": [
    {
     "name": "stdout",
     "output_type": "stream",
     "text": [
      "4\n",
      "3\n",
      "2\n",
      "1\n",
      "0\n"
     ]
    }
   ],
   "source": [
    "n = 5\n",
    "while n > 0:\n",
    "    n -= 1\n",
    "    print(n)"
   ]
  },
  {
   "cell_type": "code",
   "execution_count": 22,
   "metadata": {},
   "outputs": [
    {
     "name": "stdout",
     "output_type": "stream",
     "text": [
      "1\n",
      "2\n",
      "3\n",
      "4\n",
      "5\n"
     ]
    }
   ],
   "source": [
    "i = 1\n",
    "while i < 6:\n",
    "  print(i)\n",
    "  i += 1"
   ]
  },
  {
   "cell_type": "code",
   "execution_count": 26,
   "metadata": {},
   "outputs": [
    {
     "name": "stdout",
     "output_type": "stream",
     "text": [
      "kali : 0\n",
      "Halo Ade, apa kabar?\n",
      "kali : 1\n",
      "Halo Ade, apa kabar?\n",
      "kali : 2\n",
      "Halo Ade, apa kabar?\n",
      "kali : 3\n",
      "Halo Ade, apa kabar?\n",
      "kali : 4\n",
      "Halo Ade, apa kabar?\n"
     ]
    }
   ],
   "source": [
    "#diprint dulu baru diupdate\n",
    "kali = 0\n",
    "while kali < 5:\n",
    "    print(f\"kali : {kali}\")\n",
    "    print(\"Halo Ade, apa kabar?\")\n",
    "    kali = kali + 1 #statement agar looping berhenti"
   ]
  },
  {
   "cell_type": "code",
   "execution_count": 27,
   "metadata": {},
   "outputs": [
    {
     "name": "stdout",
     "output_type": "stream",
     "text": [
      "kali : 1\n",
      "Halo Ade, apa kabar?\n",
      "kali : 2\n",
      "Halo Ade, apa kabar?\n",
      "kali : 3\n",
      "Halo Ade, apa kabar?\n",
      "kali : 4\n",
      "Halo Ade, apa kabar?\n",
      "kali : 5\n",
      "Halo Ade, apa kabar?\n"
     ]
    }
   ],
   "source": [
    "#diberi statetment dulu baru diprint\n",
    "kali = 0\n",
    "while kali < 5:\n",
    "    kali = kali + 1 #statement agar looping berhenti\n",
    "    print(f\"kali : {kali}\")\n",
    "    print(\"Halo Ade, apa kabar?\")"
   ]
  },
  {
   "cell_type": "markdown",
   "metadata": {},
   "source": [
    "### The Python break and continue Statements\n",
    "\n",
    "<img src='https://files.realpython.com/media/t.899f357dd948.png' />\n"
   ]
  },
  {
   "cell_type": "markdown",
   "metadata": {},
   "source": [
    "Ketika n == 2, pernyataan break dieksekusi. Looping dihentikan sepenuhnya, dan eksekusi program melompat ke pernyataan print() pada baris 7.\n",
    "\n",
    "Skrip berikutnya, continue, adalah identik kecuali untuk pernyataan continue sebagai pengganti break:"
   ]
  },
  {
   "cell_type": "code",
   "execution_count": 24,
   "metadata": {},
   "outputs": [
    {
     "name": "stdout",
     "output_type": "stream",
     "text": [
      "4\n",
      "3\n",
      "Loop ended.\n"
     ]
    }
   ],
   "source": [
    "n = 5\n",
    "while n > 0:\n",
    "    n -= 1\n",
    "    if n == 2:\n",
    "        break # Break Statement\n",
    "        # jika n==2, looping berhenti\n",
    "    print(n)\n",
    "print('Loop ended.')"
   ]
  },
  {
   "cell_type": "code",
   "execution_count": 22,
   "metadata": {},
   "outputs": [
    {
     "name": "stdout",
     "output_type": "stream",
     "text": [
      "7 x 1 = 7\n",
      "7 x 2 = 14\n",
      "7 x 3 = 21\n",
      "7 x 4 = 28\n",
      "7 x 5 = 35\n",
      "7 x 6 = 42\n"
     ]
    }
   ],
   "source": [
    "# special keyword : break\n",
    "for i in range(1,11):\n",
    "    if i == 7:\n",
    "        break\n",
    "    print(f\"{7} x {i} = {7*i}\")"
   ]
  },
  {
   "cell_type": "code",
   "execution_count": 23,
   "metadata": {},
   "outputs": [
    {
     "name": "stdout",
     "output_type": "stream",
     "text": [
      "7 x 1 = 7\n",
      "7 x 2 = 14\n",
      "7 x 3 = 21\n",
      "7 x 4 = 28\n",
      "7 x 5 = 35\n",
      "7 x 6 = 42\n",
      "7 x 7 = 49\n"
     ]
    }
   ],
   "source": [
    "# special keyword : break\n",
    "for i in range(1,11):\n",
    "    print(f\"{7} x {i} = {7*i}\")\n",
    "    if i == 7:\n",
    "        break"
   ]
  },
  {
   "cell_type": "markdown",
   "metadata": {},
   "source": [
    "Jika n == 2, tidak ada looping di n == 2. Eksekusi tetap dijalankankan sampai n == 0."
   ]
  },
  {
   "cell_type": "code",
   "execution_count": 25,
   "metadata": {},
   "outputs": [
    {
     "name": "stdout",
     "output_type": "stream",
     "text": [
      "4\n",
      "3\n",
      "1\n",
      "0\n",
      "Loop ended.\n"
     ]
    }
   ],
   "source": [
    "n = 5\n",
    "while n > 0:\n",
    "    n -= 1\n",
    "    if n == 2:\n",
    "        continue\n",
    "    print(n)\n",
    "print('Loop ended.')"
   ]
  },
  {
   "cell_type": "code",
   "execution_count": 24,
   "metadata": {},
   "outputs": [
    {
     "name": "stdout",
     "output_type": "stream",
     "text": [
      "7 x 1 = 7\n",
      "7 x 2 = 14\n",
      "7 x 3 = 21\n",
      "7 x 4 = 28\n",
      "7 x 5 = 35\n",
      "7 x 6 = 42\n",
      "7 x 8 = 56\n",
      "7 x 9 = 63\n",
      "7 x 10 = 70\n"
     ]
    }
   ],
   "source": [
    "# special keyword : continue\n",
    "# untuk ngeskip looping di loop tertentu\n",
    "for i in range(1,11):\n",
    "    if i == 7:\n",
    "        continue\n",
    "    print(f\"{7} x {i} = {7*i}\")"
   ]
  },
  {
   "cell_type": "markdown",
   "metadata": {},
   "source": [
    "### The else Clause\n",
    "\n",
    "```py\n",
    "while <expr>:\n",
    "    <statement(s)>\n",
    "else:\n",
    "    <additional_statement(s)>\n",
    "```\n"
   ]
  },
  {
   "cell_type": "markdown",
   "metadata": {},
   "source": [
    "Loop diulang sampai kondisi n menjadi 0, jadi n > 0 menjadi salah. Karena loop dieksekusi secara otomatis, maka klausa else juga dieksekusi."
   ]
  },
  {
   "cell_type": "code",
   "execution_count": 28,
   "metadata": {},
   "outputs": [
    {
     "name": "stdout",
     "output_type": "stream",
     "text": [
      "4\n",
      "3\n",
      "2\n",
      "1\n",
      "0\n",
      "Loop done.\n"
     ]
    }
   ],
   "source": [
    "n = 5\n",
    "while n > 0:\n",
    "    n -= 1\n",
    "    print(n)\n",
    "else:\n",
    "    print('Loop done.')"
   ]
  },
  {
   "cell_type": "markdown",
   "metadata": {},
   "source": [
    "Loop di bawah ini dihentikan oleh break, sehingga klausa else tidak dieksekusi."
   ]
  },
  {
   "cell_type": "code",
   "execution_count": 29,
   "metadata": {},
   "outputs": [
    {
     "name": "stdout",
     "output_type": "stream",
     "text": [
      "4\n",
      "3\n",
      "2\n"
     ]
    }
   ],
   "source": [
    "n = 5\n",
    "while n > 0:\n",
    "    n -= 1\n",
    "    print(n)\n",
    "    if n == 2:\n",
    "        break\n",
    "else:\n",
    "    print('Loop done.')"
   ]
  },
  {
   "cell_type": "markdown",
   "metadata": {},
   "source": [
    "Membuat variabel list_makanan yang isinya list []. Jika makanan bukan sama dengan 'cukup', maka list_makanan.append(makanan), variabel makanan akan ditambahkan ke list_makanan. Input artinya memberi perintah untuk memasukkan makanan. Akan berhenti looping, jika menginput 'cukup'."
   ]
  },
  {
   "cell_type": "code",
   "execution_count": 30,
   "metadata": {},
   "outputs": [],
   "source": [
    "list_makanan = []\n",
    "makanan = ''\n",
    "while makanan != 'cukup' :\n",
    "    if makanan != '':\n",
    "        list_makanan.append(makanan)\n",
    "    makanan = input(\"Masukan pesanan anda : \")"
   ]
  },
  {
   "cell_type": "code",
   "execution_count": 32,
   "metadata": {},
   "outputs": [
    {
     "data": {
      "text/plain": [
       "['Ayam goreng', 'Mie goreng', 'Telur']"
      ]
     },
     "execution_count": 32,
     "metadata": {},
     "output_type": "execute_result"
    }
   ],
   "source": [
    "list_makanan"
   ]
  },
  {
   "cell_type": "markdown",
   "metadata": {},
   "source": [
    "Tabel perkalian tanpa looping, harus copy paste manual:"
   ]
  },
  {
   "cell_type": "code",
   "execution_count": 35,
   "metadata": {},
   "outputs": [
    {
     "name": "stdout",
     "output_type": "stream",
     "text": [
      "7 x 1 = 7\n",
      "7 x 2 = 14\n",
      "7 x 3 = 21\n"
     ]
    }
   ],
   "source": [
    "print(f\"{7} x {1} = {7*1}\")\n",
    "print(f\"{7} x {2} = {7*2}\")\n",
    "print(f\"{7} x {3} = {7*3}\")"
   ]
  },
  {
   "cell_type": "markdown",
   "metadata": {},
   "source": [
    "Tabel perkalian dengan looping:"
   ]
  },
  {
   "cell_type": "code",
   "execution_count": 36,
   "metadata": {},
   "outputs": [
    {
     "name": "stdout",
     "output_type": "stream",
     "text": [
      "7 x 1 = 7\n",
      "7 x 2 = 14\n",
      "7 x 3 = 21\n",
      "7 x 4 = 28\n",
      "7 x 5 = 35\n",
      "7 x 6 = 42\n",
      "7 x 7 = 49\n",
      "7 x 8 = 56\n",
      "7 x 9 = 63\n",
      "7 x 10 = 70\n"
     ]
    }
   ],
   "source": [
    "i = 1\n",
    "while i <= 10:\n",
    "    print(f\"{7} x {i} = {7*i}\")\n",
    "    # i = i + 1\n",
    "    i += 1"
   ]
  },
  {
   "cell_type": "code",
   "execution_count": 41,
   "metadata": {},
   "outputs": [
    {
     "name": "stdout",
     "output_type": "stream",
     "text": [
      "7 x  1 = 7\n",
      "7 x  2 = 14\n",
      "7 x  3 = 21\n",
      "7 x  4 = 28\n",
      "7 x  5 = 35\n",
      "7 x  6 = 42\n",
      "7 x  7 = 49\n",
      "7 x  8 = 56\n",
      "7 x  9 = 63\n",
      "7 x  10 = 70\n"
     ]
    }
   ],
   "source": [
    "i = 1\n",
    "while i <= 10:\n",
    "    print(\"7 x \", i, \"=\", i*7 )\n",
    "    # i = i + 1\n",
    "    i += 1"
   ]
  },
  {
   "cell_type": "markdown",
   "metadata": {},
   "source": [
    "### Infinite Loops\n",
    "\n",
    "Loop yang tidak pernah berakhir, akan terus mengeksekusi berulang-ulang.\n",
    "\n",
    "```py\n",
    "while True:\n",
    "    print('foo')\n",
    "```"
   ]
  },
  {
   "cell_type": "markdown",
   "metadata": {},
   "source": [
    "### Nested while Loops\n",
    "\n",
    "While loop akan ditampung dalam while loop lainnya. Misalnya:\n",
    "\n",
    "```py\n",
    "if age < 18:\n",
    "    if gender == 'M':\n",
    "        print('son')\n",
    "    else:\n",
    "        print('daughter')\n",
    "elif age >= 18 and age < 65:\n",
    "    if gender == 'M':\n",
    "        print('father')\n",
    "    else:\n",
    "        print('mother')\n",
    "else:\n",
    "    if gender == 'M':\n",
    "        print('grandfather')\n",
    "    else:\n",
    "        print('grandmother')\n",
    "```\n",
    "Contoh lain :\n",
    "len() mencari panjang/jumlah item.\n",
    "\n",
    ".pop menghapus dan mengganti elemen pada list."
   ]
  },
  {
   "cell_type": "code",
   "execution_count": 46,
   "metadata": {},
   "outputs": [
    {
     "name": "stdout",
     "output_type": "stream",
     "text": [
      "foo\n",
      "> baz\n",
      "> qux\n",
      "bar\n",
      "> baz\n",
      "> qux\n"
     ]
    }
   ],
   "source": [
    "a = ['foo', 'bar']\n",
    "\n",
    "while len(a):\n",
    "    print(a.pop(0))\n",
    "    \n",
    "    b = ['baz', 'qux']\n",
    "    \n",
    "    while len(b):\n",
    "        print('>', b.pop(0))"
   ]
  },
  {
   "cell_type": "markdown",
   "metadata": {},
   "source": [
    "### One-Line while Loops"
   ]
  },
  {
   "cell_type": "code",
   "execution_count": 47,
   "metadata": {},
   "outputs": [
    {
     "name": "stdout",
     "output_type": "stream",
     "text": [
      "4\n",
      "3\n",
      "2\n",
      "1\n",
      "0\n"
     ]
    }
   ],
   "source": [
    "n = 5\n",
    "while n > 0: n -= 1; print(n)"
   ]
  },
  {
   "cell_type": "markdown",
   "metadata": {},
   "source": [
    "## For Loop"
   ]
  },
  {
   "cell_type": "code",
   "execution_count": 48,
   "metadata": {},
   "outputs": [
    {
     "name": "stdout",
     "output_type": "stream",
     "text": [
      "foo\n",
      "bar\n",
      "baz\n"
     ]
    }
   ],
   "source": [
    "a = ['foo', 'bar', 'baz']\n",
    "for i in a:\n",
    "    print(i)"
   ]
  },
  {
   "cell_type": "code",
   "execution_count": 49,
   "metadata": {},
   "outputs": [
    {
     "name": "stdout",
     "output_type": "stream",
     "text": [
      "foo\n",
      "bar\n",
      "baz\n"
     ]
    }
   ],
   "source": [
    "d = {'foo': 1, 'bar': 2, 'baz': 3}\n",
    "for k in d:\n",
    "    print(k)"
   ]
  },
  {
   "cell_type": "code",
   "execution_count": 51,
   "metadata": {},
   "outputs": [
    {
     "name": "stdout",
     "output_type": "stream",
     "text": [
      "1\n",
      "2\n",
      "3\n"
     ]
    }
   ],
   "source": [
    "# print nilai dari k\n",
    "for k in d:\n",
    "    print(d[k])"
   ]
  },
  {
   "cell_type": "code",
   "execution_count": 52,
   "metadata": {},
   "outputs": [
    {
     "name": "stdout",
     "output_type": "stream",
     "text": [
      "1\n",
      "2\n",
      "3\n"
     ]
    }
   ],
   "source": [
    "for k in d.values():\n",
    "    print(k)"
   ]
  },
  {
   "cell_type": "code",
   "execution_count": 53,
   "metadata": {},
   "outputs": [
    {
     "name": "stdout",
     "output_type": "stream",
     "text": [
      "foo : 1\n",
      "bar : 2\n",
      "baz : 3\n"
     ]
    }
   ],
   "source": [
    "for k, v in d.items(): \n",
    "    print(k, \":\", v) "
   ]
  },
  {
   "cell_type": "code",
   "execution_count": 16,
   "metadata": {},
   "outputs": [
    {
     "name": "stdout",
     "output_type": "stream",
     "text": [
      "saya jual pepaya\n",
      "saya jual mangga\n",
      "saya jual pisang\n",
      "saya jual jambu\n",
      "saya jual pepaya\n",
      "saya jual mangga\n",
      "saya jual pisang\n",
      "saya jual jambu\n"
     ]
    }
   ],
   "source": [
    "buahbuahan = [\"pepaya\", \"mangga\", \"pisang\", \"jambu\"]\n",
    "print(\"saya jual pepaya\") #manual\n",
    "print(\"saya jual mangga\")\n",
    "print(\"saya jual pisang\")\n",
    "print(\"saya jual jambu\")\n",
    "for item in buahbuahan: #syntax for loop\n",
    "    print(f\"saya jual {item}\")"
   ]
  },
  {
   "cell_type": "code",
   "execution_count": 17,
   "metadata": {},
   "outputs": [
    {
     "name": "stdout",
     "output_type": "stream",
     "text": [
      "7 x 1 = 7\n",
      "7 x 2 = 14\n",
      "7 x 3 = 21\n",
      "7 x 4 = 28\n",
      "7 x 5 = 35\n",
      "7 x 6 = 42\n",
      "7 x 7 = 49\n",
      "7 x 8 = 56\n",
      "7 x 9 = 63\n",
      "7 x 10 = 70\n"
     ]
    }
   ],
   "source": [
    "for i in (1,2,3,4,5,6,7,8,9,10):\n",
    "    print(f\"{7} x {i} = {7*i}\")"
   ]
  },
  {
   "cell_type": "markdown",
   "metadata": {},
   "source": [
    "### The range() Function"
   ]
  },
  {
   "cell_type": "code",
   "execution_count": 18,
   "metadata": {},
   "outputs": [
    {
     "data": {
      "text/plain": [
       "[1, 2, 3, 4, 5, 6, 7, 8, 9]"
      ]
     },
     "execution_count": 18,
     "metadata": {},
     "output_type": "execute_result"
    }
   ],
   "source": [
    "#range syntax (a,b,n)\n",
    "#range syntax (awal, akhir+1, step)\n",
    "#range(1,10,1) #dalam pikiran kita\n",
    "list(range(1,10,1))\n",
    "\n"
   ]
  },
  {
   "cell_type": "code",
   "execution_count": 19,
   "metadata": {},
   "outputs": [
    {
     "data": {
      "text/plain": [
       "[1, 3, 5, 7, 9]"
      ]
     },
     "execution_count": 19,
     "metadata": {},
     "output_type": "execute_result"
    }
   ],
   "source": [
    "list(range(1,10,2))\n"
   ]
  },
  {
   "cell_type": "code",
   "execution_count": 20,
   "metadata": {},
   "outputs": [
    {
     "data": {
      "text/plain": [
       "[0, 1, 2, 3, 4, 5, 6, 7, 8, 9]"
      ]
     },
     "execution_count": 20,
     "metadata": {},
     "output_type": "execute_result"
    }
   ],
   "source": [
    "list(range(0,10,1))"
   ]
  },
  {
   "cell_type": "code",
   "execution_count": 21,
   "metadata": {},
   "outputs": [
    {
     "data": {
      "text/plain": [
       "[1, 2, 3, 4, 5, 6, 7, 8, 9, 10]"
      ]
     },
     "execution_count": 21,
     "metadata": {},
     "output_type": "execute_result"
    }
   ],
   "source": [
    "list(range(1,11))"
   ]
  },
  {
   "cell_type": "markdown",
   "metadata": {},
   "source": [
    "### Altering for Loop Behavior\n",
    "\n",
    "**The break and continue Statements**\n"
   ]
  },
  {
   "cell_type": "code",
   "execution_count": 55,
   "metadata": {},
   "outputs": [
    {
     "name": "stdout",
     "output_type": "stream",
     "text": [
      "foo\n"
     ]
    }
   ],
   "source": [
    "for i in ['foo', 'bar', 'baz', 'qux']:\n",
    "    if 'b' in i:\n",
    "        break #break di i=b\n",
    "    print(i)"
   ]
  },
  {
   "cell_type": "code",
   "execution_count": 56,
   "metadata": {},
   "outputs": [
    {
     "name": "stdout",
     "output_type": "stream",
     "text": [
      "7 x 1 = 7\n",
      "7 x 2 = 14\n",
      "7 x 3 = 21\n",
      "7 x 4 = 28\n",
      "7 x 5 = 35\n",
      "7 x 6 = 42\n",
      "7 x 7 = 49\n",
      "7 x 8 = 56\n",
      "7 x 9 = 63\n",
      "7 x 10 = 70\n"
     ]
    }
   ],
   "source": [
    "# special keyword : continue\n",
    "# untuk ngeskip looping di loop tertentu\n",
    "for i in range(1,11):\n",
    "    print(f\"{7} x {i} = {7*i}\")\n",
    "    if i == 7:\n",
    "        continue\n",
    "    "
   ]
  },
  {
   "cell_type": "markdown",
   "metadata": {},
   "source": [
    "While loop sensitif untuk jadi infinity loop"
   ]
  },
  {
   "cell_type": "code",
   "execution_count": 58,
   "metadata": {},
   "outputs": [
    {
     "name": "stdout",
     "output_type": "stream",
     "text": [
      "7 x 1 = 7\n",
      "7 x 2 = 14\n",
      "7 x 3 = 21\n",
      "7 x 4 = 28\n",
      "7 x 5 = 35\n",
      "7 x 6 = 42\n",
      "7 x 8 = 56\n",
      "7 x 9 = 63\n",
      "7 x 10 = 70\n"
     ]
    }
   ],
   "source": [
    "i = 0\n",
    "while i < 10:\n",
    "    i += 1\n",
    "    if i == 7:\n",
    "        continue #skip di i ==7\n",
    "    print(f\"{7} x {i} = {7*i}\")"
   ]
  },
  {
   "cell_type": "markdown",
   "metadata": {},
   "source": [
    "**The else Clause**"
   ]
  },
  {
   "cell_type": "code",
   "execution_count": 62,
   "metadata": {},
   "outputs": [
    {
     "name": "stdout",
     "output_type": "stream",
     "text": [
      "foo\n",
      "bar\n",
      "baz\n",
      "qux\n",
      "Done.\n"
     ]
    }
   ],
   "source": [
    "for i in ['foo', 'bar', 'baz', 'qux']:\n",
    "    print(i)\n",
    "else:\n",
    "    print('Done.')  # Will execute"
   ]
  },
  {
   "cell_type": "code",
   "execution_count": 63,
   "metadata": {},
   "outputs": [
    {
     "name": "stdout",
     "output_type": "stream",
     "text": [
      "foo\n"
     ]
    }
   ],
   "source": [
    "for i in ['foo', 'bar', 'baz', 'qux']:\n",
    "  if i == 'bar':\n",
    "    break\n",
    "  print(i)\n",
    "else:\n",
    "  print('Done.') "
   ]
  },
  {
   "cell_type": "code",
   "execution_count": 59,
   "metadata": {},
   "outputs": [],
   "source": [
    "from random import randint"
   ]
  },
  {
   "cell_type": "code",
   "execution_count": 60,
   "metadata": {},
   "outputs": [
    {
     "data": {
      "text/plain": [
       "7"
      ]
     },
     "execution_count": 60,
     "metadata": {},
     "output_type": "execute_result"
    }
   ],
   "source": [
    "randint(1,10)"
   ]
  },
  {
   "cell_type": "code",
   "execution_count": 61,
   "metadata": {},
   "outputs": [
    {
     "data": {
      "text/plain": [
       "False"
      ]
     },
     "execution_count": 61,
     "metadata": {},
     "output_type": "execute_result"
    }
   ],
   "source": [
    "a = 8\n",
    "b = input(\"Masukan angka : \")\n",
    "a == b #False karena beda type, a integer, b string"
   ]
  },
  {
   "cell_type": "code",
   "execution_count": 31,
   "metadata": {},
   "outputs": [
    {
     "data": {
      "text/plain": [
       "False"
      ]
     },
     "execution_count": 31,
     "metadata": {},
     "output_type": "execute_result"
    }
   ],
   "source": [
    "a = 8\n",
    "b = input(\"Masukan angka : \")\n",
    "a == b"
   ]
  },
  {
   "cell_type": "code",
   "execution_count": 32,
   "metadata": {},
   "outputs": [
    {
     "name": "stdout",
     "output_type": "stream",
     "text": [
      "Angka terlalu besar\n",
      "Angka terlalu kecil\n",
      "Angka terlalu besar\n",
      "Angka terlalu kecil\n",
      "Angka terlalu kecil\n",
      "Angka terlalu kecil\n",
      "Angka terlalu kecil\n",
      "Selamat, anda menebak dengan benar\n",
      "Angka komputer adalah 7\n"
     ]
    }
   ],
   "source": [
    "#while loop\n",
    "angka_komputer = randint(1,10)\n",
    "angka_tebakan = 0\n",
    "while angka_tebakan != angka_komputer:\n",
    "    angka_tebakan = input(\"Masukan Tebakan Anda : \")\n",
    "    angka_tebakan = int(angka_tebakan)\n",
    "    if angka_tebakan < angka_komputer:\n",
    "        print(\"Angka terlalu kecil\") \n",
    "    elif angka_tebakan > angka_komputer:\n",
    "        print(\"Angka terlalu besar\")\n",
    "    else:\n",
    "        print(\"Selamat, anda menebak dengan benar\")\n",
    "        print(f\"Angka komputer adalah {angka_komputer}\")"
   ]
  },
  {
   "cell_type": "code",
   "execution_count": 33,
   "metadata": {},
   "outputs": [
    {
     "name": "stdout",
     "output_type": "stream",
     "text": [
      "Selamat, anda menebak dengan benar\n",
      "Angka komputer adalah 7\n"
     ]
    }
   ],
   "source": [
    "#break, mendesain program tapi ga bagus\n",
    "#program yang bagus, tanpa break\n",
    "#while loop\n",
    "angka_komputer = randint(1,10)\n",
    "angka_tebakan = 0\n",
    "kesempatan = 3\n",
    "while angka_tebakan != angka_komputer and kesempatan > 0:\n",
    "    angka_tebakan = input(\"Masukan Tebakan Anda : \")\n",
    "    angka_tebakan = int(angka_tebakan)\n",
    "    if angka_tebakan < angka_komputer:\n",
    "        print(\"Angka terlalu kecil\") \n",
    "        kesempatan -= 1\n",
    "    elif angka_tebakan > angka_komputer:\n",
    "        print(\"Angka terlalu besar\")\n",
    "        kesempatan -= 1\n",
    "    else:\n",
    "        print(\"Selamat, anda menebak dengan benar\")\n",
    "        print(f\"Angka komputer adalah {angka_komputer}\")\n",
    "    if kesempatan == 0:\n",
    "        print(\"Anda kalah, cupu!\")"
   ]
  },
  {
   "cell_type": "code",
   "execution_count": 34,
   "metadata": {},
   "outputs": [
    {
     "name": "stdout",
     "output_type": "stream",
     "text": [
      "Selamat, anda menebak dengan benar\n",
      "Angka komputer adalah 5\n",
      "Anda punya 2 kesempatan tersisa\n"
     ]
    }
   ],
   "source": [
    "#break, mendesain program tapi ga bagus\n",
    "#program yang bagus, tanpa break\n",
    "#while loop\n",
    "angka_komputer = randint(1,10)\n",
    "angka_tebakan = 0\n",
    "kesempatan = 3\n",
    "while angka_tebakan != angka_komputer and kesempatan > 0:\n",
    "    angka_tebakan = input(\"Masukan Tebakan Anda : \")\n",
    "    angka_tebakan = int(angka_tebakan)\n",
    "    if angka_tebakan < angka_komputer:\n",
    "        print(\"Angka terlalu kecil\") \n",
    "        kesempatan -= 1\n",
    "    elif angka_tebakan > angka_komputer:\n",
    "        print(\"Angka terlalu besar\")\n",
    "        kesempatan -= 1\n",
    "    else:\n",
    "        print(\"Selamat, anda menebak dengan benar\")\n",
    "        print(f\"Angka komputer adalah {angka_komputer}\")\n",
    "        print(f\"Anda punya {kesempatan-1} kesempatan tersisa\") \n",
    "    if kesempatan == 0:\n",
    "        print(\"Anda kalah, cupu!\")"
   ]
  }
 ],
 "metadata": {
  "interpreter": {
   "hash": "89054f449b9ab7853855a686a36f64326c8e981c5bf4a801a680e6ca278f9c9e"
  },
  "kernelspec": {
   "display_name": "Python 3.10.1 64-bit",
   "language": "python",
   "name": "python3"
  },
  "language_info": {
   "codemirror_mode": {
    "name": "ipython",
    "version": 3
   },
   "file_extension": ".py",
   "mimetype": "text/x-python",
   "name": "python",
   "nbconvert_exporter": "python",
   "pygments_lexer": "ipython3",
   "version": "3.10.1"
  },
  "orig_nbformat": 4
 },
 "nbformat": 4,
 "nbformat_minor": 2
}
