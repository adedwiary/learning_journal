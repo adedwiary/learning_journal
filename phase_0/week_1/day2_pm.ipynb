{
 "cells": [
  {
   "cell_type": "code",
   "execution_count": 10,
   "metadata": {},
   "outputs": [],
   "source": [
    "angka = 10"
   ]
  },
  {
   "cell_type": "code",
   "execution_count": 11,
   "metadata": {},
   "outputs": [
    {
     "data": {
      "text/plain": [
       "10"
      ]
     },
     "execution_count": 11,
     "metadata": {},
     "output_type": "execute_result"
    }
   ],
   "source": [
    "angka"
   ]
  },
  {
   "cell_type": "code",
   "execution_count": 12,
   "metadata": {},
   "outputs": [
    {
     "data": {
      "text/plain": [
       "True"
      ]
     },
     "execution_count": 12,
     "metadata": {},
     "output_type": "execute_result"
    }
   ],
   "source": [
    "5==5 #Operator assignment =, operator perbandingan =="
   ]
  },
  {
   "cell_type": "code",
   "execution_count": 13,
   "metadata": {},
   "outputs": [
    {
     "data": {
      "text/plain": [
       "False"
      ]
     },
     "execution_count": 13,
     "metadata": {},
     "output_type": "execute_result"
    }
   ],
   "source": [
    "5==10"
   ]
  },
  {
   "cell_type": "code",
   "execution_count": 14,
   "metadata": {},
   "outputs": [
    {
     "data": {
      "text/plain": [
       "False"
      ]
     },
     "execution_count": 14,
     "metadata": {},
     "output_type": "execute_result"
    }
   ],
   "source": [
    "angka == 15"
   ]
  },
  {
   "cell_type": "code",
   "execution_count": 15,
   "metadata": {},
   "outputs": [
    {
     "data": {
      "text/plain": [
       "True"
      ]
     },
     "execution_count": 15,
     "metadata": {},
     "output_type": "execute_result"
    }
   ],
   "source": [
    "angka == 10 "
   ]
  },
  {
   "cell_type": "code",
   "execution_count": 19,
   "metadata": {},
   "outputs": [
    {
     "name": "stdout",
     "output_type": "stream",
     "text": [
      "8 lebih besar dari 10\n"
     ]
    }
   ],
   "source": [
    "angka = 8\n",
    "print(f\"{angka} lebih besar dari 10\") #fungsi f agar nilai angka keluar"
   ]
  },
  {
   "cell_type": "code",
   "execution_count": 26,
   "metadata": {},
   "outputs": [
    {
     "name": "stdout",
     "output_type": "stream",
     "text": [
      "f{angka} lebih kecil dari 10\n",
      "ini di luar if\n"
     ]
    }
   ],
   "source": [
    "angka = 9\n",
    "if angka > 10: #dijalankan jika true, tidak dijalankan false\n",
    "    print(f\"{angka} lebih besar dari 10\")\n",
    "    print(\"ini masih di dalam kondisi if\") #tidak dijalankan karena masih sejajar dengan baris sebelumnya, masih dalam kondisi if\n",
    "else:\n",
    "    print(\"f{angka} lebih kecil dari 10\")\n",
    "print(\"ini di luar if\")"
   ]
  },
  {
   "cell_type": "markdown",
   "metadata": {},
   "source": [
    "### looping"
   ]
  },
  {
   "cell_type": "code",
   "execution_count": null,
   "metadata": {},
   "outputs": [],
   "source": [
    "print(\"Halo Ade, apa kabar ?\") #copy paste manual 10x, tidak efisien\n",
    "print(\"Halo Ade, apa kabar ?\")\n",
    "print(\"Halo Ade, apa kabar ?\")\n",
    "print(\"Halo Ade, apa kabar ?\")\n",
    "print(\"Halo Ade, apa kabar ?\")\n",
    "print(\"Halo Ade, apa kabar ?\")\n",
    "print(\"Halo Ade, apa kabar ?\")\n",
    "print(\"Halo Ade, apa kabar ?\")\n",
    "print(\"Halo Ade, apa kabar ?\")\n",
    "print(\"Halo Ade, apa kabar ?\")"
   ]
  },
  {
   "cell_type": "code",
   "execution_count": 29,
   "metadata": {},
   "outputs": [
    {
     "name": "stdout",
     "output_type": "stream",
     "text": [
      "kali : 0\n",
      "Halo Ade, apa kabar?\n",
      "kali : 1\n",
      "Halo Ade, apa kabar?\n",
      "kali : 2\n",
      "Halo Ade, apa kabar?\n",
      "kali : 3\n",
      "Halo Ade, apa kabar?\n",
      "kali : 4\n",
      "Halo Ade, apa kabar?\n"
     ]
    }
   ],
   "source": [
    "#diprint dulu baru diupdate\n",
    "kali = 0\n",
    "while kali < 5:\n",
    "    print(f\"kali : {kali}\")\n",
    "    print(\"Halo Ade, apa kabar?\")\n",
    "    kali = kali + 1 #statement agar looping berhenti"
   ]
  },
  {
   "cell_type": "code",
   "execution_count": 30,
   "metadata": {},
   "outputs": [
    {
     "name": "stdout",
     "output_type": "stream",
     "text": [
      "kali : 1\n",
      "Halo Ade, apa kabar?\n",
      "kali : 2\n",
      "Halo Ade, apa kabar?\n",
      "kali : 3\n",
      "Halo Ade, apa kabar?\n",
      "kali : 4\n",
      "Halo Ade, apa kabar?\n",
      "kali : 5\n",
      "Halo Ade, apa kabar?\n"
     ]
    }
   ],
   "source": [
    "#diberi statetment dulu baru diprint\n",
    "kali = 0\n",
    "while kali < 5:\n",
    "    kali = kali + 1 #statement agar looping berhenti\n",
    "    print(f\"kali : {kali}\")\n",
    "    print(\"Halo Ade, apa kabar?\")"
   ]
  },
  {
   "cell_type": "code",
   "execution_count": 48,
   "metadata": {},
   "outputs": [],
   "source": [
    "list_makanan = []\n",
    "makanan = ''\n",
    "while makanan != 'cukup' :\n",
    "    if makanan != '':\n",
    "        list_makanan.append(makanan)\n",
    "    makanan = input(\"Masukan pesanan anda : \")"
   ]
  },
  {
   "cell_type": "code",
   "execution_count": 49,
   "metadata": {},
   "outputs": [
    {
     "data": {
      "text/plain": [
       "['mie ayam', 'nasi goreng', 'es jeruk']"
      ]
     },
     "execution_count": 49,
     "metadata": {},
     "output_type": "execute_result"
    }
   ],
   "source": [
    "list_makanan"
   ]
  },
  {
   "cell_type": "code",
   "execution_count": 40,
   "metadata": {},
   "outputs": [
    {
     "name": "stdout",
     "output_type": "stream",
     "text": [
      "7 x 1 = 7\n",
      "7 x 2 = 14\n",
      "7 x 3 = 21\n"
     ]
    }
   ],
   "source": [
    "# tabel perkalian\n",
    "print(f\"{7} x {1} = {7*1}\")\n",
    "print(f\"{7} x {2} = {7*2}\")\n",
    "print(f\"{7} x {3} = {7*3}\")"
   ]
  },
  {
   "cell_type": "code",
   "execution_count": 43,
   "metadata": {},
   "outputs": [
    {
     "name": "stdout",
     "output_type": "stream",
     "text": [
      "7 x 1 = 7\n",
      "7 x 3 = 21\n",
      "7 x 5 = 35\n",
      "7 x 7 = 49\n",
      "7 x 9 = 63\n"
     ]
    }
   ],
   "source": [
    "i = 1\n",
    "while i <= 10:\n",
    "    print(f\"{7} x {i} = {7*i}\")\n",
    "    i = i + 1\n",
    "    i += 1"
   ]
  },
  {
   "cell_type": "code",
   "execution_count": 52,
   "metadata": {},
   "outputs": [
    {
     "name": "stdout",
     "output_type": "stream",
     "text": [
      "saya jual pepaya\n",
      "saya jual mangga\n",
      "saya jual pisang\n",
      "saya jual jambu\n",
      "saya jual pepaya\n",
      "saya jual mangga\n",
      "saya jual pisang\n",
      "saya jual jambu\n"
     ]
    }
   ],
   "source": [
    "#For Loop\n",
    "buahbuahan = [\"pepaya\", \"mangga\", \"pisang\", \"jambu\"]\n",
    "print(\"saya jual pepaya\") #manual\n",
    "print(\"saya jual mangga\")\n",
    "print(\"saya jual pisang\")\n",
    "print(\"saya jual jambu\")\n",
    "for item in buahbuahan: #syntax for loop\n",
    "    print(f\"saya jual {item}\")"
   ]
  },
  {
   "cell_type": "code",
   "execution_count": 53,
   "metadata": {},
   "outputs": [
    {
     "name": "stdout",
     "output_type": "stream",
     "text": [
      "7 x 1 = 7\n",
      "7 x 2 = 14\n",
      "7 x 3 = 21\n",
      "7 x 4 = 28\n",
      "7 x 5 = 35\n",
      "7 x 6 = 42\n",
      "7 x 7 = 49\n",
      "7 x 8 = 56\n",
      "7 x 9 = 63\n",
      "7 x 10 = 70\n"
     ]
    }
   ],
   "source": [
    "for i in (1,2,3,4,5,6,7,8,9,10):\n",
    "    print(f\"{7} x {i} = {7*i}\")"
   ]
  },
  {
   "cell_type": "code",
   "execution_count": 57,
   "metadata": {},
   "outputs": [
    {
     "data": {
      "text/plain": [
       "[0, 1, 2, 3, 4, 5, 6, 7, 8, 9]"
      ]
     },
     "execution_count": 57,
     "metadata": {},
     "output_type": "execute_result"
    }
   ],
   "source": [
    "#range syntax (a,b,n)\n",
    "#range(1,10,1) #dalam pikiran kita\n",
    "list(range(1,10,1))\n",
    "\n"
   ]
  },
  {
   "cell_type": "code",
   "execution_count": 58,
   "metadata": {},
   "outputs": [
    {
     "data": {
      "text/plain": [
       "[1, 3, 5, 7, 9]"
      ]
     },
     "execution_count": 58,
     "metadata": {},
     "output_type": "execute_result"
    }
   ],
   "source": [
    "list(range(1,10,2))\n"
   ]
  },
  {
   "cell_type": "code",
   "execution_count": 59,
   "metadata": {},
   "outputs": [
    {
     "data": {
      "text/plain": [
       "[0, 1, 2, 3, 4, 5, 6, 7, 8, 9]"
      ]
     },
     "execution_count": 59,
     "metadata": {},
     "output_type": "execute_result"
    }
   ],
   "source": [
    "list(range(0,10,1))"
   ]
  },
  {
   "cell_type": "code",
   "execution_count": 60,
   "metadata": {},
   "outputs": [
    {
     "data": {
      "text/plain": [
       "[1, 2, 3, 4, 5, 6, 7, 8, 9, 10]"
      ]
     },
     "execution_count": 60,
     "metadata": {},
     "output_type": "execute_result"
    }
   ],
   "source": [
    "list(range(1,11))"
   ]
  },
  {
   "cell_type": "code",
   "execution_count": 61,
   "metadata": {},
   "outputs": [
    {
     "name": "stdout",
     "output_type": "stream",
     "text": [
      "7 x 1 = 7\n",
      "7 x 2 = 14\n",
      "7 x 3 = 21\n",
      "7 x 4 = 28\n",
      "7 x 5 = 35\n",
      "7 x 6 = 42\n"
     ]
    }
   ],
   "source": [
    "# special keyword : break\n",
    "for i in range(1,11):\n",
    "    if i == 7:\n",
    "        break\n",
    "    print(f\"{7} x {i} = {7*i}\")"
   ]
  },
  {
   "cell_type": "code",
   "execution_count": 66,
   "metadata": {},
   "outputs": [
    {
     "name": "stdout",
     "output_type": "stream",
     "text": [
      "7 x 1 = 7\n",
      "7 x 2 = 14\n",
      "7 x 3 = 21\n",
      "7 x 4 = 28\n",
      "7 x 5 = 35\n",
      "7 x 6 = 42\n",
      "7 x 7 = 49\n"
     ]
    }
   ],
   "source": [
    "# special keyword : break\n",
    "for i in range(1,11):\n",
    "    print(f\"{7} x {i} = {7*i}\")\n",
    "    if i == 7:\n",
    "        break"
   ]
  },
  {
   "cell_type": "code",
   "execution_count": 63,
   "metadata": {},
   "outputs": [
    {
     "name": "stdout",
     "output_type": "stream",
     "text": [
      "7 x 1 = 7\n",
      "7 x 2 = 14\n",
      "7 x 3 = 21\n",
      "7 x 4 = 28\n",
      "7 x 5 = 35\n",
      "7 x 6 = 42\n",
      "7 x 8 = 56\n",
      "7 x 9 = 63\n",
      "7 x 10 = 70\n"
     ]
    }
   ],
   "source": [
    "# special keyword : continue\n",
    "# untuk ngeskip looping di loop tertentu\n",
    "for i in range(1,11):\n",
    "    if i == 7:\n",
    "        continue\n",
    "    print(f\"{7} x {i} = {7*i}\")"
   ]
  },
  {
   "cell_type": "code",
   "execution_count": 65,
   "metadata": {},
   "outputs": [
    {
     "name": "stdout",
     "output_type": "stream",
     "text": [
      "7 x 1 = 7\n",
      "7 x 2 = 14\n",
      "7 x 3 = 21\n",
      "7 x 4 = 28\n",
      "7 x 5 = 35\n",
      "7 x 6 = 42\n",
      "7 x 7 = 49\n",
      "7 x 8 = 56\n",
      "7 x 9 = 63\n",
      "7 x 10 = 70\n"
     ]
    }
   ],
   "source": [
    "# special keyword : continue\n",
    "# untuk ngeskip looping di loop tertentu\n",
    "for i in range(1,11):\n",
    "    print(f\"{7} x {i} = {7*i}\")\n",
    "    if i == 7:\n",
    "        continue\n",
    "    "
   ]
  },
  {
   "cell_type": "code",
   "execution_count": 67,
   "metadata": {},
   "outputs": [],
   "source": [
    "#while loop sensitif untuk jadi infinity loop"
   ]
  },
  {
   "cell_type": "code",
   "execution_count": null,
   "metadata": {},
   "outputs": [],
   "source": [
    "i = 0\n",
    "while i < 10:\n",
    "    i += "
   ]
  },
  {
   "cell_type": "code",
   "execution_count": 68,
   "metadata": {},
   "outputs": [],
   "source": [
    "from random import randint"
   ]
  },
  {
   "cell_type": "code",
   "execution_count": 69,
   "metadata": {},
   "outputs": [
    {
     "data": {
      "text/plain": [
       "10"
      ]
     },
     "execution_count": 69,
     "metadata": {},
     "output_type": "execute_result"
    }
   ],
   "source": [
    "randint(1,10)"
   ]
  },
  {
   "cell_type": "code",
   "execution_count": 71,
   "metadata": {},
   "outputs": [
    {
     "data": {
      "text/plain": [
       "False"
      ]
     },
     "execution_count": 71,
     "metadata": {},
     "output_type": "execute_result"
    }
   ],
   "source": [
    "a = 8\n",
    "b = input(\"Masukan angka : \")\n",
    "a == b #False karena beda type, a integer, b string"
   ]
  },
  {
   "cell_type": "code",
   "execution_count": null,
   "metadata": {},
   "outputs": [],
   "source": [
    "a = 8\n",
    "b = input(\"Masukan angka : \")\n",
    "a == b"
   ]
  },
  {
   "cell_type": "code",
   "execution_count": 75,
   "metadata": {},
   "outputs": [
    {
     "name": "stdout",
     "output_type": "stream",
     "text": [
      "Angka terlalu besar\n",
      "Angka terlalu besar\n",
      "Angka terlalu besar\n",
      "Angka terlalu besar\n",
      "Angka terlalu besar\n",
      "Selamat, anda menebak dengan benar\n",
      "Angka komputer adalah 2\n"
     ]
    }
   ],
   "source": [
    "#while loop\n",
    "angka_komputer = randint(1,10)\n",
    "angka_tebakan = 0\n",
    "while angka_tebakan != angka_komputer:\n",
    "    angka_tebakan = input(\"Masukan Tebakan Anda : \")\n",
    "    angka_tebakan = int(angka_tebakan)\n",
    "    if angka_tebakan < angka_komputer:\n",
    "        print(\"Angka terlalu kecil\") \n",
    "    elif angka_tebakan > angka_komputer:\n",
    "        print(\"Angka terlalu besar\")\n",
    "    else:\n",
    "        print(\"Selamat, anda menebak dengan benar\")\n",
    "        print(f\"Angka komputer adalah {angka_komputer}\")"
   ]
  },
  {
   "cell_type": "code",
   "execution_count": 77,
   "metadata": {},
   "outputs": [
    {
     "name": "stdout",
     "output_type": "stream",
     "text": [
      "Angka terlalu kecil\n",
      "Selamat, anda menebak dengan benar\n",
      "Angka komputer adalah 3\n"
     ]
    }
   ],
   "source": [
    "#break, mendesain program tapi ga bagus\n",
    "#program yang bagus, tanpa break\n",
    "#while loop\n",
    "angka_komputer = randint(1,10)\n",
    "angka_tebakan = 0\n",
    "kesempatan = 3\n",
    "while angka_tebakan != angka_komputer and kesempatan > 0:\n",
    "    angka_tebakan = input(\"Masukan Tebakan Anda : \")\n",
    "    angka_tebakan = int(angka_tebakan)\n",
    "    if angka_tebakan < angka_komputer:\n",
    "        print(\"Angka terlalu kecil\") \n",
    "        kesempatan -= 1\n",
    "    elif angka_tebakan > angka_komputer:\n",
    "        print(\"Angka terlalu besar\")\n",
    "        kesempatan -= 1\n",
    "    else:\n",
    "        print(\"Selamat, anda menebak dengan benar\")\n",
    "        print(f\"Angka komputer adalah {angka_komputer}\")\n",
    "    if kesempatan == 0:\n",
    "        print(\"Anda kalah, cupu!\")"
   ]
  },
  {
   "cell_type": "code",
   "execution_count": 79,
   "metadata": {},
   "outputs": [
    {
     "name": "stdout",
     "output_type": "stream",
     "text": [
      "Angka terlalu besar\n",
      "Angka terlalu besar\n",
      "Angka terlalu besar\n",
      "Anda kalah, cupu!\n"
     ]
    }
   ],
   "source": [
    "#break, mendesain program tapi ga bagus\n",
    "#program yang bagus, tanpa break\n",
    "#while loop\n",
    "angka_komputer = randint(1,10)\n",
    "angka_tebakan = 0\n",
    "kesempatan = 3\n",
    "while angka_tebakan != angka_komputer and kesempatan > 0:\n",
    "    angka_tebakan = input(\"Masukan Tebakan Anda : \")\n",
    "    angka_tebakan = int(angka_tebakan)\n",
    "    if angka_tebakan < angka_komputer:\n",
    "        print(\"Angka terlalu kecil\") \n",
    "        kesempatan -= 1\n",
    "    elif angka_tebakan > angka_komputer:\n",
    "        print(\"Angka terlalu besar\")\n",
    "        kesempatan -= 1\n",
    "    else:\n",
    "        print(\"Selamat, anda menebak dengan benar\")\n",
    "        print(f\"Angka komputer adalah {angka_komputer}\")\n",
    "        print(f\"Anda punya {kesempatan-1} kesempatan tersisa\") \n",
    "    if kesempatan == 0:\n",
    "        print(\"Anda kalah, cupu!\")"
   ]
  },
  {
   "cell_type": "code",
   "execution_count": null,
   "metadata": {},
   "outputs": [],
   "source": []
  }
 ],
 "metadata": {
  "interpreter": {
   "hash": "89054f449b9ab7853855a686a36f64326c8e981c5bf4a801a680e6ca278f9c9e"
  },
  "kernelspec": {
   "display_name": "Python 3.10.1 64-bit",
   "language": "python",
   "name": "python3"
  },
  "language_info": {
   "codemirror_mode": {
    "name": "ipython",
    "version": 3
   },
   "file_extension": ".py",
   "mimetype": "text/x-python",
   "name": "python",
   "nbconvert_exporter": "python",
   "pygments_lexer": "ipython3",
   "version": "3.10.1"
  },
  "orig_nbformat": 4
 },
 "nbformat": 4,
 "nbformat_minor": 2
}
