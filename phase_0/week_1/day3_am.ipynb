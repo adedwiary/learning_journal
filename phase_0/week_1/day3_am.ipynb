{
 "cells": [
  {
   "cell_type": "markdown",
   "metadata": {},
   "source": [
    "# Python: Functions, Module & Packages"
   ]
  },
  {
   "cell_type": "markdown",
   "metadata": {},
   "source": [
    "## Python Functions"
   ]
  },
  {
   "cell_type": "markdown",
   "metadata": {},
   "source": [
    "Function adalah kode yang terorganisir dan dapat digunakan kembali untuk menjalankan suatu perintah. Function dapat memberikan modularitas yang lebih baik untuk pemrograman dan penggunaan ulang kode tingkat tinggi.\n",
    "\n",
    "Python sudah memiliki fungsi bawaan seperti print(), dll. tetapi kita juga bisa membuat fungsi sendiri. Fungsi-fungsi ini disebut fungsi yang ditentukan pengguna.\n",
    "\n",
    "Mendefinisikan Function\n",
    "Kita dapat menentukan fungsi untuk menyediakan fungsionalitas yang diperlukan. Berikut adalah aturan sederhana untuk mendefinisikan fungsi dalam Python.\n",
    "\n",
    "Function dimulai dengan kata kunci def diikuti dengan nama fungsi dan tanda kurung ( ( ) ). [jangan lupa diakhiri dengan titik dua]\n",
    "Parameter input atau argumen apa pun harus ditempatkan di dalam tanda kurung ini. Anda juga dapat menentukan parameter di dalam tanda kurung ini.\n",
    "Pernyataan pertama dari suatu fungsi dapat berupa pernyataan opsional - string dokumentasi fungsi atau docstring.\n",
    "Kode dalam setiap fungsi dimulai dengan titik dua (:) dan menjorok.\n",
    "Pernyataan return [ekspresi] digunakan untuk meneruskan kembali ekspresi ke pemanggil (opsional). Return tanpa argumen, output yang dihasilkan yaitu return None, jadi harus diberi argumen terlebih dahulu."
   ]
  },
  {
   "cell_type": "markdown",
   "metadata": {},
   "source": [
    "### Defining a Function"
   ]
  },
  {
   "cell_type": "markdown",
   "metadata": {},
   "source": [
    "Kita dapat menentukan fungsi untuk menyediakan fungsionalitas yang diperlukan. Berikut adalah aturan sederhana untuk mendefinisikan fungsi dalam Python.\n",
    "\n",
    "* Function dimulai dengan kata kunci def diikuti dengan nama fungsi dan tanda kurung ( ( ) ). [jangan lupa diakhiri dengan titik dua]\n",
    "* Parameter input atau argumen apa pun harus ditempatkan di dalam tanda kurung ini. Anda juga dapat menentukan parameter di dalam tanda kurung ini.\n",
    "* Argumen dari suatu fungsi dapat argumen opsional - string dokumentasi fungsi atau docstring.\n",
    "* Kode dalam setiap fungsi dimulai dengan titik dua (:) dan menjorok.\n",
    "* Pernyataan return [ekspresi] digunakan untuk meneruskan kembali ekspresi ke pemanggil (opsional). Return tanpa argumen, output yang dihasilkan yaitu return None, jadi harus diberi argumen terlebih dahulu.\n",
    "\n",
    "```\n",
    "def function_name ( parameter ):\n",
    "   '''doktrin'''\n",
    "   pernyataan\n",
    "```\n",
    "\n",
    "Secara default, parameter memiliki perilaku posisi dan kita perlu memberi tahu mereka dalam urutan yang sama seperti yang ditentukan.\n",
    "\n",
    "String pertama setelah header fungsi disebut docstring dan merupakan kependekan dari dokumentasi string. Ini digunakan untuk menjelaskan secara singkat, apa yang dilakukan suatu fungsi. (''')\n",
    "\n",
    "Meskipun opsional, dokumentasi adalah praktik pemrograman yang baik. Kecuali kita dapat mengingat apa yang kita makan, pada makan malam minggu lalu. Maka harus selalu dokumentasikan kode!\n",
    "\n",
    "Dalam contoh di atas, docstring tepat di bawah header fungsi. Biasanya menggunakan tanda kutip tiga sehingga docstring dapat diperpanjang hingga beberapa baris. String ini tersedia sebagai atribut `__doc__` dari fungsi tersebut."
   ]
  },
  {
   "cell_type": "code",
   "execution_count": 1,
   "metadata": {},
   "outputs": [],
   "source": [
    "# Example of Function Creation\n",
    "\n",
    "def my_function(p, l):\n",
    "    '''Function to calculate area of a square'''\n",
    "    print(p * l)\n",
    "\n",
    "\n",
    "def printme( str_input ):\n",
    "   '''This prints a passed string into this function'''\n",
    "   print(str_input)"
   ]
  },
  {
   "cell_type": "markdown",
   "metadata": {},
   "source": [
    "### Memanggil Fungsi\n",
    "\n",
    "Mendefinisikan fungsi hanya memberinya 'nama', kita juga harus menentukan parameter yang akan dimasukkan dalam fungsi dan kode. Setelah struktur dasar suatu fungsi diselesaikan, Kita dapat menjalankannya dengan memanggilnya dari fungsi lain atau langsung dari prompt Python. Kode di bawah ini adalah contoh untuk memanggil fungsi `printme()`."
   ]
  },
  {
   "cell_type": "code",
   "execution_count": 6,
   "metadata": {},
   "outputs": [
    {
     "name": "stdout",
     "output_type": "stream",
     "text": [
      "I'm first call to user defined function!\n",
      "Again second call to the same function\n"
     ]
    }
   ],
   "source": [
    "# Function definition is here\n",
    "def printme( str_input ):\n",
    "   '''This prints a passed string into this function'''\n",
    "   print(str_input)\n",
    "\n",
    "# Now you can call printme function\n",
    "printme(\"I'm first call to user defined function!\")\n",
    "printme(\"Again second call to the same function\")"
   ]
  },
  {
   "cell_type": "code",
   "execution_count": 13,
   "metadata": {},
   "outputs": [
    {
     "name": "stdout",
     "output_type": "stream",
     "text": [
      "5\n"
     ]
    }
   ],
   "source": [
    "def my_function(p,l):\n",
    "    '''function to calculate area of a square'''\n",
    "    print(p*l)\n",
    "\n",
    "my_function(5,1)"
   ]
  },
  {
   "cell_type": "code",
   "execution_count": 5,
   "metadata": {},
   "outputs": [
    {
     "name": "stdout",
     "output_type": "stream",
     "text": [
      "Member Super Junior KRY adalah Kyuhyun Ryeowook Yesung\n"
     ]
    }
   ],
   "source": [
    "def member_sjkry(member1, member2, member3):\n",
    "    '''Fungsi ini digunakan untuk menyebutkan member super junior kry'''\n",
    "    print(\"Member Super Junior KRY adalah\", member1, member2, member3)\n",
    "\n",
    "# Siapa saja member super junior kry?\n",
    "member1 = 'Kyuhyun'\n",
    "member2 = 'Ryeowook'\n",
    "member3 = 'Yesung'\n",
    "\n",
    "# Menampilkan fungsi member_sjkry\n",
    "member_sjkry(member1, member2, member3)"
   ]
  },
  {
   "cell_type": "code",
   "execution_count": 11,
   "metadata": {},
   "outputs": [
    {
     "name": "stdout",
     "output_type": "stream",
     "text": [
      "Hello Liu Fei\n",
      "Welcome aboard\n"
     ]
    }
   ],
   "source": [
    "def greet(first_name, last_name):\n",
    "    print(f\"Hello {first_name} {last_name}\")\n",
    "    print(\"Welcome aboard\")\n",
    "\n",
    "\n",
    "greet(\"Liu\", \"Fei\") #inputnya Liu sebagai first_name dan Fei sebagai last_name"
   ]
  },
  {
   "cell_type": "code",
   "execution_count": 12,
   "metadata": {},
   "outputs": [
    {
     "name": "stdout",
     "output_type": "stream",
     "text": [
      "Hello Gongju Wangja\n",
      "Welcome sis/bro\n"
     ]
    }
   ],
   "source": [
    "def greet(first_name, last_name):\n",
    "    print(f\"Hello {first_name} {last_name}\")\n",
    "    print(\"Welcome sis/bro\")\n",
    "\n",
    "greet(\"Gongju\",\"Wangja\")"
   ]
  },
  {
   "cell_type": "code",
   "execution_count": 14,
   "metadata": {},
   "outputs": [
    {
     "name": "stdout",
     "output_type": "stream",
     "text": [
      "kyuhyun ryeowook yesung\n"
     ]
    }
   ],
   "source": [
    "def member_kry (member1, member2, member3):\n",
    "    print(member1, member2, member3)\n",
    "\n",
    "member_kry('kyuhyun','ryeowook','yesung')"
   ]
  },
  {
   "cell_type": "markdown",
   "metadata": {},
   "source": [
    "### Pass by reference vs value\n",
    "\n",
    "Semua parameter (argumen) dalam bahasa Python termasuk dalam referensi. Artinya, jika mengubah parameter dalam suatu fungsi, maka fungsi 'call' juga akan berubah."
   ]
  },
  {
   "cell_type": "code",
   "execution_count": 7,
   "metadata": {},
   "outputs": [
    {
     "name": "stdout",
     "output_type": "stream",
     "text": [
      "\n",
      "Values outside the function - before :  [10, 20, 30]\n",
      "\n",
      "Values inside the function :  [10, 20, 30, 1, 2, 3, 4]\n",
      "\n",
      "Values outside the function - after  :  [10, 20, 30, 1, 2, 3, 4]\n"
     ]
    }
   ],
   "source": [
    "# Function definition is here\n",
    "def changeme( mylist ):\n",
    "   '''This changes a passed list into this function'''\n",
    "   mylist = mylist+[1,2,3,4]\n",
    "   print(\"\\nValues inside the function : \", mylist)\n",
    "   return mylist\n",
    "\n",
    "# Now you can call changeme function\n",
    "mylist = [10,20,30]\n",
    "print(\"\\nValues outside the function - before : \", mylist)\n",
    "mylist = changeme( mylist )\n",
    "print(\"\\nValues outside the function - after  : \", mylist)"
   ]
  },
  {
   "cell_type": "code",
   "execution_count": 11,
   "metadata": {},
   "outputs": [
    {
     "name": "stdout",
     "output_type": "stream",
     "text": [
      "\n",
      "Kelas LR awal : [12, 13, 14, 22]\n",
      "\n",
      "Kelas LR + kelas 3 :  [12, 13, 14, 22, 31, 32, 36]\n",
      "\n",
      "Kelas LR akhir : [12, 13, 14, 22, 31, 32, 36]\n"
     ]
    }
   ],
   "source": [
    "def kelaslr( listkelas ):\n",
    "    '''Fungsi ini akan mengubah list'''\n",
    "    listkelas = listkelas+[31,32,36]\n",
    "    print(\"\\nKelas LR + kelas 3 : \", listkelas)\n",
    "    return listkelas\n",
    "\n",
    "# Call kelaslr\n",
    "listkelas = [12,13,14,22]\n",
    "print(\"\\nKelas LR awal :\", listkelas)\n",
    "listkelas = kelaslr( listkelas )\n",
    "print(\"\\nKelas LR akhir :\", listkelas)"
   ]
  },
  {
   "cell_type": "markdown",
   "metadata": {},
   "source": [
    "Contoh lain, fungsi sudah memiliki referensi, tetapi di luar fungsi ada referensi lain:"
   ]
  },
  {
   "cell_type": "code",
   "execution_count": 12,
   "metadata": {},
   "outputs": [
    {
     "name": "stdout",
     "output_type": "stream",
     "text": [
      "Values inside the function  :  [1, 2, 3, 4]\n",
      "Values outside the function :  [10, 20, 30]\n"
     ]
    }
   ],
   "source": [
    "# Function definition is here\n",
    "def changeme( mylist ):\n",
    "   '''This changes a passed list into this function'''\n",
    "   mylist = [1, 2, 3, 4] # This would assign new reference in mylist\n",
    "   print(\"Values inside the function  : \", mylist)\n",
    "\n",
    "# Now you can call changeme function\n",
    "mylist = [10, 20, 30]\n",
    "changeme( mylist )\n",
    "print(\"Values outside the function : \", mylist)"
   ]
  },
  {
   "cell_type": "code",
   "execution_count": 13,
   "metadata": {},
   "outputs": [
    {
     "name": "stdout",
     "output_type": "stream",
     "text": [
      "\n",
      "Kelas LR + kelas 3 :  [31, 32, 36]\n",
      "\n",
      "Kelas LR awal : [12, 13, 14, 22]\n"
     ]
    }
   ],
   "source": [
    "def kelaslr( listkelas ):\n",
    "    '''Fungsi ini akan mengubah list'''\n",
    "    listkelas = [31,32,36] #ini referensi yang baru di listkelas\n",
    "    print(\"\\nKelas LR + kelas 3 : \", listkelas)\n",
    "    return listkelas\n",
    "\n",
    "# Call kelaslr\n",
    "listkelas = [12,13,14,22]\n",
    "kelaslr( listkelas ) #bisa langsung di-call\n",
    "print(\"\\nKelas LR awal :\", listkelas)"
   ]
  },
  {
   "cell_type": "markdown",
   "metadata": {},
   "source": [
    "### Function Arguments\n",
    "\n",
    "Tipe argumen:\n",
    "\n",
    "- Required arguments\n",
    "- Keyword arguments\n",
    "- Default arguments\n",
    "- Variable-length arguments"
   ]
  },
  {
   "cell_type": "markdown",
   "metadata": {},
   "source": [
    "#### **Required arguments**"
   ]
  },
  {
   "cell_type": "code",
   "execution_count": 1,
   "metadata": {},
   "outputs": [
    {
     "name": "stdout",
     "output_type": "stream",
     "text": [
      "Hello\n"
     ]
    }
   ],
   "source": [
    "# Function definition is here\n",
    "def printme( str_input ):\n",
    "   '''This prints a passed string into this function'''\n",
    "   print(str_input)\n",
    " \n",
    "# Now you can call printme function\n",
    "printme(\"Hello\")\n",
    "\n",
    "# # This syntax will give you an error\n",
    "# printme()"
   ]
  },
  {
   "cell_type": "code",
   "execution_count": 2,
   "metadata": {},
   "outputs": [
    {
     "name": "stdout",
     "output_type": "stream",
     "text": [
      "Area :  2000\n"
     ]
    }
   ],
   "source": [
    "# Function definition is here\n",
    "def calculate_rect(length, width):\n",
    "  '''This function is used to calculate area of rectangle'''\n",
    "  print('Area : ', length*width)\n",
    "\n",
    "# Define parameters\n",
    "length = 100\n",
    "width = 20\n",
    "\n",
    "# Call calculate_rect\n",
    "calculate_rect(length, width)\n",
    "\n",
    "# # This syntax will give you an error\n",
    "# calculate_rect(length)"
   ]
  },
  {
   "cell_type": "markdown",
   "metadata": {},
   "source": [
    "#### **Keyword Arguments**"
   ]
  },
  {
   "cell_type": "code",
   "execution_count": 3,
   "metadata": {},
   "outputs": [
    {
     "name": "stdout",
     "output_type": "stream",
     "text": [
      "Hacktiv8\n"
     ]
    }
   ],
   "source": [
    "# Function definition is here\n",
    "def printme( str_input ):\n",
    "   '''This prints a passed string into this function'''\n",
    "   print(str_input)\n",
    "\n",
    "# Now you can call printme function\n",
    "printme(str_input = \"Hacktiv8\")"
   ]
  },
  {
   "cell_type": "code",
   "execution_count": 4,
   "metadata": {},
   "outputs": [
    {
     "name": "stdout",
     "output_type": "stream",
     "text": [
      "Name :  a\n",
      "Age. :  4\n"
     ]
    }
   ],
   "source": [
    "# Function definition is here\n",
    "def printinfo( name, age ):\n",
    "   '''This prints a passed info into this function'''\n",
    "   print(\"Name : \", name)\n",
    "   print(\"Age. : \", age)\n",
    "\n",
    "# Now you can call printinfo function\n",
    "printinfo( age=4, name=\"a\" )"
   ]
  },
  {
   "cell_type": "markdown",
   "metadata": {},
   "source": [
    "#### **Default Arguments**\n",
    "\n",
    "Argumen default adalah argumen yang **mengasumsikan nilai default jika nilai tidak diberikan** dalam pemanggilan fungsi. Seperti contoh berikut, ia akan tetap mencetak `age` secara default jika tidak diteruskan."
   ]
  },
  {
   "cell_type": "code",
   "execution_count": 5,
   "metadata": {},
   "outputs": [
    {
     "name": "stdout",
     "output_type": "stream",
     "text": [
      "Name :  hacktiv8\n",
      "Age  :  50\n",
      "\n",
      "Name :  hacktiv\n",
      "Age  :  26\n",
      "\n"
     ]
    }
   ],
   "source": [
    "# Function definition is here\n",
    "def printinfo( name, age = 26 ):\n",
    "   '''This prints a passed info into this function'''\n",
    "   print(\"Name : \", name)\n",
    "   print(\"Age  : \", age)\n",
    "   print(\"\")\n",
    "\n",
    "# Now you can call printinfo function\n",
    "printinfo( age=50, name=\"hacktiv8\" )\n",
    "printinfo( name=\"hacktiv\" )"
   ]
  },
  {
   "cell_type": "code",
   "execution_count": 6,
   "metadata": {},
   "outputs": [
    {
     "name": "stdout",
     "output_type": "stream",
     "text": [
      "Name :  hacktiv8\n",
      "Age  :  50\n",
      "\n"
     ]
    }
   ],
   "source": [
    "# Function definition is here\n",
    "def printinfo( name, age = 26 ):\n",
    "   '''This prints a passed info into this function'''\n",
    "   print(\"Name : \", name)\n",
    "   print(\"Age  : \", age)\n",
    "   print(\"\")\n",
    "\n",
    "# Now you can call printinfo function\n",
    "printinfo( age=50, name=\"hacktiv8\" )"
   ]
  },
  {
   "cell_type": "markdown",
   "metadata": {},
   "source": [
    "#### **Variable-length Arguments**\n",
    "\n",
    "```py\n",
    "def functionname(args, *var_args_tuple ):\n",
    "   '''function_docstring'''\n",
    "   function_suite\n",
    "   return [expression]\n",
    "```\n",
    "Asterik (`*`) ditempatkan sebelum nama variabel bukan kata kunci. Variabel dalam asterik, akan disimpan ke dalam `tuple`. `Tuple` ini tetap kosong jika tidak ada argumen tambahan yang ditentukan selama pemanggilan fungsi."
   ]
  },
  {
   "cell_type": "code",
   "execution_count": 7,
   "metadata": {},
   "outputs": [
    {
     "name": "stdout",
     "output_type": "stream",
     "text": [
      "arg1     :  10\n",
      "vartuple :  ()\n",
      "\n",
      "arg1     :  70\n",
      "vartuple :  (60, 50, 'a')\n",
      "\n",
      "isi vartuple :  60\n",
      "isi vartuple :  50\n",
      "isi vartuple :  a\n"
     ]
    }
   ],
   "source": [
    "# Function definition is here\n",
    "def printinfo( arg1, *vartuple ):\n",
    "# def printinfo(arg1, arg2, arg3, arg4):\n",
    "   '''This prints a variable passed arguments'''\n",
    "   print('arg1     : ', arg1)\n",
    "   print('vartuple : ', vartuple)\n",
    "   print('')\n",
    "   \n",
    "   for var in vartuple:\n",
    "      print('isi vartuple : ', var) \n",
    "\n",
    "# Now you can call printinfo function\n",
    "printinfo( 10 )\n",
    "printinfo( 70, 60, 50, \"a\" )"
   ]
  },
  {
   "cell_type": "markdown",
   "metadata": {},
   "source": [
    "Variable-length Argument punya 2 tipe:\n",
    "\n",
    "* `*` : All nonkeyword variables will be saved in a `tuple`.\n",
    "```py\n",
    "def functionname(args, *var_args_tuple ):\n",
    "   '''function_docstring'''\n",
    "   function_suite\n",
    "   return [expression]\n",
    "```\n",
    "\n",
    "* `**` : All nonkeyword variables will be saved in a `dict`.\n",
    "```py\n",
    "def functionname(args, **var_args_dict ):\n",
    "   '''function_docstring'''\n",
    "   function_suite\n",
    "   return [expression]\n",
    "```"
   ]
  },
  {
   "cell_type": "code",
   "execution_count": 8,
   "metadata": {},
   "outputs": [
    {
     "name": "stdout",
     "output_type": "stream",
     "text": [
      "Total Data :  3\n",
      "Person :  jimmy\n",
      "Car    :  chevrolet\n",
      "\n",
      "Person :  frank\n",
      "Car    :  ford\n",
      "\n",
      "Person :  tina\n",
      "Car    :  honda\n",
      "\n",
      "Total Data :  3\n"
     ]
    }
   ],
   "source": [
    "# Create a function with nonkeyword variables\n",
    "\n",
    "def person_car(total_data, **kwargs):\n",
    "  '''Create a function to print who owns what car'''\n",
    "  print('Total Data : ', total_data)\n",
    "  for key, value in kwargs.items():\n",
    "    print('Person : ', key)\n",
    "    print('Car    : ', value)\n",
    "    print('')\n",
    "\n",
    "person_car(3, jimmy='chevrolet', frank='ford', tina='honda')\n",
    "person_car(3)\n",
    "\n",
    "# Parameters (jimmy='chevrolet', frank='ford', tina='honda') will be equal to\n",
    "# kwargs = {\n",
    "#     'jimmy': 'chevrolet',\n",
    "#     'frank': 'ford',\n",
    "#     'tina': 'honda'\n",
    "# }"
   ]
  },
  {
   "cell_type": "markdown",
   "metadata": {},
   "source": [
    "### The Anonymous Functions\n",
    "\n",
    "Anonim karena tidak menggunakan keyword seperti `def`, tapi menggunakan keyword `lambda`.\n",
    "\n",
    "- `lambda` dapat mengambil sejumlah argumen tetapi hanya mengembalikan satu nilai dalam bentuk ekspresi. `lambda` tidak dapat berisi perintah atau beberapa ekspresi.\n",
    "- Fungsi anonim tidak dapat berupa panggilan langsung ke `print` karena `lambda` memerlukan ekspresi\n",
    "- Fungsi `lambda` memiliki namespace lokalnya sendiri dan tidak dapat mengakses variabel selain yang ada di daftar parameternya dan yang ada di namespace global.\n",
    "\n",
    "Sintaks fungsi `lambda` hanya berisi satu pernyataan.\n",
    "\n",
    "Sintaks `lambda` ini mirip dengan variable, lambda perlu variabel.\n",
    "\n",
    "`lambda [arg1 [,arg2,.....argn]]:ekspresi`"
   ]
  },
  {
   "cell_type": "code",
   "execution_count": 9,
   "metadata": {},
   "outputs": [
    {
     "name": "stdout",
     "output_type": "stream",
     "text": [
      "Value of total :  30\n",
      "Value of total :  40\n"
     ]
    }
   ],
   "source": [
    "# Function definition is here\n",
    "sum = lambda arg1, arg2: arg1 + arg2\n",
    "\n",
    "# That lambda function will be equal to :\n",
    "# def sum(arg1, arg2):\n",
    "#     return arg1+arg2\n",
    "\n",
    "# Now you can call sum as a function\n",
    "print(\"Value of total : \", sum( 10, 20 ))\n",
    "print(\"Value of total : \", sum( 20, 20 ))"
   ]
  },
  {
   "cell_type": "markdown",
   "metadata": {},
   "source": [
    "### The `return` Statement\n",
    "\n",
    "`return` berada di luar suatu fungsi, secara opsional meneruskan kembali `ekspresi` pada call. Pernyataan `return` tanpa argumen sama dengan `return None`."
   ]
  },
  {
   "cell_type": "code",
   "execution_count": 10,
   "metadata": {},
   "outputs": [
    {
     "name": "stdout",
     "output_type": "stream",
     "text": [
      "Result function :  30\n"
     ]
    }
   ],
   "source": [
    "# Function definition is here\n",
    "def sum(arg1, arg2):\n",
    "    # Add both the parameters and return them.\"\n",
    "    total = arg1 + arg2\n",
    "    return total\n",
    "\n",
    "# Now you can call sum function\n",
    "total = sum(10, 20)\n",
    "print(\"Result function : \", total)"
   ]
  },
  {
   "cell_type": "markdown",
   "metadata": {},
   "source": [
    "### Lingkup Variabel\n",
    "\n",
    "Semua variabel dalam suatu program mungkin tidak dapat diakses di semua lokasi dalam program, tergantung di mana kita mendeklarasikan variabel.\n",
    "\n",
    "Ada dua lingkup dasar variabel dalam Python\n",
    "\n",
    "- Variabel global\n",
    "- Variabel lokal\n",
    "\n",
    "**Variabel Global vs. Lokal**\n",
    "\n",
    "Variabel lokal yang memiliki cakupan lokal.\n",
    "Variabel global memiliki cakupan global.\n",
    "\n",
    "Variabel lokal hanya dapat diakses di dalam fungsi yang dideklarasikan, sedangkan variabel global dapat diakses di semua fungsi."
   ]
  },
  {
   "cell_type": "code",
   "execution_count": 15,
   "metadata": {},
   "outputs": [
    {
     "name": "stdout",
     "output_type": "stream",
     "text": [
      "Inside the function local total : 30\n",
      "Outside the function global total :  0\n"
     ]
    }
   ],
   "source": [
    "# Declare a global variable\n",
    "total = 0\n",
    "\n",
    "# create sum function\n",
    "def sum(arg1, arg2):\n",
    "    total = arg1 + arg2;\n",
    "    print(\"Inside the function local total :\", total)\n",
    "\n",
    "# call a function\n",
    "sum( 10, 20 )\n",
    "print(\"Outside the function global total : \", total)"
   ]
  },
  {
   "cell_type": "code",
   "execution_count": 16,
   "metadata": {},
   "outputs": [
    {
     "name": "stdout",
     "output_type": "stream",
     "text": [
      "Outside the function global total - before :  0\n",
      "Inside the function local total   :  30\n",
      "Outside the function global total - after  :  30\n"
     ]
    }
   ],
   "source": [
    "# Declare a global variable\n",
    "total = 0\n",
    "\n",
    "# Create sum function\n",
    "def sum( arg1, arg2 ):\n",
    "   total = arg1 + arg2; \n",
    "   print(\"Inside the function local total   : \", total)\n",
    "   return total\n",
    "\n",
    "# Call a function\n",
    "print(\"Outside the function global total - before : \", total)\n",
    "total = sum( 10, 20 )\n",
    "print(\"Outside the function global total - after  : \", total)"
   ]
  },
  {
   "cell_type": "code",
   "execution_count": 17,
   "metadata": {},
   "outputs": [
    {
     "name": "stdout",
     "output_type": "stream",
     "text": [
      "nama teman saya adalah ade\n"
     ]
    }
   ],
   "source": [
    "nama= 'ade'#global variabel\n",
    "\n",
    "def myfunc():\n",
    "    print('nama teman saya adalah ' + nama)\n",
    "\n",
    "myfunc()"
   ]
  },
  {
   "cell_type": "code",
   "execution_count": 20,
   "metadata": {},
   "outputs": [
    {
     "name": "stdout",
     "output_type": "stream",
     "text": [
      "nama teman saya adalah anita antono\n",
      "ade\n"
     ]
    }
   ],
   "source": [
    "nama= 'ade' #global variabel\n",
    "\n",
    "def myfunc():\n",
    "    nama = 'anita antono' #local\n",
    "    print('nama teman saya adalah ' + nama)\n",
    "\n",
    "myfunc() #manggil fungsi\n",
    "print(nama) #manggil variabel nama"
   ]
  },
  {
   "cell_type": "code",
   "execution_count": 21,
   "metadata": {},
   "outputs": [
    {
     "name": "stdout",
     "output_type": "stream",
     "text": [
      "nama teman saya adalah anita antono\n",
      "anita antono\n"
     ]
    }
   ],
   "source": [
    "nama= 'ade' #global variabel\n",
    "\n",
    "def myfunc():\n",
    "    global nama #fungsinya diubah ke global\n",
    "    nama = 'anita antono' #local\n",
    "    print('nama teman saya adalah ' + nama)\n",
    "\n",
    "myfunc() #manggil fungsi\n",
    "print(nama)"
   ]
  },
  {
   "cell_type": "markdown",
   "metadata": {},
   "source": [
    "### Docstring\n",
    "\n",
    "Docstring adalah literal string yang muncul sebagai pernyataan pertama dalam definisi modul, fungsi, kelas, atau metode. Docstring seperti itu menjadi atribut khusus `__doc__` dari objek itu.\n",
    "\n",
    "Untuk konsistensi, selalu gunakan '''tiga tanda kutip tunggal''' atau \"\"\"tiga tanda kutip ganda\"\"\" di sekitar docstrings.\n",
    "\n",
    "Docstring biasanya berisi 3 bagian :\n",
    "* Tujuan dari modul, fungsi, kelas, atau metode.\n",
    "* Deskripsi parameter input dengan jenisnya.\n",
    "* Deskripsi parameter keluaran (hanya jika mengembalikan sesuatu)."
   ]
  },
  {
   "cell_type": "code",
   "execution_count": 18,
   "metadata": {},
   "outputs": [],
   "source": [
    "# Example of docstring in a function\n",
    "\n",
    "def sum_number(num1, num2):\n",
    "  '''\n",
    "  This function is used to sum of 2 variables.\n",
    "  :param num1: Input number 1 | int or float\n",
    "  :param num2: Input number 2 | int or float\n",
    "  \n",
    "  :return: num3: Sum of number | int or float\n",
    "  '''\n",
    "\n",
    "  num3 = num1 + num2\n",
    "  return num3"
   ]
  },
  {
   "cell_type": "code",
   "execution_count": 19,
   "metadata": {},
   "outputs": [
    {
     "name": "stdout",
     "output_type": "stream",
     "text": [
      "\n",
      "  This function is used to sum of 2 variables.\n",
      "  :param num1: Input number 1 | int or float\n",
      "  :param num2: Input number 2 | int or float\n",
      "  \n",
      "  :return: num3: Sum of number | int or float\n",
      "  \n"
     ]
    }
   ],
   "source": [
    "# Syntax to get explanation/docstring from a particular module/function/class\n",
    "\n",
    "print(sum_number.__doc__)"
   ]
  },
  {
   "cell_type": "markdown",
   "metadata": {},
   "source": [
    "# Module & Packages\n",
    "\n",
    "Keuntungan dari modul:\n",
    "\n",
    "- **Simplicity/Kesederhanaan**: Modul biasanya berfokus pada **satu bagian masalah yang relatif kecil**, membuat pengembangan lebih mudah dan tidak rawan kesalahan.\n",
    "\n",
    "- **Maintainability**: Modul biasanya dirancang untuk menerapkan batasan logis antara domain masalah yang berbeda. Jika modul ditulis dengan cara yang meminimalkan saling ketergantungan, ada kemungkinan kecil bahwa modifikasi pada satu modul akan berdampak pada bagian lain dari program. **(Anda bahkan mungkin dapat membuat perubahan pada modul tanpa memiliki pengetahuan tentang aplikasi di luar modul tersebut.)** Hal ini membuat tim yang terdiri dari banyak pemrogram dapat bekerja secara kolaboratif pada aplikasi besar.\n",
    "\n",
    "- **Reusability / Dapat digunakan kembali**: Fungsionalitas yang ditentukan dalam satu modul dapat dengan mudah digunakan kembali (melalui antarmuka yang ditentukan dengan tepat) oleh bagian lain dari aplikasi. **Ini menghilangkan kebutuhan untuk membuat ulang kode duplikat.**\n",
    "\n",
    "- **Scoping Pelingkupan**: Modul biasanya mendefinisikan namespace terpisah, yang membantu **menghindari tabrakan** antara pengidentifikasi di area program yang berbeda."
   ]
  },
  {
   "cell_type": "code",
   "execution_count": 23,
   "metadata": {},
   "outputs": [
    {
     "name": "stdout",
     "output_type": "stream",
     "text": [
      "zack\n"
     ]
    }
   ],
   "source": [
    "import person\n",
    "print(person.name)"
   ]
  },
  {
   "cell_type": "code",
   "execution_count": 24,
   "metadata": {},
   "outputs": [
    {
     "data": {
      "text/plain": [
       "['laptop', 'smartphone', 'tablet']"
      ]
     },
     "execution_count": 24,
     "metadata": {},
     "output_type": "execute_result"
    }
   ],
   "source": [
    "person.devices"
   ]
  },
  {
   "cell_type": "code",
   "execution_count": 25,
   "metadata": {},
   "outputs": [
    {
     "data": {
      "text/plain": [
       "<function person.display(arg)>"
      ]
     },
     "execution_count": 25,
     "metadata": {},
     "output_type": "execute_result"
    }
   ],
   "source": [
    "person.display"
   ]
  },
  {
   "cell_type": "code",
   "execution_count": 26,
   "metadata": {},
   "outputs": [
    {
     "name": "stdout",
     "output_type": "stream",
     "text": [
      "arg= halo ade\n",
      "namanya adalah halo ade\n"
     ]
    }
   ],
   "source": [
    "person.display('halo ade')"
   ]
  },
  {
   "cell_type": "markdown",
   "metadata": {},
   "source": [
    "## The `dir()` Function\n",
    "\n",
    "Fungsi bawaan `dir()` mengembalikan list yang ditentukan dalam namespace."
   ]
  },
  {
   "cell_type": "code",
   "execution_count": 27,
   "metadata": {},
   "outputs": [
    {
     "data": {
      "text/plain": [
       "['__add__',\n",
       " '__class__',\n",
       " '__contains__',\n",
       " '__delattr__',\n",
       " '__dir__',\n",
       " '__doc__',\n",
       " '__eq__',\n",
       " '__format__',\n",
       " '__ge__',\n",
       " '__getattribute__',\n",
       " '__getitem__',\n",
       " '__getnewargs__',\n",
       " '__gt__',\n",
       " '__hash__',\n",
       " '__init__',\n",
       " '__init_subclass__',\n",
       " '__iter__',\n",
       " '__le__',\n",
       " '__len__',\n",
       " '__lt__',\n",
       " '__mod__',\n",
       " '__mul__',\n",
       " '__ne__',\n",
       " '__new__',\n",
       " '__reduce__',\n",
       " '__reduce_ex__',\n",
       " '__repr__',\n",
       " '__rmod__',\n",
       " '__rmul__',\n",
       " '__setattr__',\n",
       " '__sizeof__',\n",
       " '__str__',\n",
       " '__subclasshook__',\n",
       " 'capitalize',\n",
       " 'casefold',\n",
       " 'center',\n",
       " 'count',\n",
       " 'encode',\n",
       " 'endswith',\n",
       " 'expandtabs',\n",
       " 'find',\n",
       " 'format',\n",
       " 'format_map',\n",
       " 'index',\n",
       " 'isalnum',\n",
       " 'isalpha',\n",
       " 'isascii',\n",
       " 'isdecimal',\n",
       " 'isdigit',\n",
       " 'isidentifier',\n",
       " 'islower',\n",
       " 'isnumeric',\n",
       " 'isprintable',\n",
       " 'isspace',\n",
       " 'istitle',\n",
       " 'isupper',\n",
       " 'join',\n",
       " 'ljust',\n",
       " 'lower',\n",
       " 'lstrip',\n",
       " 'maketrans',\n",
       " 'partition',\n",
       " 'removeprefix',\n",
       " 'removesuffix',\n",
       " 'replace',\n",
       " 'rfind',\n",
       " 'rindex',\n",
       " 'rjust',\n",
       " 'rpartition',\n",
       " 'rsplit',\n",
       " 'rstrip',\n",
       " 'split',\n",
       " 'splitlines',\n",
       " 'startswith',\n",
       " 'strip',\n",
       " 'swapcase',\n",
       " 'title',\n",
       " 'translate',\n",
       " 'upper',\n",
       " 'zfill']"
      ]
     },
     "execution_count": 27,
     "metadata": {},
     "output_type": "execute_result"
    }
   ],
   "source": [
    "from person import name, devices\n",
    "dir(name)"
   ]
  },
  {
   "cell_type": "code",
   "execution_count": 28,
   "metadata": {},
   "outputs": [
    {
     "data": {
      "text/plain": [
       "'zack'"
      ]
     },
     "execution_count": 28,
     "metadata": {},
     "output_type": "execute_result"
    }
   ],
   "source": [
    "from person import name\n",
    "name\n",
    "\n",
    "import person\n",
    "person.name"
   ]
  },
  {
   "cell_type": "code",
   "execution_count": 29,
   "metadata": {},
   "outputs": [
    {
     "data": {
      "text/plain": [
       "'zack'"
      ]
     },
     "execution_count": 29,
     "metadata": {},
     "output_type": "execute_result"
    }
   ],
   "source": [
    "from person import name, devices\n",
    "name"
   ]
  },
  {
   "cell_type": "code",
   "execution_count": 30,
   "metadata": {},
   "outputs": [
    {
     "data": {
      "text/plain": [
       "['laptop', 'smartphone', 'tablet']"
      ]
     },
     "execution_count": 30,
     "metadata": {},
     "output_type": "execute_result"
    }
   ],
   "source": [
    "devices"
   ]
  },
  {
   "cell_type": "code",
   "execution_count": 31,
   "metadata": {},
   "outputs": [],
   "source": [
    "from person import name as n, devices as d "
   ]
  },
  {
   "cell_type": "code",
   "execution_count": 32,
   "metadata": {},
   "outputs": [
    {
     "data": {
      "text/plain": [
       "'zack'"
      ]
     },
     "execution_count": 32,
     "metadata": {},
     "output_type": "execute_result"
    }
   ],
   "source": [
    "n \n",
    "#hanya untuk inisialisasi, memberi alias"
   ]
  },
  {
   "cell_type": "code",
   "execution_count": 33,
   "metadata": {},
   "outputs": [
    {
     "data": {
      "text/plain": [
       "['laptop', 'smartphone', 'tablet']"
      ]
     },
     "execution_count": 33,
     "metadata": {},
     "output_type": "execute_result"
    }
   ],
   "source": [
    "d"
   ]
  },
  {
   "cell_type": "markdown",
   "metadata": {},
   "source": [
    "## Python Packages"
   ]
  },
  {
   "cell_type": "code",
   "execution_count": 34,
   "metadata": {},
   "outputs": [],
   "source": [
    "import pandas as pd\n",
    "import numpy as np"
   ]
  },
  {
   "cell_type": "code",
   "execution_count": 36,
   "metadata": {},
   "outputs": [
    {
     "data": {
      "text/plain": [
       "'red'"
      ]
     },
     "execution_count": 36,
     "metadata": {},
     "output_type": "execute_result"
    }
   ],
   "source": [
    "import pkg.mod1, pkg.mod2\n",
    "pkg.mod1.color"
   ]
  },
  {
   "cell_type": "code",
   "execution_count": 37,
   "metadata": {},
   "outputs": [
    {
     "data": {
      "text/plain": [
       "'red'"
      ]
     },
     "execution_count": 37,
     "metadata": {},
     "output_type": "execute_result"
    }
   ],
   "source": [
    "from pkg.mod1 import color\n",
    "color"
   ]
  }
 ],
 "metadata": {
  "interpreter": {
   "hash": "89054f449b9ab7853855a686a36f64326c8e981c5bf4a801a680e6ca278f9c9e"
  },
  "kernelspec": {
   "display_name": "Python 3.10.1 64-bit",
   "language": "python",
   "name": "python3"
  },
  "language_info": {
   "codemirror_mode": {
    "name": "ipython",
    "version": 3
   },
   "file_extension": ".py",
   "mimetype": "text/x-python",
   "name": "python",
   "nbconvert_exporter": "python",
   "pygments_lexer": "ipython3",
   "version": "3.10.1"
  },
  "orig_nbformat": 4
 },
 "nbformat": 4,
 "nbformat_minor": 2
}
