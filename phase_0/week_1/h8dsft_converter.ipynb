{
 "cells": [
  {
   "cell_type": "markdown",
   "metadata": {},
   "source": [
    "# **Non-Graded Challenge 2**"
   ]
  },
  {
   "cell_type": "markdown",
   "metadata": {},
   "source": [
    "#### **1. Function untuk Mengkonversi Suhu dari Kelvin ke Celcius, dan Celcius ke Kelvin**"
   ]
  },
  {
   "cell_type": "markdown",
   "metadata": {},
   "source": [
    "Menggunakan print"
   ]
  },
  {
   "cell_type": "code",
   "execution_count": 1,
   "metadata": {},
   "outputs": [
    {
     "name": "stdout",
     "output_type": "stream",
     "text": [
      "Kelvin to Celcius = -228.14999999999998\n"
     ]
    }
   ],
   "source": [
    "def kelvin_to_celcius(temp):\n",
    "    '''This function is used to convert temperature from Kelvin to Celcius'''\n",
    "    print(\"Kelvin to Celcius =\", temp-273.15)\n",
    "    \n",
    "# Now you can call kelvin_to_celcius function\n",
    "temp = 45\n",
    "kelvin_to_celcius(temp)"
   ]
  },
  {
   "cell_type": "code",
   "execution_count": 2,
   "metadata": {},
   "outputs": [
    {
     "name": "stdout",
     "output_type": "stream",
     "text": [
      "Celcius to Kelvin = 283.15\n"
     ]
    }
   ],
   "source": [
    "def celcius_to_kelvin(temp):\n",
    "    '''This function is used to convert temperature from Celcius to Kelvin'''\n",
    "    print(\"Celcius to Kelvin =\", temp+273.15)\n",
    "    \n",
    "# Now you can call celcius_to_kelvin function\n",
    "temp = 50\n",
    "celcius_to_kelvin(10)"
   ]
  },
  {
   "cell_type": "markdown",
   "metadata": {},
   "source": [
    "Menggunakan return"
   ]
  },
  {
   "cell_type": "code",
   "execution_count": 3,
   "metadata": {},
   "outputs": [
    {
     "name": "stdout",
     "output_type": "stream",
     "text": [
      "Kelvin to Celcius = -244.14999999999998\n"
     ]
    }
   ],
   "source": [
    "def kelvin_to_celcius(temp):\n",
    "    '''This function is used to convert temperature from Kelvin to Celcius'''\n",
    "    return (temp-273.15)\n",
    "\n",
    "# Now you can call kelvin_to_celcius function\n",
    "temp = 29\n",
    "print(\"Kelvin to Celcius =\", kelvin_to_celcius(temp))\n"
   ]
  },
  {
   "cell_type": "code",
   "execution_count": 4,
   "metadata": {},
   "outputs": [
    {
     "name": "stdout",
     "output_type": "stream",
     "text": [
      "Celcius to Kelvin = 338.15\n"
     ]
    }
   ],
   "source": [
    "def celcius_to_kelvin(temp):\n",
    "    '''This function is used to convert temperature from Celcius to Kelvin'''\n",
    "    return (temp+273.15)\n",
    "    \n",
    "# Now you can call celcius_to_kelvin function\n",
    "temp = 65\n",
    "print(\"Celcius to Kelvin =\", celcius_to_kelvin(temp))\n"
   ]
  },
  {
   "cell_type": "markdown",
   "metadata": {},
   "source": [
    "#### **2. Function untuk Mengkonversi Suhu ke Fahrenheit**"
   ]
  },
  {
   "cell_type": "code",
   "execution_count": 5,
   "metadata": {},
   "outputs": [
    {
     "name": "stdout",
     "output_type": "stream",
     "text": [
      "The result of converting temperature to Fahrenheit is 140.0\n"
     ]
    }
   ],
   "source": [
    "def temp_to_fahr(temp, unit):\n",
    "    '''This function is used to convert temperature from Celcius or Kelvin to Fahrenheit'''\n",
    "    celcius = ('C')\n",
    "    kelvin = ('K')\n",
    "    if (celcius in unit):\n",
    "        unit = ((temp * 9/5) + 32)\n",
    "    elif (kelvin in unit):\n",
    "        unit = (((temp-273.15)* 9/5) + 32)\n",
    "    print(\"The result of converting temperature to Fahrenheit is\", unit)\n",
    "        \n",
    "# Define parameters\n",
    "temp = 60\n",
    "unit = 'C'\n",
    "\n",
    "# Call temp_to_fahr(temp, unit)\n",
    "temp_to_fahr(temp, unit)"
   ]
  },
  {
   "cell_type": "markdown",
   "metadata": {},
   "source": [
    "#### **3. Function untuk Mengkonversi Suhu dari Fahrenheit**"
   ]
  },
  {
   "cell_type": "code",
   "execution_count": 6,
   "metadata": {},
   "outputs": [
    {
     "name": "stdout",
     "output_type": "stream",
     "text": [
      "The result of converting temperature from Fahrenheit is 288.7055555555555\n"
     ]
    }
   ],
   "source": [
    "def fahr_to_temp(fahr, unit):\n",
    "    '''This function is used to convert temperature from Fahrenheit to Celcius & Kelvin'''\n",
    "    celcius = ('C')\n",
    "    kelvin = ('K')\n",
    "    if (celcius in unit):\n",
    "        unit = ((fahr-32) * 5/9)\n",
    "    elif (kelvin in unit):\n",
    "        unit = ((fahr-32)  * 5/9 + 273.15)\n",
    "    print(\"The result of converting temperature from Fahrenheit is\", unit)\n",
    "\n",
    "# Define parameter\n",
    "fahr = 60\n",
    "unit = 'K'\n",
    "\n",
    "# Call fahr_to_temp(fahr, unit)\n",
    "fahr_to_temp(fahr, unit)"
   ]
  }
 ],
 "metadata": {
  "interpreter": {
   "hash": "89054f449b9ab7853855a686a36f64326c8e981c5bf4a801a680e6ca278f9c9e"
  },
  "kernelspec": {
   "display_name": "Python 3.10.1 64-bit",
   "language": "python",
   "name": "python3"
  },
  "language_info": {
   "codemirror_mode": {
    "name": "ipython",
    "version": 3
   },
   "file_extension": ".py",
   "mimetype": "text/x-python",
   "name": "python",
   "nbconvert_exporter": "python",
   "pygments_lexer": "ipython3",
   "version": "3.10.1"
  },
  "orig_nbformat": 4
 },
 "nbformat": 4,
 "nbformat_minor": 2
}
