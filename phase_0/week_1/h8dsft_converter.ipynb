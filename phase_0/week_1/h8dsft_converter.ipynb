{
 "cells": [
  {
   "cell_type": "markdown",
   "metadata": {},
   "source": [
    "# Non-Graded Challenge 2"
   ]
  },
  {
   "cell_type": "markdown",
   "metadata": {},
   "source": [
    "-Buatlah sebuah function yang dapat mengkonversi suhu dari kelvin ke celcius, dan celcius ke kelvin.\n",
    "\n",
    "-Buatlah sebuah function yang dapat mengkonversi suhu ke fahrenheit. Tambahkan parameter untuk memastikan bahwa argumen yang dimasukan adalah celcius atau kelvin. Panggil function yang pertama jika diperlukan.\n",
    "\n",
    "-Buatlah sebuah function yang dapat mengkonversi suhu dari fahrenheit. Berikan argumen untuk memastikan bahwa outputnya dalah celcius atau kelvin.\n",
    "\n",
    "-Berikan dokumentasi pada setiap baris kode yang kalian tulis.\n"
   ]
  },
  {
   "cell_type": "markdown",
   "metadata": {},
   "source": [
    "## 1. Function: Mengkonversi suhu dari kelvin ke celcius, dan celcius ke kelvin"
   ]
  },
  {
   "cell_type": "markdown",
   "metadata": {},
   "source": [
    "#### Menggunakan print"
   ]
  },
  {
   "cell_type": "code",
   "execution_count": 78,
   "metadata": {},
   "outputs": [
    {
     "name": "stdout",
     "output_type": "stream",
     "text": [
      "Kelvin to Celcius = -228.14999999999998\n"
     ]
    }
   ],
   "source": [
    "# Function to convert temperature from Kelvin to Celcius\n",
    "def kelvin_to_celcius(temp):\n",
    "    '''This function is used to convert temperature from Kelvin to Celcius'''\n",
    "    print(\"Kelvin to Celcius =\", temp-273.15)\n",
    "    \n",
    "# Now you can call kelvin_to_celcius function\n",
    "temp = 45\n",
    "kelvin_to_celcius(temp)"
   ]
  },
  {
   "cell_type": "code",
   "execution_count": 79,
   "metadata": {},
   "outputs": [
    {
     "name": "stdout",
     "output_type": "stream",
     "text": [
      "Celcius to Kelvin = 283.15\n"
     ]
    }
   ],
   "source": [
    "# Function to convert temperature from Celcius to Kelvin\n",
    "def celcius_to_kelvin(temp):\n",
    "    '''This function is used to convert temperature from Celcius to Kelvin'''\n",
    "    print(\"Celcius to Kelvin =\", temp+273.15)\n",
    "    \n",
    "# Now you can call celcius_to_kelvin function\n",
    "temp = 50\n",
    "celcius_to_kelvin(10)"
   ]
  },
  {
   "cell_type": "markdown",
   "metadata": {},
   "source": [
    "#### Menggunakan return"
   ]
  },
  {
   "cell_type": "code",
   "execution_count": 80,
   "metadata": {},
   "outputs": [
    {
     "name": "stdout",
     "output_type": "stream",
     "text": [
      "Kelvin to Celcius = -244.14999999999998\n"
     ]
    }
   ],
   "source": [
    "# Function to convert temperature from Kelvin to Celcius\n",
    "def kelvin_to_celcius(temp):\n",
    "    '''This function is used to convert temperature from Kelvin to Celcius'''\n",
    "    return (temp-273.15)\n",
    "\n",
    "# Now you can call kelvin_to_celcius function\n",
    "temp = 29\n",
    "print(\"Kelvin to Celcius =\", kelvin_to_celcius(temp))\n"
   ]
  },
  {
   "cell_type": "code",
   "execution_count": 81,
   "metadata": {},
   "outputs": [
    {
     "name": "stdout",
     "output_type": "stream",
     "text": [
      "Celcius to Kelvin = 338.15\n"
     ]
    }
   ],
   "source": [
    "# Function to convert temperature from Celcius to Kelvin\n",
    "def celcius_to_kelvin(temp):\n",
    "    '''This function is used to convert temperature from Celcius to Kelvin'''\n",
    "    return (temp+273.15)\n",
    "    \n",
    "# Now you can call celcius_to_kelvin function\n",
    "temp = 65\n",
    "print(\"Celcius to Kelvin =\", celcius_to_kelvin(temp))\n"
   ]
  },
  {
   "cell_type": "markdown",
   "metadata": {},
   "source": [
    "## 2. Function: Mengkonversi Suhu ke Fahrenheit"
   ]
  },
  {
   "cell_type": "code",
   "execution_count": 82,
   "metadata": {},
   "outputs": [
    {
     "name": "stdout",
     "output_type": "stream",
     "text": [
      "Celcius to Fahrenheit = 68.0\n",
      "Kelvin to Fahrenheit = -405.67\n"
     ]
    }
   ],
   "source": [
    "# Function to convert temperature from Celcius & Kelvin to Fahrenheit\n",
    "def temp_to_fahr(celcius, kelvin):\n",
    "    '''This function is used to convert temperature from Celcius & Kelvin to Fahrenheit'''\n",
    "    print(\"Celcius to Fahrenheit =\", celcius * 1.8 + 32)\n",
    "    print(\"Kelvin to Fahrenheit =\", kelvin  * 1.8 - 459.67)\n",
    "\n",
    "# Define parameters\n",
    "celcius = 20\n",
    "kelvin = 30\n",
    "\n",
    "# Call temp_to_fahr\n",
    "temp_to_fahr(celcius, kelvin)"
   ]
  },
  {
   "cell_type": "markdown",
   "metadata": {},
   "source": [
    "### 3. Function: Mengkonversi Suhu dari Fahrenheit"
   ]
  },
  {
   "cell_type": "code",
   "execution_count": 83,
   "metadata": {},
   "outputs": [
    {
     "name": "stdout",
     "output_type": "stream",
     "text": [
      "Fahrenheit in Celcius = 0.0\n",
      "Fahrenheit in Kelvin = 273.15\n"
     ]
    }
   ],
   "source": [
    "# Function to convert temperature from Fahrenheit to Celcius and Kelvin\n",
    "def fahr_to_temp(fahr):\n",
    "    '''This function is used to convert temperature from Fahrenheit to Celcius & Kelvin'''\n",
    "    celcius = ((fahr-32) * 1.8)\n",
    "    kelvin  = ((fahr-32)  * 1.8 + 273.15)\n",
    "    print(\"Fahrenheit in Celcius =\", celcius)\n",
    "    print(\"Fahrenheit in Kelvin =\", kelvin)\n",
    "\n",
    "# Define parameter\n",
    "fahr = 32\n",
    "\n",
    "# Call fahr_to_temp\n",
    "fahr_to_temp(fahr)\n"
   ]
  },
  {
   "cell_type": "code",
   "execution_count": null,
   "metadata": {},
   "outputs": [],
   "source": []
  }
 ],
 "metadata": {
  "interpreter": {
   "hash": "89054f449b9ab7853855a686a36f64326c8e981c5bf4a801a680e6ca278f9c9e"
  },
  "kernelspec": {
   "display_name": "Python 3.10.1 64-bit",
   "language": "python",
   "name": "python3"
  },
  "language_info": {
   "codemirror_mode": {
    "name": "ipython",
    "version": 3
   },
   "file_extension": ".py",
   "mimetype": "text/x-python",
   "name": "python",
   "nbconvert_exporter": "python",
   "pygments_lexer": "ipython3",
   "version": "3.10.1"
  },
  "orig_nbformat": 4
 },
 "nbformat": 4,
 "nbformat_minor": 2
}
