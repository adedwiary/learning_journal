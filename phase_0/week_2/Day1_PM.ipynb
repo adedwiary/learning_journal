{
 "cells": [
  {
   "cell_type": "markdown",
   "metadata": {},
   "source": [
    "# Day 1 PM - VECTOR"
   ]
  },
  {
   "cell_type": "markdown",
   "metadata": {},
   "source": [
    "## Pendefinisian Vektor"
   ]
  },
  {
   "cell_type": "markdown",
   "metadata": {},
   "source": [
    "Dalam fisika, vektor didefinisikan sebagai besaran yang memiliki nilai (value) dan arah. \n",
    "\n",
    "Namun dalam ilmu data, vektor didefinisikan sebagai nilai-nilai yang mewakili pengamatan/prediksi. Sederhananya, vektor disebut juga list angka. Angka-angka disusun secara berurutan agar bisa diindetifikasi nilai dan indeksnya.\n",
    "\n",
    "Contoh:\n",
    "\n",
    "video = [10.5, 5.2, 3.25, 7.0]\n",
    "\n",
    "Video berdurasi 10,5 menit, tetapi hanya 5,2% yang menonton lebih dari satu menit, mendapat rata-rata 3,25 tampilan per hari dan ditandai 7 kali sebagai spam."
   ]
  },
  {
   "cell_type": "markdown",
   "metadata": {},
   "source": [
    "### Pendefinisian Vektor pada Code"
   ]
  },
  {
   "cell_type": "code",
   "execution_count": 2,
   "metadata": {},
   "outputs": [],
   "source": [
    "# Pendefinisian vektor menggunakan list\n",
    "\n",
    "a = [1, 2, 3, 4, 5]\n",
    "b = [6, 7, 8, 9, 10]"
   ]
  },
  {
   "cell_type": "code",
   "execution_count": 3,
   "metadata": {},
   "outputs": [
    {
     "data": {
      "text/plain": [
       "[1, 2, 3, 4, 5, 6, 7, 8, 9, 10]"
      ]
     },
     "execution_count": 3,
     "metadata": {},
     "output_type": "execute_result"
    }
   ],
   "source": [
    "# Efek pendefinisian vector dengan list : tidak dapat dilakukan operasi matematika\n",
    "\n",
    "a + b"
   ]
  },
  {
   "cell_type": "code",
   "execution_count": 4,
   "metadata": {},
   "outputs": [],
   "source": [
    "# Pendefinisian vektor dengan menggunakan NumPy\n",
    "\n",
    "import numpy as np\n",
    "vect_a = np.array(a)\n",
    "vect_b = np.array(b)"
   ]
  },
  {
   "cell_type": "code",
   "execution_count": 5,
   "metadata": {},
   "outputs": [
    {
     "data": {
      "text/plain": [
       "array([ 7,  9, 11, 13, 15])"
      ]
     },
     "execution_count": 5,
     "metadata": {},
     "output_type": "execute_result"
    }
   ],
   "source": [
    "# Vektor hasil NumPy dapat dilakukan operasi aritmatika\n",
    "\n",
    "vect_a + vect_b"
   ]
  },
  {
   "cell_type": "markdown",
   "metadata": {},
   "source": [
    "## Vector Norm"
   ]
  },
  {
   "cell_type": "markdown",
   "metadata": {},
   "source": [
    "Vector norm dapat didefinisikan dengan besaran vektor."
   ]
  },
  {
   "cell_type": "code",
   "execution_count": 6,
   "metadata": {},
   "outputs": [
    {
     "name": "stdout",
     "output_type": "stream",
     "text": [
      "Vector Norm - Euclidean (syntax 1) :  5.0\n",
      "Vector Norm - Euclidean (syntax 2) :  5.0\n",
      "Vector Norm - Manhattan :  7.0\n"
     ]
    }
   ],
   "source": [
    "# Vector Norm\n",
    "\n",
    "## Pembuatan Vektor\n",
    "vect_a = np.array([3,4])\n",
    "\n",
    "## Vector Norm (menggunakan Euclidean/L2 (Default NumPy))\n",
    "print('Vector Norm - Euclidean (syntax 1) : ', np.linalg.norm(vect_a))\n",
    "print('Vector Norm - Euclidean (syntax 2) : ', np.linalg.norm(vect_a, 2))\n",
    "\n",
    "## Vector Norm (menggunakan Manhattan/L1)\n",
    "print('Vector Norm - Manhattan : ', np.linalg.norm(vect_a, 1))"
   ]
  },
  {
   "cell_type": "markdown",
   "metadata": {},
   "source": [
    "## Operasi Aritmatika"
   ]
  },
  {
   "cell_type": "code",
   "execution_count": 7,
   "metadata": {},
   "outputs": [
    {
     "name": "stdout",
     "output_type": "stream",
     "text": [
      "Vector A :  [1 2 3]\n",
      "Vector B :  [10 11 12]\n"
     ]
    }
   ],
   "source": [
    "# Pendefinisian list\n",
    "\n",
    "a = [1,2,3]\n",
    "vect_a = np.array(a)\n",
    "\n",
    "b = [10, 11, 12]\n",
    "vect_b = np.array(b)\n",
    "\n",
    "print('Vector A : ', vect_a)\n",
    "print('Vector B : ', vect_b)"
   ]
  },
  {
   "cell_type": "markdown",
   "metadata": {},
   "source": [
    "### Penjumlahan dan Pengurangan"
   ]
  },
  {
   "cell_type": "markdown",
   "metadata": {},
   "source": [
    "Vektor dapat dijumlahkan atau dikurangkan dengan vektor lain, dengan syarat jumlah elemen harus sama."
   ]
  },
  {
   "cell_type": "code",
   "execution_count": 8,
   "metadata": {},
   "outputs": [
    {
     "name": "stdout",
     "output_type": "stream",
     "text": [
      "Penjumlahan - Dengan Bilangan :  [3 4 5]\n",
      "Penjumlahan - Antar Vektor    :  [11 13 15]\n"
     ]
    }
   ],
   "source": [
    "## Operasi Penjumlahan\n",
    "\n",
    "print('Penjumlahan - Dengan Bilangan : ', vect_a + 2)\n",
    "print('Penjumlahan - Antar Vektor    : ', vect_a + vect_b)"
   ]
  },
  {
   "cell_type": "code",
   "execution_count": 9,
   "metadata": {},
   "outputs": [
    {
     "name": "stdout",
     "output_type": "stream",
     "text": [
      "Pengurangan - Dengan Bilangan :  [-1  0  1]\n",
      "Pengurangan - Antar Vektor    :  [-9 -9 -9]\n"
     ]
    }
   ],
   "source": [
    "## Operasi Pengurangan\n",
    "\n",
    "print('Pengurangan - Dengan Bilangan : ', vect_a - 2)\n",
    "print('Pengurangan - Antar Vektor    : ', vect_a - vect_b)"
   ]
  },
  {
   "cell_type": "markdown",
   "metadata": {},
   "source": [
    "### Pembagian"
   ]
  },
  {
   "cell_type": "markdown",
   "metadata": {},
   "source": [
    "Sebuah vektor dapat dibagi oleh sebuah vektor. Pembagian dilakukan sama seperti perkalian vektor-vektor."
   ]
  },
  {
   "cell_type": "code",
   "execution_count": 10,
   "metadata": {},
   "outputs": [
    {
     "name": "stdout",
     "output_type": "stream",
     "text": [
      "Pembagian - Dengan Bilangan :  [0.5 1.  1.5]\n",
      "Pembagian - Antar Vektor :  [0.1        0.18181818 0.25      ]\n"
     ]
    }
   ],
   "source": [
    "## Operasi Pembagian\n",
    "\n",
    "print('Pembagian - Dengan Bilangan : ', vect_a / 2)\n",
    "print('Pembagian - Antar Vektor : ', vect_a / vect_b)"
   ]
  },
  {
   "cell_type": "markdown",
   "metadata": {},
   "source": [
    "### Perkalian"
   ]
  },
  {
   "cell_type": "markdown",
   "metadata": {},
   "source": [
    "Ada tiga cara untuk melakukan perkalian dengan vektor, yaitu \n",
    "\n",
    "- Perkalian dengan skalar, \n",
    "- Perkalian dengan vektor, dan \n",
    "- Perkalian dot product.\n",
    "\n",
    "Untuk melakukan perkalian vektor dengan skalar (bilangan), cukup kalikan setiap elemen dengan skalar.\n",
    "\n",
    "Untuk melakukan perkalian antar vektor, langkah-langkahnya menyerupai penjumlahan/pengurangan. Operasi dilakukan berdasarkan elemen."
   ]
  },
  {
   "cell_type": "code",
   "execution_count": 11,
   "metadata": {},
   "outputs": [
    {
     "name": "stdout",
     "output_type": "stream",
     "text": [
      "Perkalian - Dengan Bilangan                     :  [2 4 6]\n",
      "Perkalian - Antar Vektor (Vector Multiplication :  [10 22 36]\n"
     ]
    }
   ],
   "source": [
    "## Operasi Perkalian\n",
    "\n",
    "print('Perkalian - Dengan Bilangan                     : ', vect_a * 2)\n",
    "print('Perkalian - Antar Vektor (Vector Multiplication : ', vect_a * vect_b)"
   ]
  },
  {
   "cell_type": "markdown",
   "metadata": {},
   "source": [
    "Hasil perkalian `dot product` sangat berbeda dengan perkalian lainnya. Hasil perkalian titik adalah skalar. Selanjutnya, dengan menggunakan `dot product`, kita bisa mendapatkan sudut antara dua vektor. Ini mewakili seberapa jauh/dekat setiap vektor ke vektor lainnya."
   ]
  },
  {
   "cell_type": "code",
   "execution_count": 12,
   "metadata": {},
   "outputs": [
    {
     "name": "stdout",
     "output_type": "stream",
     "text": [
      "Dot Product - Syntax 1 :  68\n",
      "Dot Product - Syntax 2 :  68\n",
      "Dot Product - Syntax 3 :  68\n"
     ]
    }
   ],
   "source": [
    "## Perkalian Dot Product\n",
    "\n",
    "print('Dot Product - Syntax 1 : ', vect_a.dot(vect_b))\n",
    "print('Dot Product - Syntax 2 : ', np.dot(vect_a,vect_b))\n",
    "print('Dot Product - Syntax 3 : ', vect_a@vect_b) # Hanya berlaku untuk versi NumPy terbaru\n",
    "### Hasil outputnya akan sama"
   ]
  },
  {
   "cell_type": "markdown",
   "metadata": {},
   "source": [
    "## Cosine Similarity"
   ]
  },
  {
   "cell_type": "code",
   "execution_count": 13,
   "metadata": {},
   "outputs": [],
   "source": [
    "# Pendefinisian List# Cosine Similarity\n",
    "\n",
    "vect_f = np.array([4,0])\n",
    "vect_g = np.array([6,0])"
   ]
  },
  {
   "cell_type": "code",
   "execution_count": 14,
   "metadata": {},
   "outputs": [
    {
     "name": "stdout",
     "output_type": "stream",
     "text": [
      "Cos Theta      :  1.0\n",
      "Radians        :  0.0\n",
      "Degree/Derajat :  0.0\n"
     ]
    }
   ],
   "source": [
    "# Cosine Similarity\n",
    "# Berawal dari rumus lain Dot Product\n",
    "# vect_f . vect_g = ||vect_f|| * ||vect_g|| * cos_theta\n",
    "\n",
    "result_dot_product = vect_f.dot(vect_g)\n",
    "cos_theta = (vect_f.dot(vect_g))/ (np.linalg.norm(vect_f) * np.linalg.norm(vect_g))\n",
    "\n",
    "# Mengubah cos_theta ke dalam radians untuk dicari derajat sudutnya\n",
    "radians = np.arccos(cos_theta)\n",
    "\n",
    "# Mengubah radians untuk dicari derajat sudutnya\n",
    "degree = np.degrees(radians)\n",
    "\n",
    "print('Cos Theta      : ', cos_theta)\n",
    "print('Radians        : ', radians)\n",
    "print('Degree/Derajat : ', degree)"
   ]
  },
  {
   "cell_type": "markdown",
   "metadata": {},
   "source": [
    "## Studi Kasus"
   ]
  },
  {
   "cell_type": "markdown",
   "metadata": {},
   "source": [
    "```\n",
    "teks_1 = saya pergi ke rumah nenek saya\n",
    "teks_2 = saya pergi ke rumah kakek saya\n",
    "```\n",
    "\n",
    "Sebelum mencari nilai Cosinus Similarity, terlebih dahulu buat sebuah tabel yang menyatakan frekuensi kemunculan suatu kata dalam suatu teks diatas.\n",
    "\n",
    "| Kata Unik | Jumlah Kata di teks_1 | Jumlah Kata di teks_2 |\n",
    "| --- | --- | --- |\n",
    "| saya | 2 | 2 | \n",
    "| pergi | 1 | 1 | \n",
    "| ke | 1 | 1 | \n",
    "| rumah | 1 | 1 | \n",
    "| nenek | 1 | 0 | \n",
    "| kakek | 0 | 1 | "
   ]
  },
  {
   "cell_type": "code",
   "execution_count": 15,
   "metadata": {},
   "outputs": [],
   "source": [
    "# Pembuatan vektor yang merepresentasikan `teks_1` dan `teks_2`\n",
    "\n",
    "teks_1 = [2, 1, 1, 1, 1, 0]\n",
    "teks_2 = [2, 1, 1, 1, 0, 1]\n",
    "\n",
    "vect_t1 = np.array(teks_1)\n",
    "vect_t2 = np.array(teks_2)"
   ]
  },
  {
   "cell_type": "code",
   "execution_count": 16,
   "metadata": {},
   "outputs": [
    {
     "name": "stdout",
     "output_type": "stream",
     "text": [
      "Cos Theta      :  0.8749999999999998\n",
      "Radians        :  0.5053605102841577\n",
      "Degree/Derajat :  28.955024371859874\n"
     ]
    }
   ],
   "source": [
    "# Cosine Similarity\n",
    "result_dot_product = vect_t1.dot(vect_t2)\n",
    "cos_theta = result_dot_product / (np.linalg.norm(vect_t1) * np.linalg.norm(vect_t2))\n",
    "\n",
    "# Mengubah cos_theta ke dalam radians untuk dicari derajat sudutnya\n",
    "radians = np.arccos(cos_theta)\n",
    "\n",
    "# Mengubah radians untuk dicari derajat sudutnya\n",
    "degree = np.degrees(radians)\n",
    "\n",
    "print('Cos Theta      : ', cos_theta)\n",
    "print('Radians        : ', radians)\n",
    "print('Degree/Derajat : ', degree)"
   ]
  },
  {
   "cell_type": "markdown",
   "metadata": {},
   "source": [
    "## Studi Kasus 2\n",
    "\n",
    "```\n",
    "teks_3 = Selamat pagi dunia`\n",
    "teks_4 = Nusantara ibu kota baru`\n",
    "```\n",
    "\n",
    "Berikut ini adalah tabel yang menyatakan frekuensi kemunculan suatu kata dalam suatu teks diatas.\n",
    "\n",
    "| Kata Unik | Jumlah Kata di teks_3 | Jumlah Kata di teks_4 |\n",
    "| --- | --- | --- |\n",
    "| selamat | 1 | 0 | \n",
    "| pagi | 1 | 0 | \n",
    "| dunia | 1 | 0 | \n",
    "| nusantara | 0 | 1 |\n",
    "| ibu | 0 | 1 |\n",
    "| kota | 0 | 1 | \n",
    "| baru | 0 | 1 |"
   ]
  },
  {
   "cell_type": "code",
   "execution_count": 17,
   "metadata": {},
   "outputs": [],
   "source": [
    "# Pembuatan vektor yang merepresentasikan `teks_3` dan `teks_4`\n",
    "\n",
    "teks_3 = [1, 1, 1, 0, 0, 0, 0]\n",
    "teks_4 = [0, 0, 0, 1, 1, 1, 1]\n",
    "\n",
    "vect_t3 = np.array(teks_3)\n",
    "vect_t4 = np.array(teks_4)"
   ]
  },
  {
   "cell_type": "code",
   "execution_count": 18,
   "metadata": {},
   "outputs": [
    {
     "name": "stdout",
     "output_type": "stream",
     "text": [
      "Cos Theta      :  0.0\n",
      "Radians        :  1.5707963267948966\n",
      "Degree/Derajat :  90.0\n"
     ]
    }
   ],
   "source": [
    "# Cosine Similarity\n",
    "result_dot_product = vect_t3.dot(vect_t4)\n",
    "cos_theta = result_dot_product / (np.linalg.norm(vect_t3) * np.linalg.norm(vect_t4))\n",
    "\n",
    "# Mengubah cos_theta ke dalam radians untuk dicari derajat sudutnya\n",
    "radians = np.arccos(cos_theta)\n",
    "\n",
    "# Mengubah radians untuk dicari derajat sudutnya\n",
    "degree = np.degrees(radians)\n",
    "\n",
    "print('Cos Theta      : ', cos_theta)\n",
    "print('Radians        : ', radians)\n",
    "print('Degree/Derajat : ', degree)"
   ]
  },
  {
   "cell_type": "markdown",
   "metadata": {},
   "source": [
    "# Studi Kasus 3"
   ]
  },
  {
   "cell_type": "markdown",
   "metadata": {},
   "source": [
    "```\n",
    "teks_5 = Selamat pagi ibu dunia\n",
    "teks_6 = Nusantara ibu kota baru\n",
    "```\n",
    "\n",
    "Berikut ini adalah tabel yang menyatakan frekuensi kemunculan suatu kata dalam suatu teks diatas.\n",
    "\n",
    "| Kata Unik | Jumlah Kata di teks_3 | Jumlah Kata di teks_4 |\n",
    "| --- | --- | --- |\n",
    "| selamat | 1 | 0 | \n",
    "| pagi | 1 | 0 | \n",
    "| dunia | 1 | 0 | \n",
    "| nusantara | 0 | 1 |\n",
    "| ibu | 1 | 1 |\n",
    "| kota | 0 | 1 | \n",
    "| baru | 0 | 1 |"
   ]
  },
  {
   "cell_type": "code",
   "execution_count": 19,
   "metadata": {},
   "outputs": [],
   "source": [
    "# Pembuatan vektor yang merepresentasikan `teks_5` dan `teks_6`\n",
    "\n",
    "teks_5 = [1, 1, 1, 0, 1, 0, 0]\n",
    "teks_6 = [0, 0, 0, 1, 1, 1, 1]\n",
    "\n",
    "vect_t5 = np.array(teks_5)\n",
    "vect_t6 = np.array(teks_6)"
   ]
  },
  {
   "cell_type": "code",
   "execution_count": 20,
   "metadata": {},
   "outputs": [
    {
     "name": "stdout",
     "output_type": "stream",
     "text": [
      "Cos Theta      :  0.25\n",
      "Radians        :  1.318116071652818\n",
      "Degree/Derajat :  75.52248781407008\n"
     ]
    }
   ],
   "source": [
    "# Cosine Similarity\n",
    "result_dot_product = vect_t5.dot(vect_t6)\n",
    "cos_theta = result_dot_product / (np.linalg.norm(vect_t5) * np.linalg.norm(vect_t6))\n",
    "\n",
    "# Mengubah cos_theta ke dalam radians untuk dicari derajat sudutnya\n",
    "radians = np.arccos(cos_theta)\n",
    "\n",
    "# Mengubah radians untuk dicari derajat sudutnya\n",
    "degree = np.degrees(radians)\n",
    "\n",
    "print('Cos Theta      : ', cos_theta)\n",
    "print('Radians        : ', radians)\n",
    "print('Degree/Derajat : ', degree)"
   ]
  }
 ],
 "metadata": {
  "interpreter": {
   "hash": "c7fde715a1fbd9fb0ef5ba24694befebc1a509d71c376ca4699658f9c6b4eedd"
  },
  "kernelspec": {
   "display_name": "Python 3.9.7 64-bit ('base': conda)",
   "language": "python",
   "name": "python3"
  },
  "language_info": {
   "codemirror_mode": {
    "name": "ipython",
    "version": 3
   },
   "file_extension": ".py",
   "mimetype": "text/x-python",
   "name": "python",
   "nbconvert_exporter": "python",
   "pygments_lexer": "ipython3",
   "version": "3.10.1"
  },
  "orig_nbformat": 4
 },
 "nbformat": 4,
 "nbformat_minor": 2
}
