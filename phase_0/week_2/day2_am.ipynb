{
 "cells": [
  {
   "cell_type": "markdown",
   "metadata": {},
   "source": [
    "# Day 2 AM // Matrix"
   ]
  },
  {
   "cell_type": "markdown",
   "metadata": {},
   "source": [
    "## Pendefinisian Matriks"
   ]
  },
  {
   "cell_type": "markdown",
   "metadata": {},
   "source": [
    "Matriks adalah sekumpulan bilangan yang disusun berdasarkan baris dan kolom, serta ditempatkan di dalam tanda kurung.\n",
    "\n",
    "Tidak seperti vektor yang merupakan list satu dimensi, sebaliknya matriks adalah list dua dimensi yang terdiri dari baris dan kolom."
   ]
  },
  {
   "cell_type": "code",
   "execution_count": 1,
   "metadata": {},
   "outputs": [],
   "source": [
    "# Pendefinisian vektor dan elemennya\n",
    "u = [1, 3, 5] # ada 3 elemen pada vektor u\n",
    "\n",
    "afif = [175, 73] # ada 2 elemen dalam vektor\n",
    "budi = [170, 68]\n",
    "deden = [180, 78]"
   ]
  },
  {
   "cell_type": "markdown",
   "metadata": {},
   "source": [
    "$$\n",
    "A = \\begin{pmatrix}\n",
    "5 & 6 & 2\\\\\n",
    "4 & 7 & 19\\\\\n",
    "0 & 3 & 12\n",
    "\\end{pmatrix}\n",
    "$$\n",
    "\n",
    "$$\n",
    "B = \\begin{pmatrix}\n",
    "14 & -2 & 12\\\\\n",
    "4 & 4 & 5\\\\\n",
    "5 & 5 & 1\n",
    "\\end{pmatrix}\n",
    "$$"
   ]
  },
  {
   "cell_type": "markdown",
   "metadata": {},
   "source": [
    "Mendefinisikan matriks A"
   ]
  },
  {
   "cell_type": "code",
   "execution_count": 1,
   "metadata": {},
   "outputs": [],
   "source": [
    "import numpy as np"
   ]
  },
  {
   "cell_type": "code",
   "execution_count": 3,
   "metadata": {},
   "outputs": [
    {
     "data": {
      "text/plain": [
       "matrix([[ 5,  6,  2],\n",
       "        [ 4,  7, 19],\n",
       "        [ 0,  3, 12]])"
      ]
     },
     "execution_count": 3,
     "metadata": {},
     "output_type": "execute_result"
    }
   ],
   "source": [
    "A = np.matrix([[5, 6, 2],\n",
    "               [4, 7, 19],\n",
    "               [0, 3, 12]])\n",
    "A"
   ]
  },
  {
   "cell_type": "code",
   "execution_count": 5,
   "metadata": {},
   "outputs": [
    {
     "data": {
      "text/plain": [
       "matrix([[14, -2, 12],\n",
       "        [ 4,  4,  5],\n",
       "        [ 5,  5,  1]])"
      ]
     },
     "execution_count": 5,
     "metadata": {},
     "output_type": "execute_result"
    }
   ],
   "source": [
    "B = np.matrix([[14, -2, 12],\n",
    "               [4, 4, 5],\n",
    "               [5, 5, 1]])\n",
    "B"
   ]
  },
  {
   "cell_type": "code",
   "execution_count": 2,
   "metadata": {},
   "outputs": [
    {
     "data": {
      "text/plain": [
       "array([1, 2, 3])"
      ]
     },
     "execution_count": 2,
     "metadata": {},
     "output_type": "execute_result"
    }
   ],
   "source": [
    "# Pendefinisian matriks dan dimensinya\n",
    "data_1 = [1,2,3] # Array 1 dimensi, di dalam array langsung data, tidak ada array lagi\n",
    "data_2 = [[1,2,3], [4,5]] # Array 2 dimensi tapi bukan matriks, tidak bisa dijadikan matriks karena beda jumlah elemen\n",
    "data_3 = [[1,2,3], [4,5,6]]\n",
    "\n",
    "# Pendefinisian matriks data_1 dengan menggunakan NumPy\n",
    "import numpy as np\n",
    "vec = np.array(data_1)\n",
    "vec\n",
    "\n",
    "# Pendefinisian matriks data_2\n",
    "## data = np.array(data_2)\n",
    "## data\n",
    "## tidak mampu membuat ini menjadi matriks karena beda jumlah elemen"
   ]
  },
  {
   "cell_type": "code",
   "execution_count": 3,
   "metadata": {},
   "outputs": [
    {
     "data": {
      "text/plain": [
       "array([[1, 2, 3],\n",
       "       [4, 5, 6]])"
      ]
     },
     "execution_count": 3,
     "metadata": {},
     "output_type": "execute_result"
    }
   ],
   "source": [
    "# Pendefinisian matriks data_3\n",
    "\n",
    "mat = np.array(data_3)\n",
    "mat"
   ]
  },
  {
   "cell_type": "code",
   "execution_count": 4,
   "metadata": {},
   "outputs": [
    {
     "data": {
      "text/plain": [
       "array([[1, 2],\n",
       "       [3, 4],\n",
       "       [5, 6],\n",
       "       [7, 8]])"
      ]
     },
     "execution_count": 4,
     "metadata": {},
     "output_type": "execute_result"
    }
   ],
   "source": [
    "# Pendefinisian matriks dengan menyebutkan list terlebih dahulu\n",
    "\n",
    "data = [[1,2], [3,4], [5,6], [7,8]] # pastikan jumlah elemen di list dalam sama\n",
    "data_mat = np.array(data)\n",
    "data_mat"
   ]
  },
  {
   "cell_type": "code",
   "execution_count": 5,
   "metadata": {},
   "outputs": [
    {
     "data": {
      "text/plain": [
       "array([[1, 2, 3],\n",
       "       [1, 0, 3]])"
      ]
     },
     "execution_count": 5,
     "metadata": {},
     "output_type": "execute_result"
    }
   ],
   "source": [
    "# Pendefinisian matriks secara langsung dalam variabel\n",
    "\n",
    "v = np.array([[1,2,3], [1,0,3]])\n",
    "v"
   ]
  },
  {
   "cell_type": "markdown",
   "metadata": {},
   "source": [
    "## Types of Matrix\n",
    "\n",
    "1. Square Matrix *X(m,m)*   : X=array([4,92], [3,5,7], [8,1,6])\n",
    "2. Upper Triangle matrix    : np.triu(X)\n",
    "3. Lower Triangle matrix    : np.tril(X)\n",
    "4. Diagonal Matrix          : np.diag(X)\n",
    "5. Identity Matrix          : np.eye(shape)"
   ]
  },
  {
   "cell_type": "markdown",
   "metadata": {},
   "source": [
    "## Operasi Aritmatika"
   ]
  },
  {
   "cell_type": "markdown",
   "metadata": {},
   "source": [
    "### Penjumlahan Matriks\n",
    "\n",
    "Matriks dapat dijumlahkan atau dikurangkan dengan matriks lain. Penambahan/pengurangan akan dilakukan pada setiap elemen. Ukuran matriks harus sama. Misalkan kedua matriks harus sama memiliki ukuran 3x2."
   ]
  },
  {
   "cell_type": "code",
   "execution_count": 6,
   "metadata": {},
   "outputs": [],
   "source": [
    "# Operasi Penjumlahan Antar Matriks\n",
    "\n",
    "## Pendefinisian matriks A\n",
    "\n",
    "A = [[1,2,3],\n",
    "     [4,5,6],\n",
    "     [7,8,9]]\n",
    "A = np.array(A)\n",
    "\n",
    "## Pendefinisian matriks C\n",
    "\n",
    "C = [[7,8,9],\n",
    "     [9,8,7]]\n",
    "C = np.array(C)\n",
    "\n",
    "# A + C tidak bisa dioperasikan karena beda jumlah elemen"
   ]
  },
  {
   "cell_type": "code",
   "execution_count": 7,
   "metadata": {},
   "outputs": [
    {
     "data": {
      "text/plain": [
       "array([[ 8, 10, 12],\n",
       "       [13, 13, 13],\n",
       "       [10, 12, 14]])"
      ]
     },
     "execution_count": 7,
     "metadata": {},
     "output_type": "execute_result"
    }
   ],
   "source": [
    "# Operasi Penjumlahan Antar Matriks\n",
    "\n",
    "B = [[7,8,9],\n",
    "     [9,8,7],\n",
    "     [3,4,5]]\n",
    "B = np.array(B)\n",
    "\n",
    "A + B"
   ]
  },
  {
   "cell_type": "markdown",
   "metadata": {},
   "source": [
    "### Pengurangan Matriks"
   ]
  },
  {
   "cell_type": "code",
   "execution_count": 8,
   "metadata": {},
   "outputs": [
    {
     "data": {
      "text/plain": [
       "array([[-6, -6, -6],\n",
       "       [-5, -3, -1],\n",
       "       [ 4,  4,  4]])"
      ]
     },
     "execution_count": 8,
     "metadata": {},
     "output_type": "execute_result"
    }
   ],
   "source": [
    "# Operasi Pengurangan Antar Matriks\n",
    "\n",
    "## Pendefinisian matriks A\n",
    "\n",
    "A = [[1,2,3],\n",
    "     [4,5,6],\n",
    "     [7,8,9]]\n",
    "A = np.array(A)\n",
    "\n",
    "## Pendefinisian matriks B\n",
    "\n",
    "B = [[7,8,9],\n",
    "     [9,8,7],\n",
    "     [3,4,5]]\n",
    "B = np.array(B)\n",
    "\n",
    "A-B"
   ]
  },
  {
   "cell_type": "markdown",
   "metadata": {},
   "source": [
    "### Perkalian Matriks"
   ]
  },
  {
   "cell_type": "markdown",
   "metadata": {},
   "source": [
    "Ada tiga cara untuk melakukan perkalian matriks, yaitu matriks dengan bilangan, perkalian hadamard, dan antar matriks. \n",
    "\n",
    "Untuk melakukan perkalian matriks dengan skalar, cukup kalikan setiap elemen dengan skalar. Misalkan kita memiliki matriks 3x2."
   ]
  },
  {
   "cell_type": "code",
   "execution_count": 9,
   "metadata": {},
   "outputs": [
    {
     "data": {
      "text/plain": [
       "array([[ 3,  6,  9],\n",
       "       [12, 15, 18],\n",
       "       [21, 24, 27]])"
      ]
     },
     "execution_count": 9,
     "metadata": {},
     "output_type": "execute_result"
    }
   ],
   "source": [
    "# Operasi Perkalian Matriks dengan Bilangan\n",
    "\n",
    "3*A"
   ]
  },
  {
   "cell_type": "markdown",
   "metadata": {},
   "source": [
    "Pada dasarnya perkalian Hadamard tidak jauh berbeda dengan perkalian vektor – vektor. Operasi dilakukan berdasarkan elemen. Simbol perkalian akan dinotasikan dengan (*)."
   ]
  },
  {
   "cell_type": "code",
   "execution_count": 10,
   "metadata": {},
   "outputs": [
    {
     "data": {
      "text/plain": [
       "array([[ 7, 16, 27],\n",
       "       [36, 40, 42],\n",
       "       [21, 32, 45]])"
      ]
     },
     "execution_count": 10,
     "metadata": {},
     "output_type": "execute_result"
    }
   ],
   "source": [
    "# Operasi Perkalian Hadamard Product (element wise multiplication)\n",
    "\n",
    "A * B "
   ]
  },
  {
   "cell_type": "markdown",
   "metadata": {},
   "source": [
    "Perkalian antar matriks berbeda dengan perkalian lainnya dan cukup rumit. Operasi harus mengikuti aturan bahwa jumlah kolom pada matriks pertama harus sama dengan jumlah baris pada matriks kedua."
   ]
  },
  {
   "cell_type": "code",
   "execution_count": 11,
   "metadata": {},
   "outputs": [
    {
     "data": {
      "text/plain": [
       "array([[ 34,  36,  38],\n",
       "       [ 91,  96, 101],\n",
       "       [148, 156, 164]])"
      ]
     },
     "execution_count": 11,
     "metadata": {},
     "output_type": "execute_result"
    }
   ],
   "source": [
    "# Cara 1 : Operasi Perkalian Antar Matrix\n",
    "\n",
    "A @ B "
   ]
  },
  {
   "cell_type": "code",
   "execution_count": 12,
   "metadata": {},
   "outputs": [
    {
     "data": {
      "text/plain": [
       "array([[ 34,  36,  38],\n",
       "       [ 91,  96, 101],\n",
       "       [148, 156, 164]])"
      ]
     },
     "execution_count": 12,
     "metadata": {},
     "output_type": "execute_result"
    }
   ],
   "source": [
    "# Cara 2 : Operasi Perkalian Antar Matrix\n",
    "\n",
    "np.dot(A,B)"
   ]
  },
  {
   "cell_type": "code",
   "execution_count": 13,
   "metadata": {},
   "outputs": [
    {
     "data": {
      "text/plain": [
       "array([[21, 24, 13],\n",
       "       [47, 54, 33],\n",
       "       [73, 84, 53]])"
      ]
     },
     "execution_count": 13,
     "metadata": {},
     "output_type": "execute_result"
    }
   ],
   "source": [
    "# Contoh Operasi Perkalian Antar Matrix\n",
    "\n",
    "C = [[1,2],\n",
    "     [3,4],\n",
    "     [5,6]]\n",
    "C = np.array(C)\n",
    "\n",
    "D = [[5,6,7],\n",
    "     [8,9,3]]\n",
    "D = np.array(D)\n",
    "\n",
    "C @ D"
   ]
  },
  {
   "cell_type": "markdown",
   "metadata": {},
   "source": [
    "### Pembagian Matriks\n",
    "\n",
    "Pembagian matriks dilakukan sama seperti pembagian vektor dan perkalian Hadamard."
   ]
  },
  {
   "cell_type": "code",
   "execution_count": 14,
   "metadata": {},
   "outputs": [
    {
     "data": {
      "text/plain": [
       "array([[0.33333333, 0.66666667, 1.        ],\n",
       "       [1.33333333, 1.66666667, 2.        ],\n",
       "       [2.33333333, 2.66666667, 3.        ]])"
      ]
     },
     "execution_count": 14,
     "metadata": {},
     "output_type": "execute_result"
    }
   ],
   "source": [
    "# Pembagian Dengan Bilangan\n",
    "\n",
    "A/3"
   ]
  },
  {
   "cell_type": "code",
   "execution_count": 15,
   "metadata": {},
   "outputs": [
    {
     "data": {
      "text/plain": [
       "array([[0.14285714, 0.25      , 0.33333333],\n",
       "       [0.44444444, 0.625     , 0.85714286],\n",
       "       [2.33333333, 2.        , 1.8       ]])"
      ]
     },
     "execution_count": 15,
     "metadata": {},
     "output_type": "execute_result"
    }
   ],
   "source": [
    "# Pembagian Hadamard Product (element wise)\n",
    "\n",
    "A / B"
   ]
  },
  {
   "cell_type": "markdown",
   "metadata": {},
   "source": [
    "## Transpose"
   ]
  },
  {
   "cell_type": "markdown",
   "metadata": {},
   "source": [
    "Matriks dapat ditransposisikan. Transpose matriks artinya membuat matriks baru dengan jumlah kolom dan baris yang dibalik atau ditranspose. Ini dilambangkan dengan superskrip T di sebelah matriks A^T ."
   ]
  },
  {
   "cell_type": "code",
   "execution_count": 16,
   "metadata": {},
   "outputs": [
    {
     "data": {
      "text/plain": [
       "array([[1, 4, 7],\n",
       "       [2, 5, 8],\n",
       "       [3, 6, 9]])"
      ]
     },
     "execution_count": 16,
     "metadata": {},
     "output_type": "execute_result"
    }
   ],
   "source": [
    "# Transpose Matriks\n",
    "\n",
    "A.T"
   ]
  },
  {
   "cell_type": "markdown",
   "metadata": {},
   "source": [
    "### Invers"
   ]
  },
  {
   "cell_type": "markdown",
   "metadata": {},
   "source": [
    "Invers matriks adalah proses mencari matriks lain yang jika dikalikan dengan matriks tersebut akan menghasilkan matriks identitas. Operasi pembalik suatu matriks ditunjukkan oleh superskrip 1 di sebelah matriks; misalnya, A−1. Hasil dari operasi tersebut disebut sebagai invers dari matriks aslinya; misalnya, B adalah kebalikan dari A. \n",
    "\n",
    "Operasi invers matriks tidak dihitung secara langsung, melainkan matriks terbalik ditemukan melalui operasi numerik, di mana serangkaian metode yang efisien dapat digunakan, sering kali melibatkan bentuk dekomposisi matriks."
   ]
  },
  {
   "cell_type": "code",
   "execution_count": 17,
   "metadata": {},
   "outputs": [
    {
     "data": {
      "text/plain": [
       "array([[-1.33333333,  0.33333333],\n",
       "       [ 1.16666667, -0.16666667]])"
      ]
     },
     "execution_count": 17,
     "metadata": {},
     "output_type": "execute_result"
    }
   ],
   "source": [
    "# Operasi Invers Matriks\n",
    "## Pendefinisian Matriks A\n",
    "A = np.array([[1,2], [7,8]])\n",
    "\n",
    "## Pendefinisian invers dengan menggunakan numpy.linalg\n",
    "from numpy.linalg import inv\n",
    "inv_A = inv(A)\n",
    "inv_A"
   ]
  },
  {
   "cell_type": "code",
   "execution_count": 18,
   "metadata": {},
   "outputs": [
    {
     "data": {
      "text/plain": [
       "array([[1., 0.],\n",
       "       [0., 1.]])"
      ]
     },
     "execution_count": 18,
     "metadata": {},
     "output_type": "execute_result"
    }
   ],
   "source": [
    "# Perkalian Invers dengan Matriks\n",
    "## Hasil outputnya adalah matriks identitas\n",
    "\n",
    "A @ inv_A"
   ]
  },
  {
   "cell_type": "markdown",
   "metadata": {},
   "source": [
    "## Determinant"
   ]
  },
  {
   "cell_type": "markdown",
   "metadata": {},
   "source": [
    "Determinan menggambarkan geometri relatif dari vektor-vektor yang menyusun baris-baris matriks. Lebih khusus lagi, determinan matriks A memberi tahu Anda volume sebuah kotak dengan sisi-sisi yang diberikan oleh baris-baris A.\n",
    "\n",
    "Determinant dilambangkan dengan notasi det(A) atau |A|, di mana A adalah matriks tempat kita menghitung determinan. \n",
    "\n",
    "Matriks untuk operasi determinant harus matriks persegi.\n",
    "\n",
    "Determinant hanya digunakan untuk mendeteksi matriks punya invers atau tidak."
   ]
  },
  {
   "cell_type": "code",
   "execution_count": 19,
   "metadata": {},
   "outputs": [
    {
     "data": {
      "text/plain": [
       "1.0"
      ]
     },
     "execution_count": 19,
     "metadata": {},
     "output_type": "execute_result"
    }
   ],
   "source": [
    "# Operasi Determinan\n",
    "\n",
    "from numpy.linalg import det\n",
    "B = np.array([[1,2],[2,5]])\n",
    "det(B)"
   ]
  },
  {
   "cell_type": "markdown",
   "metadata": {},
   "source": [
    "## Tensor"
   ]
  },
  {
   "cell_type": "markdown",
   "metadata": {},
   "source": [
    "Tensor adalah generalisasi dari vektor dan matriks dan mudah dipahami sebagai array multidimensi. Vektor adalah tensor orde satu atau orde satu dan matriks adalah tensor orde dua atau orde dua.\n",
    "\n",
    "Tensor bisa dikatakan matriks yang ada di dalam list.\n",
    "\n",
    "Tensor biasanya array 3 dimensi."
   ]
  },
  {
   "cell_type": "code",
   "execution_count": 21,
   "metadata": {},
   "outputs": [],
   "source": [
    "# Pendefinisian Tensor\n",
    "\n",
    "## Pendefinisian Matriks\n",
    "A = np.array([[1,2], [7,8]])\n",
    "B = np.array([[1,1], [1,1]])"
   ]
  },
  {
   "cell_type": "code",
   "execution_count": 29,
   "metadata": {},
   "outputs": [
    {
     "data": {
      "text/plain": [
       "(3, 2)"
      ]
     },
     "execution_count": 29,
     "metadata": {},
     "output_type": "execute_result"
    }
   ],
   "source": [
    "## Melihat ukuran A\n",
    "\n",
    "A.shape"
   ]
  },
  {
   "cell_type": "code",
   "execution_count": 30,
   "metadata": {},
   "outputs": [
    {
     "data": {
      "text/plain": [
       "(3, 2)"
      ]
     },
     "execution_count": 30,
     "metadata": {},
     "output_type": "execute_result"
    }
   ],
   "source": [
    "## Melihat ukuran B\n",
    "\n",
    "B.shape"
   ]
  },
  {
   "cell_type": "code",
   "execution_count": 31,
   "metadata": {},
   "outputs": [
    {
     "data": {
      "text/plain": [
       "array([[[1, 2],\n",
       "        [7, 8],\n",
       "        [1, 1]],\n",
       "\n",
       "       [[1, 1],\n",
       "        [1, 1],\n",
       "        [1, 1]]])"
      ]
     },
     "execution_count": 31,
     "metadata": {},
     "output_type": "execute_result"
    }
   ],
   "source": [
    "## Operasi Tensor\n",
    "\n",
    "tensor = [A, B]\n",
    "tensor = np.array(tensor)\n",
    "tensor"
   ]
  },
  {
   "cell_type": "markdown",
   "metadata": {},
   "source": [
    "Contoh lain:"
   ]
  },
  {
   "cell_type": "code",
   "execution_count": 32,
   "metadata": {},
   "outputs": [],
   "source": [
    "## Pendefinisian Matriks\n",
    "\n",
    "A = np.array([[1,2], [7,8], [1,1]])\n",
    "B = np.array([[1,1], [1,1], [1,1]])\n",
    "C = np.array([[1,1], [1,1], [1,1]])"
   ]
  },
  {
   "cell_type": "code",
   "execution_count": 34,
   "metadata": {},
   "outputs": [
    {
     "data": {
      "text/plain": [
       "array([[[1, 2],\n",
       "        [7, 8],\n",
       "        [1, 1]],\n",
       "\n",
       "       [[1, 1],\n",
       "        [1, 1],\n",
       "        [1, 1]],\n",
       "\n",
       "       [[1, 1],\n",
       "        [1, 1],\n",
       "        [1, 1]]])"
      ]
     },
     "execution_count": 34,
     "metadata": {},
     "output_type": "execute_result"
    }
   ],
   "source": [
    "# Pendefinisian Tensor\n",
    "\n",
    "tensor = [A, B, C]\n",
    "tensor = np.array(tensor)\n",
    "tensor"
   ]
  },
  {
   "cell_type": "code",
   "execution_count": 35,
   "metadata": {},
   "outputs": [
    {
     "data": {
      "text/plain": [
       "(3, 3, 2)"
      ]
     },
     "execution_count": 35,
     "metadata": {},
     "output_type": "execute_result"
    }
   ],
   "source": [
    "# Mencari ukuran tensor\n",
    "\n",
    "tensor.shape"
   ]
  },
  {
   "cell_type": "markdown",
   "metadata": {},
   "source": [
    "---\n",
    "\n",
    "**LATIHAN 1** \n",
    "\n",
    "Hitunglah $A ^ 2 - 2 A + 3$ pada:\n",
    "\n",
    "$$A = \n",
    "\\begin{pmatrix}\n",
    "1 & -1\\\\\n",
    "2 & 1\n",
    "\\end{pmatrix}\n",
    "$$\n",
    "\n",
    "---"
   ]
  },
  {
   "cell_type": "markdown",
   "metadata": {},
   "source": [
    "## Solving Matrix equations\n",
    "\n",
    "We can use Numpy to (efficiently) solve large systems of equations of the form:\n",
    "\n",
    "$$Ax=b$$\n",
    "\n",
    "Let us illustrate that with:\n",
    "\n",
    "$$\n",
    "A = \\begin{pmatrix}\n",
    "5 & 6 & 2\\\\\n",
    "4 & 7 & 19\\\\\n",
    "0 & 3 & 12\n",
    "\\end{pmatrix}\n",
    "$$\n",
    "\n",
    "$$\n",
    "b = \\begin{pmatrix}\n",
    "-1\\\\\n",
    "2\\\\\n",
    "1 \n",
    "\\end{pmatrix}\n",
    "$$"
   ]
  },
  {
   "cell_type": "markdown",
   "metadata": {},
   "source": [
    "Mendefinisikan matriks dengan NumPy:"
   ]
  },
  {
   "cell_type": "code",
   "execution_count": 6,
   "metadata": {},
   "outputs": [],
   "source": [
    "A = np.matrix([[5, 6, 2],\n",
    "               [4, 7, 19],\n",
    "               [0, 3, 12]])\n",
    "b = np.matrix([[-1], [2], [1]])"
   ]
  },
  {
   "cell_type": "markdown",
   "metadata": {},
   "source": [
    "Menggunakan fungsi `linalg.solve`:"
   ]
  },
  {
   "cell_type": "code",
   "execution_count": 7,
   "metadata": {},
   "outputs": [
    {
     "data": {
      "text/plain": [
       "matrix([[ 0.45736434],\n",
       "        [-0.62790698],\n",
       "        [ 0.24031008]])"
      ]
     },
     "execution_count": 7,
     "metadata": {},
     "output_type": "execute_result"
    }
   ],
   "source": [
    "x = np.linalg.solve(A, b)\n",
    "x"
   ]
  },
  {
   "cell_type": "markdown",
   "metadata": {},
   "source": [
    "Hasilnya yang diperoleh:"
   ]
  },
  {
   "cell_type": "code",
   "execution_count": 8,
   "metadata": {},
   "outputs": [
    {
     "data": {
      "text/plain": [
       "matrix([[-1.],\n",
       "        [ 2.],\n",
       "        [ 1.]])"
      ]
     },
     "execution_count": 8,
     "metadata": {},
     "output_type": "execute_result"
    }
   ],
   "source": [
    "A * x"
   ]
  },
  {
   "cell_type": "markdown",
   "metadata": {},
   "source": [
    "---\n",
    "\n",
    "**LATIHAN 2** \n",
    "\n",
    "Hitung persamaan matriks $Bx=b$ (menggunakan $B$ yang didefinisikan sebelumnya).\n",
    "\n",
    "---\n",
    "\n",
    "## Matrix inversion and determinants\n",
    "\n",
    "Menghitung invers suatu matriks:"
   ]
  },
  {
   "cell_type": "code",
   "execution_count": 9,
   "metadata": {},
   "outputs": [
    {
     "data": {
      "text/plain": [
       "matrix([[-0.20930233,  0.51162791, -0.7751938 ],\n",
       "        [ 0.37209302, -0.46511628,  0.6744186 ],\n",
       "        [-0.09302326,  0.11627907, -0.08527132]])"
      ]
     },
     "execution_count": 9,
     "metadata": {},
     "output_type": "execute_result"
    }
   ],
   "source": [
    "Ainv = np.linalg.inv(A)\n",
    "Ainv"
   ]
  },
  {
   "cell_type": "markdown",
   "metadata": {},
   "source": [
    "Mendefinisikan Ainv menjadi : $A^{-1}A=\\mathbb{1}$:"
   ]
  },
  {
   "cell_type": "code",
   "execution_count": 10,
   "metadata": {},
   "outputs": [
    {
     "data": {
      "text/plain": [
       "matrix([[ 1.00000000e+00,  2.77555756e-17,  3.05311332e-16],\n",
       "        [-2.08166817e-16,  1.00000000e+00, -2.08166817e-16],\n",
       "        [ 5.55111512e-17, -5.55111512e-17,  1.00000000e+00]])"
      ]
     },
     "execution_count": 10,
     "metadata": {},
     "output_type": "execute_result"
    }
   ],
   "source": [
    "A * Ainv"
   ]
  },
  {
   "cell_type": "markdown",
   "metadata": {},
   "source": [
    "Matriks tersebut tidak terlihat seperti matriks identitas tetapi jika dilihat lebih teliti, semua diagonalnya adalah `1` dan diagonal yang tidak aktif adalah angka **sangat** kecil (yang dari sudut pandang komputer adalah `0`) ."
   ]
  },
  {
   "cell_type": "markdown",
   "metadata": {},
   "source": [
    "Menghitung determinant:"
   ]
  },
  {
   "cell_type": "code",
   "execution_count": 11,
   "metadata": {},
   "outputs": [
    {
     "data": {
      "text/plain": [
       "-128.99999999999997"
      ]
     },
     "execution_count": 11,
     "metadata": {},
     "output_type": "execute_result"
    }
   ],
   "source": [
    "np.linalg.det(A)"
   ]
  }
 ],
 "metadata": {
  "interpreter": {
   "hash": "c7fde715a1fbd9fb0ef5ba24694befebc1a509d71c376ca4699658f9c6b4eedd"
  },
  "kernelspec": {
   "display_name": "Python 3.9.7 64-bit ('base': conda)",
   "language": "python",
   "name": "python3"
  },
  "language_info": {
   "codemirror_mode": {
    "name": "ipython",
    "version": 3
   },
   "file_extension": ".py",
   "mimetype": "text/x-python",
   "name": "python",
   "nbconvert_exporter": "python",
   "pygments_lexer": "ipython3",
   "version": "3.9.7"
  },
  "orig_nbformat": 4
 },
 "nbformat": 4,
 "nbformat_minor": 2
}
