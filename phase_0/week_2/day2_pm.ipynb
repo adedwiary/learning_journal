{
 "cells": [
  {
   "cell_type": "markdown",
   "metadata": {},
   "source": [
    "# Day 2 PM // Eigendecomposition (Faktorisasi Matriks)"
   ]
  },
  {
   "cell_type": "markdown",
   "metadata": {},
   "source": [
    "## Faktorisasi Matriks"
   ]
  },
  {
   "cell_type": "markdown",
   "metadata": {},
   "source": [
    "Faktorisasi disebut juga memfaktorkan angka. Misalnya, angka 8. Faktorisasi dari angka 8 adalah:\n",
    "\n",
    "- 1 x 8\n",
    "- 2 x 4\n",
    "- 4 x 2\n",
    "- 8 x 1\n",
    "\n",
    "Dalam pembahasan ini, yang difaktorisasi adalah matriks. Contoh:\n",
    "\n",
    "A == B * C, B * C adalah faktorisasi dari A.\n",
    "\n",
    "Salah satu kegunaan dari dekomposisi matrik adalah sistem rekomendasi yang ada di *e-commerce*."
   ]
  },
  {
   "cell_type": "markdown",
   "metadata": {},
   "source": [
    "## Brief Linear Transformation"
   ]
  },
  {
   "cell_type": "markdown",
   "metadata": {},
   "source": [
    "### Real Space atau Bilangan Riil\n",
    "\n",
    "Kita dapat mengambil analogi fungsi y=f(x) untuk memahami transformasi linier. Transformasi linier adalah mentransformasi angka ke dalam bentuk angka yang lain.\n",
    "\n",
    "f:X --> Y; f(x) = y\n",
    "\n",
    "Artinya, f memetakan domain (X) ke range (Y) dengan formulasi f(x) = y\n",
    "\n",
    "Misalnya : x    = {1,2} --> himpunan\n",
    "           f(x) = 2x\n",
    "           Maka:\n",
    "           f(1) = 2\n",
    "           f(2) = 4\n",
    "\n",
    "           y    = f(x) = x^2\n",
    "           x    = {1,2,3}\n",
    "           y    = {1,4,9}\n",
    "\n",
    "### Vector Space\n",
    "\n",
    "Transformasi vektor menggunakan perkalian matriks.\n",
    "\n",
    "T:V --> W; T(v) = w\n",
    "\n",
    "v = [1,2]\n",
    "T = [x, x+y]\n",
    "W = [1, 3]"
   ]
  },
  {
   "cell_type": "code",
   "execution_count": 64,
   "metadata": {},
   "outputs": [],
   "source": [
    "import numpy as np\n",
    "import matplotlib.pyplot as plt\n",
    "\n",
    "def plot_vector2d(vector2d, origin=[0, 0], **options):\n",
    "    return plt.arrow(origin[0], origin[1], vector2d[0], vector2d[1],\n",
    "              head_width=0.2, head_length=0.3, length_includes_head=True,\n",
    "              **options)"
   ]
  },
  {
   "cell_type": "code",
   "execution_count": 65,
   "metadata": {},
   "outputs": [],
   "source": [
    "X = np.array([2, 5])\n",
    "Y = np.array([3, 1])"
   ]
  },
  {
   "cell_type": "code",
   "execution_count": 66,
   "metadata": {},
   "outputs": [
    {
     "data": {
      "text/plain": [
       "4.123105625617661"
      ]
     },
     "execution_count": 66,
     "metadata": {},
     "output_type": "execute_result"
    }
   ],
   "source": [
    "from numpy.linalg import norm\n",
    "\n",
    "norm(X-Y)"
   ]
  },
  {
   "cell_type": "code",
   "execution_count": 67,
   "metadata": {},
   "outputs": [
    {
     "data": {
      "image/png": "[encoded data removed]",
      "text/plain": [
       "<Figure size 432x288 with 1 Axes>"
      ]
     },
     "metadata": {
      "needs_background": "light"
     },
     "output_type": "display_data"
    }
   ],
   "source": [
    "# Representasi Vektor untuk Aljabar Linier\n",
    "## Mencari titik koordinat\n",
    "\n",
    "### X = [2, 5], horizontal 2, vertikal 5\n",
    "### Y = [3, 1], horizontal 3, vertikal 1\n",
    "\n",
    "x_coords, y_coords = zip(X, Y)\n",
    "plt.scatter(x_coords, y_coords, color=[\"r\",\"b\"])\n",
    "plt.axis([0, 9, 0, 6])\n",
    "plt.grid()"
   ]
  },
  {
   "cell_type": "code",
   "execution_count": 68,
   "metadata": {},
   "outputs": [
    {
     "data": {
      "image/png": "[encoded data removed]",
      "text/plain": [
       "<Figure size 432x288 with 1 Axes>"
      ]
     },
     "metadata": {
      "needs_background": "light"
     },
     "output_type": "display_data"
    }
   ],
   "source": [
    "## Membuat garis ke titik koordinat\n",
    "### Melihat arah dari vektor\n",
    "\n",
    "plot_vector2d(X, color=\"r\")\n",
    "plot_vector2d(Y, color=\"b\")\n",
    "plt.axis([0, 9, 0, 6])\n",
    "plt.grid()"
   ]
  },
  {
   "cell_type": "markdown",
   "metadata": {},
   "source": [
    "### Matriks Transformasi\n",
    "\n",
    "<img src='https://i1.wp.com/rumushitung.com/wp-content/uploads/2015/04/matriks-transformasi-lengkap.png?ssl=1' />"
   ]
  },
  {
   "cell_type": "code",
   "execution_count": 69,
   "metadata": {},
   "outputs": [
    {
     "data": {
      "image/png": "[encoded data removed]",
      "text/plain": [
       "<Figure size 432x288 with 1 Axes>"
      ]
     },
     "metadata": {
      "needs_background": "light"
     },
     "output_type": "display_data"
    }
   ],
   "source": [
    "### Mentransformasikan vektor Z ke bentuk garis\n",
    "\n",
    "T = np.array([2,5])\n",
    "plot_vector2d(T, color=\"r\")\n",
    "plt.axis([0,9,0,6])\n",
    "plt.grid()"
   ]
  },
  {
   "cell_type": "markdown",
   "metadata": {},
   "source": [
    "T : V --> W\n",
    "\n",
    "Artinya, T mentransformasi kan V ke W. Caranya adalah dengan mengkalikan transformasi matriks dengan vektornya"
   ]
  },
  {
   "cell_type": "code",
   "execution_count": 70,
   "metadata": {},
   "outputs": [
    {
     "data": {
      "image/png": "[encoded data removed]",
      "text/plain": [
       "<Figure size 432x288 with 1 Axes>"
      ]
     },
     "metadata": {
      "needs_background": "light"
     },
     "output_type": "display_data"
    }
   ],
   "source": [
    "## Transformasi Matriks\n",
    "### Mentransformasikan matriks T ke W, W = perkalian dari V (pencerminan terhadap sumbu x) dengan vektor T\n",
    "\n",
    "T = np.array([2,5])\n",
    "V = np.array([[1,0],   \n",
    "              [0,-1]])\n",
    "W = V @ T\n",
    "plot_vector2d(T, color=\"r\") # merah adalah vektor T\n",
    "plot_vector2d(W, color=\"b\") # biru adalah W (hasil pencerminan vektor T)\n",
    "plt.axis([-9,9,-6,6])\n",
    "plt.grid()"
   ]
  },
  {
   "cell_type": "code",
   "execution_count": 71,
   "metadata": {},
   "outputs": [
    {
     "data": {
      "image/png": "[encoded data removed]",
      "text/plain": [
       "<Figure size 432x288 with 1 Axes>"
      ]
     },
     "metadata": {
      "needs_background": "light"
     },
     "output_type": "display_data"
    }
   ],
   "source": [
    "### Mentransformasikan Vektor 1,1 (x=1, y=1)\n",
    "\n",
    "A = np.array([1,1])\n",
    "plt.scatter([1], [1], color=[\"r\"])\n",
    "plt.axis([0, 9, 0, 6])\n",
    "plt.grid()"
   ]
  },
  {
   "cell_type": "code",
   "execution_count": 72,
   "metadata": {},
   "outputs": [
    {
     "name": "stdout",
     "output_type": "stream",
     "text": [
      "a = [1 1] \n",
      "a' = [3 6]\n"
     ]
    }
   ],
   "source": [
    "### Mendefinisikan Vektor A' (A_t)\n",
    "\n",
    "A = np.array([1,1])\n",
    "M = np.array([[1,2], \n",
    "             [2,4]])\n",
    "A_trans = M @ A # a transformasi\n",
    "print(f\"a = {A} \\na' = {A_trans}\")"
   ]
  },
  {
   "cell_type": "code",
   "execution_count": 73,
   "metadata": {},
   "outputs": [
    {
     "data": {
      "image/png": "[encoded data removed]",
      "text/plain": [
       "<Figure size 432x288 with 1 Axes>"
      ]
     },
     "metadata": {
      "needs_background": "light"
     },
     "output_type": "display_data"
    }
   ],
   "source": [
    "### Membuat Scatter Plot / titik koordinat A dan A' (A_t)\n",
    "\n",
    "x_coords, y_coords = zip(A, A_trans)\n",
    "plt.scatter(x_coords, y_coords, color=[\"r\",\"b\"])\n",
    "plt.axis([0, 9, 0, 8])\n",
    "plt.grid()"
   ]
  },
  {
   "cell_type": "code",
   "execution_count": 74,
   "metadata": {},
   "outputs": [
    {
     "data": {
      "image/png": "[encoded data removed]",
      "text/plain": [
       "<Figure size 432x288 with 1 Axes>"
      ]
     },
     "metadata": {
      "needs_background": "light"
     },
     "output_type": "display_data"
    }
   ],
   "source": [
    "### Membuat Garis Vektor A dan A' (A_t)\n",
    "\n",
    "plot_vector2d(A, color=\"r\")\n",
    "plot_vector2d(A_trans, color=\"b\")\n",
    "plt.plot([0,0], [-6,6], color='green')\n",
    "plt.axis([0, 9, 0, 6])\n",
    "plt.grid()"
   ]
  },
  {
   "cell_type": "markdown",
   "metadata": {},
   "source": [
    "Dua titik A dan A_trans tidak searah karena tidak bisa diambil garis lurus"
   ]
  },
  {
   "cell_type": "code",
   "execution_count": 75,
   "metadata": {},
   "outputs": [
    {
     "name": "stdout",
     "output_type": "stream",
     "text": [
      "B : [1 1] \n",
      "B : [ 5 10]\n"
     ]
    }
   ],
   "source": [
    "### Mendefinisikan Vektor B dan B' (B_trans)\n",
    "\n",
    "B = np.array([1,2])\n",
    "M = np.array([[1,2], [2,4]])\n",
    "B_trans = M @ B\n",
    "print(f\"B : {A} \\nB : {B_trans}\")"
   ]
  },
  {
   "cell_type": "code",
   "execution_count": 76,
   "metadata": {},
   "outputs": [
    {
     "data": {
      "image/png": "[encoded data removed]",
      "text/plain": [
       "<Figure size 432x288 with 1 Axes>"
      ]
     },
     "metadata": {
      "needs_background": "light"
     },
     "output_type": "display_data"
    }
   ],
   "source": [
    "### Membuat Garis Vektor B dan B' (B_trans)\n",
    "\n",
    "x_coords, y_coords = zip(b, b_trans)\n",
    "plt.scatter(x_coords, y_coords, color=[\"r\",\"b\"])\n",
    "plt.axis([0, 9, 0, 11])\n",
    "plt.grid()\n",
    "\n",
    "# searah karena bisa diambil garis lurus"
   ]
  },
  {
   "cell_type": "code",
   "execution_count": 77,
   "metadata": {},
   "outputs": [
    {
     "data": {
      "image/png": "[encoded data removed]",
      "text/plain": [
       "<Figure size 432x288 with 1 Axes>"
      ]
     },
     "metadata": {
      "needs_background": "light"
     },
     "output_type": "display_data"
    }
   ],
   "source": [
    "### Membuat Garis Vektor B dan B' (B_trans)\n",
    "\n",
    "plot_vector2d(B, color=\"r\")\n",
    "plot_vector2d(B_trans, color=\"b\")\n",
    "plt.plot([0,0], [-6,6], color='green')\n",
    "plt.axis([0, 9, 0, 11])\n",
    "plt.grid()"
   ]
  },
  {
   "cell_type": "markdown",
   "metadata": {},
   "source": [
    "Dua titik B dan B_trans searah karena bisa diambil garis lurus. B_trans 5x lebih panjang dari B yang biasa, tapi arahnya sama."
   ]
  },
  {
   "cell_type": "markdown",
   "metadata": {},
   "source": [
    "## Eigen Vector & Value"
   ]
  },
  {
   "cell_type": "markdown",
   "metadata": {},
   "source": [
    "Ketika kita menemukan sebuah vektor, yang jika kita kalikan vektor tersebut dengan sebuah matriks dan menghasilkan bentuk seperti\n",
    "\n",
    "T (v) = 5 v \n",
    "\n",
    "maka, 5 adalah nilai eigen, dan v adalah vektor eigennya."
   ]
  },
  {
   "cell_type": "markdown",
   "metadata": {},
   "source": [
    "<img src='https://www.mathsisfun.com/algebra/images/eigenvalue.svg' />"
   ]
  },
  {
   "cell_type": "markdown",
   "metadata": {},
   "source": [
    "- Vektor eigen adalah vektor yang diperkecil saja tanpa diputar.\n",
    "- Nilai eigen adalah besaran skala vektor. Bisa angka riil, desimal, bahkan imajiner."
   ]
  },
  {
   "cell_type": "markdown",
   "metadata": {},
   "source": [
    "### Bagaimana cara mencari vektor eigen dan nilai matriks?"
   ]
  },
  {
   "cell_type": "markdown",
   "metadata": {},
   "source": [
    "Mencari vektor dan nilai eigen disebut juga dengan mencari dekomposisi eigen. Dengan kata lain, *eigendecomposition* adalah proses untuk menguraikan suatu matriks menjadi vektor eigen dan nilai eigen.\n",
    "\n",
    "Rumus yang digunakan :\n",
    "-          Ax = λx\n",
    "-          Ax = λIx\n",
    "-    Ax - λIx = 0\n",
    "-  (A - λI) X = 0\n",
    "- det(A − λI) = 0"
   ]
  },
  {
   "cell_type": "markdown",
   "metadata": {},
   "source": [
    "<img src='https://miro.medium.com/max/1838/1*22aZVF72wrfKMIz4ANvXpw.png' />"
   ]
  },
  {
   "cell_type": "markdown",
   "metadata": {},
   "source": [
    "## *Eigendecomposition*"
   ]
  },
  {
   "cell_type": "markdown",
   "metadata": {},
   "source": [
    "Dekomposisi eigen merupakan salah satu bentuk dekomposisi/faktorisasi matriks. Mengurai matriks berarti kita ingin mencari hasil kali matriks yang sama dengan matriks awal. Dalam kasus dekomposisi eigen, kita dapat menguraikan matriks awal menjadi produk dari eigen vector dan eigen valuenya."
   ]
  },
  {
   "cell_type": "code",
   "execution_count": 78,
   "metadata": {},
   "outputs": [],
   "source": [
    "# Eigendecomposition\n",
    "\n",
    "import numpy as np\n",
    "from numpy.linalg import eig\n",
    "\n",
    "## Pendefinisian Matriks\n",
    "A = np.array([[1,2], [2,4]])\n",
    "\n",
    "## Faktorisasi\n",
    "eigval, eigvec = eig(A)"
   ]
  },
  {
   "cell_type": "code",
   "execution_count": 79,
   "metadata": {},
   "outputs": [
    {
     "data": {
      "text/plain": [
       "array([0., 5.])"
      ]
     },
     "execution_count": 79,
     "metadata": {},
     "output_type": "execute_result"
    }
   ],
   "source": [
    "## Menampilkan nilai eigen value\n",
    "\n",
    "eigval"
   ]
  },
  {
   "cell_type": "code",
   "execution_count": 80,
   "metadata": {},
   "outputs": [
    {
     "data": {
      "text/plain": [
       "array([[-0.89442719, -0.4472136 ],\n",
       "       [ 0.4472136 , -0.89442719]])"
      ]
     },
     "execution_count": 80,
     "metadata": {},
     "output_type": "execute_result"
    }
   ],
   "source": [
    "## Menampilkan nilai eigen vector\n",
    "\n",
    "eigvec"
   ]
  },
  {
   "cell_type": "markdown",
   "metadata": {},
   "source": [
    "Nilai dari eigen vector adalah nilai satuan atau nilai unit, nilai yang panjangnya adalah satu."
   ]
  },
  {
   "cell_type": "code",
   "execution_count": 81,
   "metadata": {},
   "outputs": [
    {
     "data": {
      "text/plain": [
       "2.23606797749979"
      ]
     },
     "execution_count": 81,
     "metadata": {},
     "output_type": "execute_result"
    }
   ],
   "source": [
    "# Mencari panjang vektor a\n",
    "\n",
    "from numpy.linalg import norm\n",
    "a = np.array([1,2])\n",
    "norm(a) "
   ]
  },
  {
   "cell_type": "code",
   "execution_count": 82,
   "metadata": {},
   "outputs": [
    {
     "data": {
      "text/plain": [
       "2.23606797749979"
      ]
     },
     "execution_count": 82,
     "metadata": {},
     "output_type": "execute_result"
    }
   ],
   "source": [
    "# Memastikan nilai norm(a) benar atau tidak\n",
    "\n",
    "## |a| = akar (1^2 + 2^2)\n",
    "## Hasilnya akar 5\n",
    "\n",
    "np.sqrt(5)"
   ]
  },
  {
   "cell_type": "code",
   "execution_count": 83,
   "metadata": {},
   "outputs": [
    {
     "data": {
      "text/plain": [
       "array([0.4472136 , 0.89442719])"
      ]
     },
     "execution_count": 83,
     "metadata": {},
     "output_type": "execute_result"
    }
   ],
   "source": [
    "# Memastikan nilai eigen vector\n",
    "\n",
    "a / np.sqrt(5)"
   ]
  },
  {
   "cell_type": "markdown",
   "metadata": {},
   "source": [
    "### Rekonstruksi Matriks"
   ]
  },
  {
   "cell_type": "markdown",
   "metadata": {},
   "source": [
    "Untuk menemukan vektor eigen dan nilai matriks, kita membagi matriks menjadi vektor dan nilai eigen juga. Namun, bagaimana cara merekonstruksi matriks ke versi awal?"
   ]
  },
  {
   "cell_type": "code",
   "execution_count": 84,
   "metadata": {},
   "outputs": [
    {
     "data": {
      "text/plain": [
       "array([0., 5.])"
      ]
     },
     "execution_count": 84,
     "metadata": {},
     "output_type": "execute_result"
    }
   ],
   "source": [
    "eigval"
   ]
  },
  {
   "cell_type": "code",
   "execution_count": 85,
   "metadata": {},
   "outputs": [
    {
     "data": {
      "text/plain": [
       "array([[0., 0.],\n",
       "       [0., 5.]])"
      ]
     },
     "execution_count": 85,
     "metadata": {},
     "output_type": "execute_result"
    }
   ],
   "source": [
    "# Rekonstruksi Matriks EIgval\n",
    "\n",
    "from numpy import diag\n",
    "from numpy.linalg import inv\n",
    "diag(eigval)"
   ]
  },
  {
   "cell_type": "code",
   "execution_count": 86,
   "metadata": {},
   "outputs": [
    {
     "data": {
      "text/plain": [
       "array([[-0.89442719, -0.4472136 ],\n",
       "       [ 0.4472136 , -0.89442719]])"
      ]
     },
     "execution_count": 86,
     "metadata": {},
     "output_type": "execute_result"
    }
   ],
   "source": [
    "## Menampilkan Nilai Eigen Vector\n",
    "\n",
    "eigvec"
   ]
  },
  {
   "cell_type": "code",
   "execution_count": 87,
   "metadata": {},
   "outputs": [
    {
     "data": {
      "text/plain": [
       "array([0., 5.])"
      ]
     },
     "execution_count": 87,
     "metadata": {},
     "output_type": "execute_result"
    }
   ],
   "source": [
    "eigval"
   ]
  },
  {
   "cell_type": "code",
   "execution_count": 88,
   "metadata": {},
   "outputs": [
    {
     "data": {
      "text/plain": [
       "array([[1., 2.],\n",
       "       [2., 4.]])"
      ]
     },
     "execution_count": 88,
     "metadata": {},
     "output_type": "execute_result"
    }
   ],
   "source": [
    "## Mendefinisikan Rekonstruksi Matriks\n",
    "\n",
    "B = eigvec @ diag(eigval) @ inv(eigvec)\n",
    "B"
   ]
  },
  {
   "cell_type": "code",
   "execution_count": 89,
   "metadata": {},
   "outputs": [
    {
     "data": {
      "text/plain": [
       "array([[1., 2.],\n",
       "       [2., 4.]])"
      ]
     },
     "execution_count": 89,
     "metadata": {},
     "output_type": "execute_result"
    }
   ],
   "source": [
    "## Mendefinisikan Rekonstruksi Matriks\n",
    "## Cara lain:\n",
    "\n",
    "B = eigvec.dot(diag(eigval)).dot(inv(eigvec))\n",
    "B"
   ]
  },
  {
   "cell_type": "code",
   "execution_count": 90,
   "metadata": {},
   "outputs": [
    {
     "data": {
      "text/plain": [
       "array([[1, 2],\n",
       "       [2, 4]])"
      ]
     },
     "execution_count": 90,
     "metadata": {},
     "output_type": "execute_result"
    }
   ],
   "source": [
    "# Menampilkan Matriks A\n",
    "\n",
    "A"
   ]
  },
  {
   "cell_type": "code",
   "execution_count": 91,
   "metadata": {},
   "outputs": [],
   "source": [
    "# studi kasus\n",
    "\n",
    "N = [[0, 0, 0, 1, 0, 0],\n",
    "     [0.25, 0, 0, 0, 0, 0],\n",
    "     [0.25, 0, 0, 0, 0, 0],\n",
    "     [0, 0, 0, 0, 1, 0],\n",
    "     [0.25, 0, 0, 0, 0, 0],\n",
    "     [0.25, 1, 1, 0, 0, 0]]\n",
    "N = np.array(N)"
   ]
  },
  {
   "cell_type": "code",
   "execution_count": 92,
   "metadata": {},
   "outputs": [
    {
     "data": {
      "text/plain": [
       "array([[0.  , 0.  , 0.  , 1.  , 0.  , 0.  ],\n",
       "       [0.25, 0.  , 0.  , 0.  , 0.  , 0.  ],\n",
       "       [0.25, 0.  , 0.  , 0.  , 0.  , 0.  ],\n",
       "       [0.  , 0.  , 0.  , 0.  , 1.  , 0.  ],\n",
       "       [0.25, 0.  , 0.  , 0.  , 0.  , 0.  ],\n",
       "       [0.25, 1.  , 1.  , 0.  , 0.  , 0.  ]])"
      ]
     },
     "execution_count": 92,
     "metadata": {},
     "output_type": "execute_result"
    }
   ],
   "source": [
    "N"
   ]
  },
  {
   "cell_type": "code",
   "execution_count": 93,
   "metadata": {},
   "outputs": [],
   "source": [
    "eigval, eigvec = eig(N)"
   ]
  },
  {
   "cell_type": "code",
   "execution_count": 94,
   "metadata": {},
   "outputs": [
    {
     "data": {
      "text/plain": [
       "5"
      ]
     },
     "execution_count": 94,
     "metadata": {},
     "output_type": "execute_result"
    }
   ],
   "source": [
    "eigval.argmax()"
   ]
  },
  {
   "cell_type": "code",
   "execution_count": 95,
   "metadata": {},
   "outputs": [
    {
     "data": {
      "text/plain": [
       "array([ 1.        +0.j, -1.        +0.j, -1.        +0.j,  0.63225405+0.j,\n",
       "        0.63225405-0.j, -0.77128308+0.j])"
      ]
     },
     "execution_count": 95,
     "metadata": {},
     "output_type": "execute_result"
    }
   ],
   "source": [
    "eigvec[5]"
   ]
  },
  {
   "cell_type": "code",
   "execution_count": 96,
   "metadata": {},
   "outputs": [
    {
     "data": {
      "text/plain": [
       "0"
      ]
     },
     "execution_count": 96,
     "metadata": {},
     "output_type": "execute_result"
    }
   ],
   "source": [
    "eigvec[5].argmax()"
   ]
  },
  {
   "cell_type": "code",
   "execution_count": 97,
   "metadata": {},
   "outputs": [],
   "source": [
    "# ======\n",
    "a = np.array([1,3,2,10,4])"
   ]
  },
  {
   "cell_type": "code",
   "execution_count": 98,
   "metadata": {},
   "outputs": [
    {
     "data": {
      "text/plain": [
       "3"
      ]
     },
     "execution_count": 98,
     "metadata": {},
     "output_type": "execute_result"
    }
   ],
   "source": [
    "a.argmax()"
   ]
  },
  {
   "cell_type": "code",
   "execution_count": 99,
   "metadata": {},
   "outputs": [
    {
     "data": {
      "text/plain": [
       "10"
      ]
     },
     "execution_count": 99,
     "metadata": {},
     "output_type": "execute_result"
    }
   ],
   "source": [
    "a.max()"
   ]
  },
  {
   "cell_type": "code",
   "execution_count": 100,
   "metadata": {},
   "outputs": [],
   "source": [
    "angka_1, angka_2 = 5*2, 1*4"
   ]
  },
  {
   "cell_type": "code",
   "execution_count": 101,
   "metadata": {},
   "outputs": [
    {
     "data": {
      "text/plain": [
       "10"
      ]
     },
     "execution_count": 101,
     "metadata": {},
     "output_type": "execute_result"
    }
   ],
   "source": [
    "angka_1"
   ]
  },
  {
   "cell_type": "code",
   "execution_count": 102,
   "metadata": {},
   "outputs": [
    {
     "data": {
      "text/plain": [
       "4"
      ]
     },
     "execution_count": 102,
     "metadata": {},
     "output_type": "execute_result"
    }
   ],
   "source": [
    "angka_2"
   ]
  },
  {
   "cell_type": "markdown",
   "metadata": {},
   "source": [
    "Eigendecomposition bisa dianalogikan seperti \"Nasi Goreng\""
   ]
  },
  {
   "cell_type": "markdown",
   "metadata": {},
   "source": [
    "Vektor dan nilai eigen banyak digunakan dalam ilmu komputer. Dalam ilmu data itu sendiri, konsep eigen sangat berguna untuk Analisis Komponen Utama. Selain itu, eigen juga diimplementasikan di Google Search Engine"
   ]
  }
 ],
 "metadata": {
  "interpreter": {
   "hash": "c7fde715a1fbd9fb0ef5ba24694befebc1a509d71c376ca4699658f9c6b4eedd"
  },
  "kernelspec": {
   "display_name": "Python 3.9.7 64-bit ('base': conda)",
   "language": "python",
   "name": "python3"
  },
  "language_info": {
   "codemirror_mode": {
    "name": "ipython",
    "version": 3
   },
   "file_extension": ".py",
   "mimetype": "text/x-python",
   "name": "python",
   "nbconvert_exporter": "python",
   "pygments_lexer": "ipython3",
   "version": "3.10.1"
  },
  "orig_nbformat": 4
 },
 "nbformat": 4,
 "nbformat_minor": 2
}
