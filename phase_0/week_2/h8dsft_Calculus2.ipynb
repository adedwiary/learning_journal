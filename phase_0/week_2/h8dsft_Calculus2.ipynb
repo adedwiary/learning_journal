{
 "cells": [
  {
   "cell_type": "markdown",
   "metadata": {},
   "source": [
    "# Non-Graded Challenge 8"
   ]
  },
  {
   "cell_type": "markdown",
   "metadata": {},
   "source": [
    "### 1. Carilah integral dari sebuah fungsi:\n",
    "\n",
    "$\\int ! (3x^{2}-6x+3) , \\mathrm{d}x.$"
   ]
  },
  {
   "cell_type": "code",
   "execution_count": 5,
   "metadata": {},
   "outputs": [
    {
     "data": {
      "text/latex": [
       "$\\displaystyle 3 x^{2} - 6 x + 3$"
      ],
      "text/plain": [
       "3*x**2 - 6*x + 3"
      ]
     },
     "execution_count": 5,
     "metadata": {},
     "output_type": "execute_result"
    }
   ],
   "source": [
    "# Mencari integral suatu fungsi\n",
    "\n",
    "## import pustaka sympy\n",
    "import sympy as sy\n",
    "\n",
    "## Mendefinisikan variabel x\n",
    "x = sy.Symbol('x')\n",
    "\n",
    "## Mendefinisikan fungsi f\n",
    "f = 3*x**2 - 6*x + 3\n",
    "f"
   ]
  },
  {
   "cell_type": "code",
   "execution_count": 8,
   "metadata": {},
   "outputs": [
    {
     "data": {
      "text/latex": [
       "$\\displaystyle x^{3} - 3 x^{2} + 3 x$"
      ],
      "text/plain": [
       "x**3 - 3*x**2 + 3*x"
      ]
     },
     "execution_count": 8,
     "metadata": {},
     "output_type": "execute_result"
    }
   ],
   "source": [
    "## Integral dari fungsi f\n",
    "\n",
    "sy.integrate(f)"
   ]
  },
  {
   "cell_type": "markdown",
   "metadata": {},
   "source": [
    "### 2. Carilah integral dari sebuah fungsi:\n",
    "\n",
    "$\\int ! (8x^{3}-x^{2}+5x-1) , \\mathrm{d}x.$"
   ]
  },
  {
   "cell_type": "code",
   "execution_count": 9,
   "metadata": {},
   "outputs": [
    {
     "data": {
      "text/latex": [
       "$\\displaystyle 8 x^{3} - x^{2} + 5 x - 1$"
      ],
      "text/plain": [
       "8*x**3 - x**2 + 5*x - 1"
      ]
     },
     "execution_count": 9,
     "metadata": {},
     "output_type": "execute_result"
    }
   ],
   "source": [
    "# Mencari integral suatu fungsi\n",
    "\n",
    "## import pustaka sympy\n",
    "import sympy as sy\n",
    "\n",
    "## Mendefinisikan variabel x\n",
    "x = sy.Symbol('x')\n",
    "\n",
    "## Mendefinisikan fungsi y\n",
    "y = 8*x**3 - x**2 + 5*x - 1\n",
    "y"
   ]
  },
  {
   "cell_type": "code",
   "execution_count": 10,
   "metadata": {},
   "outputs": [
    {
     "data": {
      "text/latex": [
       "$\\displaystyle 2 x^{4} - \\frac{x^{3}}{3} + \\frac{5 x^{2}}{2} - x$"
      ],
      "text/plain": [
       "2*x**4 - x**3/3 + 5*x**2/2 - x"
      ]
     },
     "execution_count": 10,
     "metadata": {},
     "output_type": "execute_result"
    }
   ],
   "source": [
    "## Integral dari fungsi y\n",
    "\n",
    "sy.integrate(y)"
   ]
  }
 ],
 "metadata": {
  "interpreter": {
   "hash": "c7fde715a1fbd9fb0ef5ba24694befebc1a509d71c376ca4699658f9c6b4eedd"
  },
  "kernelspec": {
   "display_name": "Python 3.9.7 64-bit ('base': conda)",
   "language": "python",
   "name": "python3"
  },
  "language_info": {
   "codemirror_mode": {
    "name": "ipython",
    "version": 3
   },
   "file_extension": ".py",
   "mimetype": "text/x-python",
   "name": "python",
   "nbconvert_exporter": "python",
   "pygments_lexer": "ipython3",
   "version": "3.9.7"
  },
  "orig_nbformat": 4
 },
 "nbformat": 4,
 "nbformat_minor": 2
}
