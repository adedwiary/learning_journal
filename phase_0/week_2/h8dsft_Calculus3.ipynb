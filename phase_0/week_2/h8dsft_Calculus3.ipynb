{
 "cells": [
  {
   "cell_type": "markdown",
   "metadata": {},
   "source": [
    "# Non-Graded Challenge 7"
   ]
  },
  {
   "cell_type": "markdown",
   "metadata": {},
   "source": [
    "Carilah gradient dari sebuah fungsi:\n",
    "\n",
    "$3x+4y=5$"
   ]
  },
  {
   "cell_type": "markdown",
   "metadata": {},
   "source": [
    "### 1. Gradien"
   ]
  },
  {
   "cell_type": "code",
   "execution_count": 1,
   "metadata": {},
   "outputs": [
    {
     "data": {
      "text/latex": [
       "$\\displaystyle 3 x + 4 y - 5$"
      ],
      "text/plain": [
       "3*x + 4*y - 5"
      ]
     },
     "execution_count": 1,
     "metadata": {},
     "output_type": "execute_result"
    }
   ],
   "source": [
    "# Mendefinisikan fungsi dengan sympy\n",
    "\n",
    "## Import pustaka sympy\n",
    "import sympy as sy\n",
    "\n",
    "## Mendefinisikan variabel x dan y\n",
    "x = sy.Symbol('x')\n",
    "y = sy.Symbol('y')\n",
    "\n",
    "## Mendefinisikan fungsi f\n",
    "f = 3*x + 4*y - 5\n",
    "f"
   ]
  },
  {
   "cell_type": "markdown",
   "metadata": {},
   "source": [
    "Numerik:"
   ]
  },
  {
   "cell_type": "code",
   "execution_count": 5,
   "metadata": {},
   "outputs": [],
   "source": [
    "# Mengimport numpy\n",
    "import numpy as np\n",
    "\n",
    "# Mendefinisikan X berupa array\n",
    "X = np.linspace(-20,20)\n",
    "\n",
    "# Mendefinisikan Y berupa array\n",
    "Y = -0.75*X + 1.25"
   ]
  },
  {
   "cell_type": "code",
   "execution_count": 6,
   "metadata": {},
   "outputs": [
    {
     "data": {
      "text/plain": [
       "array([-20.        , -19.18367347, -18.36734694, -17.55102041,\n",
       "       -16.73469388, -15.91836735, -15.10204082, -14.28571429,\n",
       "       -13.46938776, -12.65306122, -11.83673469, -11.02040816,\n",
       "       -10.20408163,  -9.3877551 ,  -8.57142857,  -7.75510204,\n",
       "        -6.93877551,  -6.12244898,  -5.30612245,  -4.48979592,\n",
       "        -3.67346939,  -2.85714286,  -2.04081633,  -1.2244898 ,\n",
       "        -0.40816327,   0.40816327,   1.2244898 ,   2.04081633,\n",
       "         2.85714286,   3.67346939,   4.48979592,   5.30612245,\n",
       "         6.12244898,   6.93877551,   7.75510204,   8.57142857,\n",
       "         9.3877551 ,  10.20408163,  11.02040816,  11.83673469,\n",
       "        12.65306122,  13.46938776,  14.28571429,  15.10204082,\n",
       "        15.91836735,  16.73469388,  17.55102041,  18.36734694,\n",
       "        19.18367347,  20.        ])"
      ]
     },
     "execution_count": 6,
     "metadata": {},
     "output_type": "execute_result"
    }
   ],
   "source": [
    "X"
   ]
  },
  {
   "cell_type": "code",
   "execution_count": 7,
   "metadata": {},
   "outputs": [
    {
     "data": {
      "text/plain": [
       "array([ 16.25      ,  15.6377551 ,  15.0255102 ,  14.41326531,\n",
       "        13.80102041,  13.18877551,  12.57653061,  11.96428571,\n",
       "        11.35204082,  10.73979592,  10.12755102,   9.51530612,\n",
       "         8.90306122,   8.29081633,   7.67857143,   7.06632653,\n",
       "         6.45408163,   5.84183673,   5.22959184,   4.61734694,\n",
       "         4.00510204,   3.39285714,   2.78061224,   2.16836735,\n",
       "         1.55612245,   0.94387755,   0.33163265,  -0.28061224,\n",
       "        -0.89285714,  -1.50510204,  -2.11734694,  -2.72959184,\n",
       "        -3.34183673,  -3.95408163,  -4.56632653,  -5.17857143,\n",
       "        -5.79081633,  -6.40306122,  -7.01530612,  -7.62755102,\n",
       "        -8.23979592,  -8.85204082,  -9.46428571, -10.07653061,\n",
       "       -10.68877551, -11.30102041, -11.91326531, -12.5255102 ,\n",
       "       -13.1377551 , -13.75      ])"
      ]
     },
     "execution_count": 7,
     "metadata": {},
     "output_type": "execute_result"
    }
   ],
   "source": [
    "Y"
   ]
  },
  {
   "cell_type": "code",
   "execution_count": 8,
   "metadata": {},
   "outputs": [
    {
     "data": {
      "text/plain": [
       "[<matplotlib.lines.Line2D at 0x1d76ae9c370>]"
      ]
     },
     "execution_count": 8,
     "metadata": {},
     "output_type": "execute_result"
    },
    {
     "data": {
      "image/png": "[encoded data removed]",
      "text/plain": [
       "<Figure size 432x288 with 1 Axes>"
      ]
     },
     "metadata": {
      "needs_background": "light"
     },
     "output_type": "display_data"
    }
   ],
   "source": [
    "# Mengimport matplotlib\n",
    "import matplotlib.pyplot as plt\n",
    "\n",
    "# Membuat plot X dan Y\n",
    "plt.plot(X,Y)"
   ]
  },
  {
   "cell_type": "code",
   "execution_count": 9,
   "metadata": {},
   "outputs": [],
   "source": [
    "# Menghitung Turunan Menggunakan NumPy\n",
    "\n",
    "## T\n",
    "df1 = np.diff(Y)/np.diff(X)\n",
    "df2 = np.gradient(Y,X)"
   ]
  },
  {
   "cell_type": "code",
   "execution_count": 12,
   "metadata": {},
   "outputs": [
    {
     "data": {
      "text/plain": [
       "(50,)"
      ]
     },
     "execution_count": 12,
     "metadata": {},
     "output_type": "execute_result"
    }
   ],
   "source": [
    "X.shape"
   ]
  },
  {
   "cell_type": "code",
   "execution_count": 10,
   "metadata": {},
   "outputs": [
    {
     "data": {
      "text/plain": [
       "(49,)"
      ]
     },
     "execution_count": 10,
     "metadata": {},
     "output_type": "execute_result"
    }
   ],
   "source": [
    "# Mencari Tahu Ukuran df1\n",
    "df1.shape"
   ]
  },
  {
   "cell_type": "code",
   "execution_count": 11,
   "metadata": {},
   "outputs": [
    {
     "data": {
      "text/plain": [
       "[<matplotlib.lines.Line2D at 0x1d76af9eb20>]"
      ]
     },
     "execution_count": 11,
     "metadata": {},
     "output_type": "execute_result"
    },
    {
     "data": {
      "image/png": "[encoded data removed]",
      "text/plain": [
       "<Figure size 432x288 with 1 Axes>"
      ]
     },
     "metadata": {
      "needs_background": "light"
     },
     "output_type": "display_data"
    }
   ],
   "source": [
    "# Membuat plot df1, slicing X[1:] karena shape df1 = 49, sedangkan X = 50\n",
    "\n",
    "plt.plot(X[1:],df1)"
   ]
  },
  {
   "cell_type": "code",
   "execution_count": 13,
   "metadata": {},
   "outputs": [
    {
     "data": {
      "text/plain": [
       "(50,)"
      ]
     },
     "execution_count": 13,
     "metadata": {},
     "output_type": "execute_result"
    }
   ],
   "source": [
    "# Mencari Tahu Ukuran df2\n",
    "\n",
    "df2.shape"
   ]
  },
  {
   "cell_type": "code",
   "execution_count": 14,
   "metadata": {},
   "outputs": [
    {
     "data": {
      "text/plain": [
       "[<matplotlib.lines.Line2D at 0x1d76b019cd0>]"
      ]
     },
     "execution_count": 14,
     "metadata": {},
     "output_type": "execute_result"
    },
    {
     "data": {
      "image/png": "[encoded data removed]",
      "text/plain": [
       "<Figure size 432x288 with 1 Axes>"
      ]
     },
     "metadata": {
      "needs_background": "light"
     },
     "output_type": "display_data"
    }
   ],
   "source": [
    "# Membuat plot df2, tanpa slicing karena shape df2 sama dengan X\n",
    "\n",
    "plt.plot(X,df2)"
   ]
  },
  {
   "cell_type": "markdown",
   "metadata": {},
   "source": [
    "Simbolik:"
   ]
  },
  {
   "cell_type": "code",
   "execution_count": 12,
   "metadata": {},
   "outputs": [
    {
     "data": {
      "text/latex": [
       "$\\displaystyle \\left[\\begin{matrix}3 & 4\\end{matrix}\\right]$"
      ],
      "text/plain": [
       "[3, 4]"
      ]
     },
     "execution_count": 12,
     "metadata": {},
     "output_type": "execute_result"
    }
   ],
   "source": [
    "## Mencari gradien fungsi f terhadap x dan y\n",
    "\n",
    "from sympy.tensor.array import derive_by_array\n",
    "grad = derive_by_array(f, (x,y))\n",
    "grad"
   ]
  },
  {
   "cell_type": "code",
   "execution_count": 13,
   "metadata": {},
   "outputs": [
    {
     "data": {
      "text/plain": [
       "sympy.tensor.array.dense_ndim_array.ImmutableDenseNDimArray"
      ]
     },
     "execution_count": 13,
     "metadata": {},
     "output_type": "execute_result"
    }
   ],
   "source": [
    "### Menampilkan type gradien\n",
    "\n",
    "type(grad)"
   ]
  },
  {
   "cell_type": "markdown",
   "metadata": {},
   "source": [
    "### 2. Jacobian"
   ]
  },
  {
   "cell_type": "code",
   "execution_count": 6,
   "metadata": {},
   "outputs": [
    {
     "data": {
      "text/latex": [
       "$\\displaystyle \\left[\\begin{matrix}3 x + 4 y - 5\\end{matrix}\\right]$"
      ],
      "text/plain": [
       "Matrix([[3*x + 4*y - 5]])"
      ]
     },
     "execution_count": 6,
     "metadata": {},
     "output_type": "execute_result"
    }
   ],
   "source": [
    "# Mencari Jacobian\n",
    "\n",
    "f_jacob = sy.Matrix([f])\n",
    "f_jacob"
   ]
  },
  {
   "cell_type": "code",
   "execution_count": 7,
   "metadata": {},
   "outputs": [
    {
     "data": {
      "text/plain": [
       "sympy.matrices.dense.MutableDenseMatrix"
      ]
     },
     "execution_count": 7,
     "metadata": {},
     "output_type": "execute_result"
    }
   ],
   "source": [
    "type(f_jacob)"
   ]
  },
  {
   "cell_type": "code",
   "execution_count": 8,
   "metadata": {},
   "outputs": [
    {
     "data": {
      "text/latex": [
       "$\\displaystyle \\left[\\begin{matrix}3 & 4\\end{matrix}\\right]$"
      ],
      "text/plain": [
       "Matrix([[3, 4]])"
      ]
     },
     "execution_count": 8,
     "metadata": {},
     "output_type": "execute_result"
    }
   ],
   "source": [
    "par = sy.Matrix([x,y])\n",
    "f_jacob.jacobian(par)"
   ]
  },
  {
   "cell_type": "code",
   "execution_count": 9,
   "metadata": {},
   "outputs": [
    {
     "data": {
      "text/latex": [
       "$\\displaystyle \\left[\\begin{matrix}0 & 0\\\\0 & 0\\end{matrix}\\right]$"
      ],
      "text/plain": [
       "Matrix([\n",
       "[0, 0],\n",
       "[0, 0]])"
      ]
     },
     "execution_count": 9,
     "metadata": {},
     "output_type": "execute_result"
    }
   ],
   "source": [
    "sy.Matrix(grad).jacobian(sy.Matrix([x,y]))"
   ]
  },
  {
   "cell_type": "code",
   "execution_count": 10,
   "metadata": {},
   "outputs": [
    {
     "data": {
      "text/latex": [
       "$\\displaystyle \\left[\\begin{matrix}0 & 0\\\\0 & 0\\end{matrix}\\right]$"
      ],
      "text/plain": [
       "Matrix([\n",
       "[0, 0],\n",
       "[0, 0]])"
      ]
     },
     "execution_count": 10,
     "metadata": {},
     "output_type": "execute_result"
    }
   ],
   "source": [
    "matrix_grad = sy.Matrix(grad)\n",
    "vars = sy.Matrix([x,y])\n",
    "matrix_grad.jacobian(vars)"
   ]
  },
  {
   "cell_type": "markdown",
   "metadata": {},
   "source": [
    "### 3. Hessian"
   ]
  },
  {
   "cell_type": "code",
   "execution_count": 11,
   "metadata": {},
   "outputs": [
    {
     "data": {
      "text/latex": [
       "$\\displaystyle \\left[\\begin{matrix}0 & 0\\\\0 & 0\\end{matrix}\\right]$"
      ],
      "text/plain": [
       "Matrix([\n",
       "[0, 0],\n",
       "[0, 0]])"
      ]
     },
     "execution_count": 11,
     "metadata": {},
     "output_type": "execute_result"
    }
   ],
   "source": [
    "sy.hessian(f,(x,y))"
   ]
  }
 ],
 "metadata": {
  "interpreter": {
   "hash": "c7fde715a1fbd9fb0ef5ba24694befebc1a509d71c376ca4699658f9c6b4eedd"
  },
  "kernelspec": {
   "display_name": "Python 3.9.7 64-bit ('base': conda)",
   "language": "python",
   "name": "python3"
  },
  "language_info": {
   "codemirror_mode": {
    "name": "ipython",
    "version": 3
   },
   "file_extension": ".py",
   "mimetype": "text/x-python",
   "name": "python",
   "nbconvert_exporter": "python",
   "pygments_lexer": "ipython3",
   "version": "3.9.7"
  },
  "orig_nbformat": 4
 },
 "nbformat": 4,
 "nbformat_minor": 2
}
