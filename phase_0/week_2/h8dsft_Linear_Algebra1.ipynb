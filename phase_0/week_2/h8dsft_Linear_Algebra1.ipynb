{
 "cells": [
  {
   "cell_type": "markdown",
   "metadata": {},
   "source": [
    "# Non-Graded Challenge 3"
   ]
  },
  {
   "cell_type": "markdown",
   "metadata": {},
   "source": [
    "1. Buatlah Vector dibawah ini dengan Python:\n",
    "\n",
    "$$ \\begin{bmatrix} 17 \n",
    "                \\  22 \n",
    "                \\  19 \\end{bmatrix} $$"
   ]
  },
  {
   "cell_type": "code",
   "execution_count": 1,
   "metadata": {},
   "outputs": [],
   "source": [
    "# Pendefinisian vektor dengan menggunakan list\n",
    "\n",
    "z = [17, 22, 19]"
   ]
  },
  {
   "cell_type": "code",
   "execution_count": 2,
   "metadata": {},
   "outputs": [
    {
     "data": {
      "text/plain": [
       "array([17, 22, 19])"
      ]
     },
     "execution_count": 2,
     "metadata": {},
     "output_type": "execute_result"
    }
   ],
   "source": [
    "# Pendefinisian vektor dengan menggunakan NumPy\n",
    "\n",
    "import numpy as np\n",
    "\n",
    "vect_z = np.array(z)\n",
    "vect_z"
   ]
  },
  {
   "cell_type": "markdown",
   "metadata": {},
   "source": [
    "2. Diberikan 3 buah vektor 3 dimensi: $$ A= \\begin{bmatrix} 17 \\ 22 \\ 19 \\end{bmatrix} ,B= \\begin{bmatrix} 10 \\ 20 \\ 11 \\end{bmatrix}, C= \\begin{bmatrix} 5 \\ 12 \\ 9 \\end{bmatrix} $$\n"
   ]
  },
  {
   "cell_type": "code",
   "execution_count": 3,
   "metadata": {},
   "outputs": [
    {
     "name": "stdout",
     "output_type": "stream",
     "text": [
      "Vector A : [12 22 19]\n",
      "Vector B : [10 20 11]\n",
      "Vector C : [ 5 12  9]\n"
     ]
    }
   ],
   "source": [
    "# Pendefinisian list\n",
    "\n",
    "A = [12, 22, 19]\n",
    "vect_A = np.array(A)\n",
    "\n",
    "B = [10, 20, 11]\n",
    "vect_B = np.array(B)\n",
    "\n",
    "C = [5, 12, 9]\n",
    "vect_C = np.array(C)\n",
    "\n",
    "print('Vector A :', vect_A)\n",
    "print('Vector B :', vect_B)\n",
    "print('Vector C :', vect_C)"
   ]
  },
  {
   "cell_type": "code",
   "execution_count": 4,
   "metadata": {},
   "outputs": [
    {
     "name": "stdout",
     "output_type": "stream",
     "text": [
      "A + B = [22 42 30]\n"
     ]
    }
   ],
   "source": [
    "# Menghitung A + B\n",
    "\n",
    "print('A + B =', vect_A + vect_B)"
   ]
  },
  {
   "cell_type": "code",
   "execution_count": 5,
   "metadata": {},
   "outputs": [
    {
     "name": "stdout",
     "output_type": "stream",
     "text": [
      "B - C = [15 32 20]\n"
     ]
    }
   ],
   "source": [
    "# Menghitung B - C\n",
    "\n",
    "print('B - C =', vect_B + vect_C)"
   ]
  },
  {
   "cell_type": "code",
   "execution_count": 6,
   "metadata": {},
   "outputs": [
    {
     "name": "stdout",
     "output_type": "stream",
     "text": [
      "A dot C = 495\n"
     ]
    }
   ],
   "source": [
    "# Menghitung A dot C\n",
    "\n",
    "print('A dot C =', vect_A.dot(vect_C))"
   ]
  },
  {
   "cell_type": "code",
   "execution_count": 7,
   "metadata": {},
   "outputs": [
    {
     "name": "stdout",
     "output_type": "stream",
     "text": [
      "A x B = [120 440 209]\n"
     ]
    }
   ],
   "source": [
    "# Menghitung A x B\n",
    "\n",
    "print('A x B =', vect_A * vect_B)"
   ]
  },
  {
   "cell_type": "code",
   "execution_count": 8,
   "metadata": {},
   "outputs": [
    {
     "name": "stdout",
     "output_type": "stream",
     "text": [
      "norm A = 31.448370387032774\n"
     ]
    }
   ],
   "source": [
    "# Menghitung norm A\n",
    "\n",
    "print('norm A =', np.linalg.norm(vect_A))"
   ]
  },
  {
   "cell_type": "code",
   "execution_count": 9,
   "metadata": {},
   "outputs": [
    {
     "name": "stdout",
     "output_type": "stream",
     "text": [
      "Cos Theta            :  0.9812561550208765\n",
      "Radians              :  0.19392109076664962\n",
      "Degree/derajat sudut :  11.11086005950238\n"
     ]
    }
   ],
   "source": [
    "# Menghitung sudut antara vektor A dan B\n",
    "\n",
    "## Mencari cos_theta\n",
    "cos_theta = (vect_A.dot(vect_B))/ (np.linalg.norm(vect_A) * np.linalg.norm(vect_B))\n",
    "\n",
    "## Mengubah cos_theta ke dalam radians untuk dicari derajat sudutnya\n",
    "radians = np.arccos(cos_theta)\n",
    "\n",
    "## Mengubah radians untuk dicari derajat sudutnya\n",
    "degree = np.degrees(radians)\n",
    "\n",
    "print('Cos Theta            : ', cos_theta)\n",
    "print('Radians              : ', radians)\n",
    "print('Degree/derajat sudut : ', degree)"
   ]
  }
 ],
 "metadata": {
  "interpreter": {
   "hash": "c7fde715a1fbd9fb0ef5ba24694befebc1a509d71c376ca4699658f9c6b4eedd"
  },
  "kernelspec": {
   "display_name": "Python 3.9.7 64-bit ('base': conda)",
   "language": "python",
   "name": "python3"
  },
  "language_info": {
   "codemirror_mode": {
    "name": "ipython",
    "version": 3
   },
   "file_extension": ".py",
   "mimetype": "text/x-python",
   "name": "python",
   "nbconvert_exporter": "python",
   "pygments_lexer": "ipython3",
   "version": "3.9.7"
  },
  "orig_nbformat": 4
 },
 "nbformat": 4,
 "nbformat_minor": 2
}
