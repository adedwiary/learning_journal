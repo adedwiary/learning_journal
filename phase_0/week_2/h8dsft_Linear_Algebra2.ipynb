{
 "cells": [
  {
   "cell_type": "markdown",
   "metadata": {},
   "source": [
    "# Non-Graded Challenge 4"
   ]
  },
  {
   "cell_type": "markdown",
   "metadata": {},
   "source": [
    "Buatlah Tensor dibawah ini dengan Python:\n",
    "\n",
    "$$ \\begin{bmatrix} \\begin{bmatrix} 23 & 50 \\ 7 & 12 \\ \\end{bmatrix} \\begin{bmatrix} 57 & 67 \\ 99 & 43 \\end{bmatrix} \\ \\begin{bmatrix} 75 & 21 \\ 57 & 12 \\ \\end{bmatrix} \\begin{bmatrix} 87 & 26 \\ 18 & 84 \\end{bmatrix} \\end{bmatrix} $$"
   ]
  },
  {
   "cell_type": "code",
   "execution_count": 1,
   "metadata": {},
   "outputs": [
    {
     "data": {
      "text/plain": [
       "array([[[23, 50],\n",
       "        [ 7, 12]],\n",
       "\n",
       "       [[57, 67],\n",
       "        [99, 43]],\n",
       "\n",
       "       [[75, 21],\n",
       "        [57, 12]],\n",
       "\n",
       "       [[87, 26],\n",
       "        [18, 84]]])"
      ]
     },
     "execution_count": 1,
     "metadata": {},
     "output_type": "execute_result"
    }
   ],
   "source": [
    "# Mendefinisikan tensor menggunakan Numpy\n",
    "\n",
    "import numpy as np\n",
    "\n",
    "Z = np.array([[[23, 50], \n",
    "               [7,12]], \n",
    "\n",
    "              [[57, 67], \n",
    "               [99, 43]], \n",
    "\n",
    "              [[75, 21], \n",
    "               [57, 12]], \n",
    "               \n",
    "              [[87, 26], \n",
    "               [18, 84]]])\n",
    "Z"
   ]
  },
  {
   "cell_type": "code",
   "execution_count": 2,
   "metadata": {},
   "outputs": [
    {
     "data": {
      "text/plain": [
       "(4, 2, 2)"
      ]
     },
     "execution_count": 2,
     "metadata": {},
     "output_type": "execute_result"
    }
   ],
   "source": [
    "# Melihat ukuran tensor Z\n",
    "\n",
    "Z.shape"
   ]
  },
  {
   "cell_type": "markdown",
   "metadata": {},
   "source": [
    "Lakukan perkalian terhadap matrix berikut:\n",
    "\n",
    "$$ A = \\begin{bmatrix} 23 & 50 & 19 \\ 7 & 12 & 109 \\ 57 & 67 & 98 \\end{bmatrix} \\begin{bmatrix} 17 \\ 22 \\ 19 \\end{bmatrix} $$"
   ]
  },
  {
   "cell_type": "code",
   "execution_count": 3,
   "metadata": {},
   "outputs": [],
   "source": [
    "# Operasi Perkalian Antar Matrix\n",
    "\n",
    "# Mendefinisikan Matriks A\n",
    "A = [[23, 50, 19], \n",
    "     [7, 12, 109], \n",
    "     [57, 67, 98]]\n",
    "A = np.array(A)\n",
    "\n",
    "# Mendefinisikan Matriks B\n",
    "B = [17, 22, 19]\n",
    "B = np.array(B)"
   ]
  },
  {
   "cell_type": "code",
   "execution_count": 4,
   "metadata": {},
   "outputs": [
    {
     "data": {
      "text/plain": [
       "(3, 3)"
      ]
     },
     "execution_count": 4,
     "metadata": {},
     "output_type": "execute_result"
    }
   ],
   "source": [
    "## Mencari ukuran matriks A\n",
    "\n",
    "A.shape"
   ]
  },
  {
   "cell_type": "code",
   "execution_count": 5,
   "metadata": {},
   "outputs": [
    {
     "data": {
      "text/plain": [
       "(3,)"
      ]
     },
     "execution_count": 5,
     "metadata": {},
     "output_type": "execute_result"
    }
   ],
   "source": [
    "## Mencari ukuran matriks B\n",
    "\n",
    "B.shape"
   ]
  },
  {
   "cell_type": "markdown",
   "metadata": {},
   "source": [
    "Karena jumlah kolom A = jumlah baris kolom B, maka A dan B bisa dikalikan."
   ]
  },
  {
   "cell_type": "code",
   "execution_count": 6,
   "metadata": {},
   "outputs": [
    {
     "data": {
      "text/plain": [
       "array([1852, 2454, 4305])"
      ]
     },
     "execution_count": 6,
     "metadata": {},
     "output_type": "execute_result"
    }
   ],
   "source": [
    "## Perkalian antar Matriks \n",
    "\n",
    "A @ B"
   ]
  },
  {
   "cell_type": "markdown",
   "metadata": {},
   "source": [
    "Lakukan Transpose, hitung determinan, dan inverse terhadap matrix dibawah ini:\n",
    "\n",
    "$$ \\begin{bmatrix} 23 & 50 & 19 \\ 7 & 12 & 109 \\ 57 & 67 & 98 \\end{bmatrix} $$"
   ]
  },
  {
   "cell_type": "code",
   "execution_count": 7,
   "metadata": {},
   "outputs": [
    {
     "data": {
      "text/plain": [
       "array([[ 23,  50,  19],\n",
       "       [  7,  12, 109],\n",
       "       [ 57,  67,  98]])"
      ]
     },
     "execution_count": 7,
     "metadata": {},
     "output_type": "execute_result"
    }
   ],
   "source": [
    "# Mendefinisikan Matriks A\n",
    "A = [[23, 50, 19], \n",
    "     [7, 12, 109], \n",
    "     [57, 67, 98]]\n",
    "A = np.array(A)\n",
    "\n",
    "# Menampilkan Matriks A sebelum ditranspose\n",
    "A"
   ]
  },
  {
   "cell_type": "code",
   "execution_count": 8,
   "metadata": {},
   "outputs": [
    {
     "data": {
      "text/plain": [
       "array([[ 23,   7,  57],\n",
       "       [ 50,  12,  67],\n",
       "       [ 19, 109,  98]])"
      ]
     },
     "execution_count": 8,
     "metadata": {},
     "output_type": "execute_result"
    }
   ],
   "source": [
    "# Transpose Matriks A\n",
    "\n",
    "A.T"
   ]
  },
  {
   "cell_type": "code",
   "execution_count": 11,
   "metadata": {},
   "outputs": [
    {
     "data": {
      "text/plain": [
       "131344.0000000002"
      ]
     },
     "execution_count": 11,
     "metadata": {},
     "output_type": "execute_result"
    }
   ],
   "source": [
    "# Determinan menggunakan numpy.linalg\n",
    "\n",
    "from numpy.linalg import det\n",
    "det(A)"
   ]
  },
  {
   "cell_type": "code",
   "execution_count": 12,
   "metadata": {},
   "outputs": [
    {
     "data": {
      "text/plain": [
       "array([[-0.0466485 , -0.02761451,  0.03975819],\n",
       "       [ 0.04208034,  0.00891552, -0.01807467],\n",
       "       [-0.00163692,  0.0099662 , -0.00056341]])"
      ]
     },
     "execution_count": 12,
     "metadata": {},
     "output_type": "execute_result"
    }
   ],
   "source": [
    "# Invers menggunakan numpy.linalg\n",
    "\n",
    "from numpy.linalg import inv\n",
    "inv_A = inv(A)\n",
    "inv_A"
   ]
  }
 ],
 "metadata": {
  "interpreter": {
   "hash": "c7fde715a1fbd9fb0ef5ba24694befebc1a509d71c376ca4699658f9c6b4eedd"
  },
  "kernelspec": {
   "display_name": "Python 3.9.7 64-bit ('base': conda)",
   "language": "python",
   "name": "python3"
  },
  "language_info": {
   "codemirror_mode": {
    "name": "ipython",
    "version": 3
   },
   "file_extension": ".py",
   "mimetype": "text/x-python",
   "name": "python",
   "nbconvert_exporter": "python",
   "pygments_lexer": "ipython3",
   "version": "3.9.7"
  },
  "orig_nbformat": 4
 },
 "nbformat": 4,
 "nbformat_minor": 2
}
