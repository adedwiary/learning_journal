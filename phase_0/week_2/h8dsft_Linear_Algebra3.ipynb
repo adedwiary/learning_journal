{
 "cells": [
  {
   "cell_type": "markdown",
   "metadata": {},
   "source": [
    "# Non-Graded Challenge 5"
   ]
  },
  {
   "cell_type": "markdown",
   "metadata": {},
   "source": [
    "Apakah $$ \\begin{bmatrix} 1 \\ 3 \\end{bmatrix} $$ adalah eigenvector dari $$ \\begin{bmatrix} 1 & -1 \\ 6 & 4 \\end{bmatrix} $$ ? Jika iya, berapakah eigenvalue-nya?"
   ]
  },
  {
   "cell_type": "code",
   "execution_count": 44,
   "metadata": {},
   "outputs": [],
   "source": [
    "# Import Pustaka yang Dibutuhkan\n",
    "\n",
    "import numpy as np\n",
    "import matplotlib.pyplot as plt\n",
    "\n",
    "def plot_vector2d(vector2d, origin=[0, 0], **options):\n",
    "    return plt.arrow(origin[0], origin[1], vector2d[0], vector2d[1],\n",
    "              head_width=0.2, head_length=0.3, length_includes_head=True,\n",
    "              **options)"
   ]
  },
  {
   "cell_type": "code",
   "execution_count": 53,
   "metadata": {},
   "outputs": [
    {
     "name": "stdout",
     "output_type": "stream",
     "text": [
      "A = [1 3]\n",
      "B = [[ 1 -1]\n",
      " [ 6  4]]\n"
     ]
    }
   ],
   "source": [
    "# Menentukan Eigenvaktor atau Bukan\n",
    "##  Mendefinisikan Vektor A dan B\n",
    "\n",
    "A = np.array([1, 3])\n",
    "B = np.array([[1, -1], \n",
    "              [6,  4]])\n",
    "\n",
    "print(f\"A = {A}\")\n",
    "print(f\"B = {B}\")"
   ]
  },
  {
   "cell_type": "code",
   "execution_count": 51,
   "metadata": {},
   "outputs": [
    {
     "name": "stdout",
     "output_type": "stream",
     "text": [
      "A' = [-2 18]\n"
     ]
    }
   ],
   "source": [
    "## Transformasi Vektor A menjadi A_trans\n",
    "\n",
    "A_trans = B @ A\n",
    "print(f\"A' = {A_trans}\")"
   ]
  },
  {
   "cell_type": "code",
   "execution_count": 47,
   "metadata": {},
   "outputs": [
    {
     "data": {
      "image/png": "[encoded data removed]",
      "text/plain": [
       "<Figure size 432x288 with 1 Axes>"
      ]
     },
     "metadata": {
      "needs_background": "light"
     },
     "output_type": "display_data"
    }
   ],
   "source": [
    "### Membuat Scatter Plot / titik koordinat A dan A'\n",
    "\n",
    "x_coords, y_coords = zip(A, A_trans)\n",
    "plt.scatter(x_coords, y_coords, color=[\"r\",\"b\"])\n",
    "plt.axis([-5, 5, -5, 20])\n",
    "plt.grid()"
   ]
  },
  {
   "cell_type": "code",
   "execution_count": 49,
   "metadata": {},
   "outputs": [
    {
     "data": {
      "image/png": "[encoded data removed]",
      "text/plain": [
       "<Figure size 432x288 with 1 Axes>"
      ]
     },
     "metadata": {
      "needs_background": "light"
     },
     "output_type": "display_data"
    }
   ],
   "source": [
    "plot_vector2d(A, color=\"r\")\n",
    "plot_vector2d(A_trans, color=\"b\")\n",
    "plt.plot([0,0], [-5,20], color='green')\n",
    "plt.axis([-5, 5, -5, 20])\n",
    "plt.grid()"
   ]
  },
  {
   "cell_type": "markdown",
   "metadata": {},
   "source": [
    "Perkalian A' tidak menghasilkan angka yang dapat membagi vektor A, dan arah vektor A dan vektor A' berbeda, artinya A bukan eigenvektor dari B."
   ]
  }
 ],
 "metadata": {
  "interpreter": {
   "hash": "c7fde715a1fbd9fb0ef5ba24694befebc1a509d71c376ca4699658f9c6b4eedd"
  },
  "kernelspec": {
   "display_name": "Python 3.9.7 64-bit ('base': conda)",
   "language": "python",
   "name": "python3"
  },
  "language_info": {
   "codemirror_mode": {
    "name": "ipython",
    "version": 3
   },
   "file_extension": ".py",
   "mimetype": "text/x-python",
   "name": "python",
   "nbconvert_exporter": "python",
   "pygments_lexer": "ipython3",
   "version": "3.9.7"
  },
  "orig_nbformat": 4
 },
 "nbformat": 4,
 "nbformat_minor": 2
}
