{
  "cells": [
    {
      "cell_type": "code",
      "execution_count": 1,
      "metadata": {
        "id": "JGRYXtvwvVIY"
      },
      "outputs": [],
      "source": [
        "import pandas as pd\n",
        "import numpy as np\n",
        "import scipy as sc\n",
        "import matplotlib.pyplot as plt"
      ]
    },
    {
      "cell_type": "code",
      "execution_count": 2,
      "metadata": {},
      "outputs": [
        {
          "name": "stdout",
          "output_type": "stream",
          "text": [
            "Requirement already satisfied: streamlit in c:\\users\\dedwi\\anaconda3\\lib\\site-packages (1.5.0)\n",
            "Requirement already satisfied: pandas>=0.21.0 in c:\\users\\dedwi\\anaconda3\\lib\\site-packages (from streamlit) (1.3.4)\n",
            "Requirement already satisfied: pyarrow in c:\\users\\dedwi\\anaconda3\\lib\\site-packages (from streamlit) (7.0.0)\n",
            "Requirement already satisfied: astor in c:\\users\\dedwi\\anaconda3\\lib\\site-packages (from streamlit) (0.8.1)\n",
            "Requirement already satisfied: tzlocal in c:\\users\\dedwi\\anaconda3\\lib\\site-packages (from streamlit) (4.1)\n",
            "Requirement already satisfied: protobuf!=3.11,>=3.6.0 in c:\\users\\dedwi\\anaconda3\\lib\\site-packages (from streamlit) (3.19.4)\n",
            "Requirement already satisfied: pympler>=0.9 in c:\\users\\dedwi\\anaconda3\\lib\\site-packages (from streamlit) (1.0.1)\n",
            "Requirement already satisfied: blinker in c:\\users\\dedwi\\anaconda3\\lib\\site-packages (from streamlit) (1.4)\n",
            "Requirement already satisfied: validators in c:\\users\\dedwi\\anaconda3\\lib\\site-packages (from streamlit) (0.18.2)\n",
            "Requirement already satisfied: packaging in c:\\users\\dedwi\\anaconda3\\lib\\site-packages (from streamlit) (21.0)\n",
            "Requirement already satisfied: pydeck>=0.1.dev5 in c:\\users\\dedwi\\anaconda3\\lib\\site-packages (from streamlit) (0.7.1)\n",
            "Requirement already satisfied: python-dateutil in c:\\users\\dedwi\\anaconda3\\lib\\site-packages (from streamlit) (2.8.2)\n",
            "Requirement already satisfied: tornado>=5.0 in c:\\users\\dedwi\\anaconda3\\lib\\site-packages (from streamlit) (6.1)\n",
            "Requirement already satisfied: requests in c:\\users\\dedwi\\anaconda3\\lib\\site-packages (from streamlit) (2.26.0)\n",
            "Requirement already satisfied: gitpython!=3.1.19 in c:\\users\\dedwi\\anaconda3\\lib\\site-packages (from streamlit) (3.1.26)\n",
            "Requirement already satisfied: numpy in c:\\users\\dedwi\\anaconda3\\lib\\site-packages (from streamlit) (1.20.3)\n",
            "Requirement already satisfied: pillow>=6.2.0 in c:\\users\\dedwi\\anaconda3\\lib\\site-packages (from streamlit) (8.4.0)\n",
            "Requirement already satisfied: watchdog in c:\\users\\dedwi\\anaconda3\\lib\\site-packages (from streamlit) (2.1.3)\n",
            "Requirement already satisfied: attrs in c:\\users\\dedwi\\anaconda3\\lib\\site-packages (from streamlit) (21.2.0)\n",
            "Requirement already satisfied: altair>=3.2.0 in c:\\users\\dedwi\\anaconda3\\lib\\site-packages (from streamlit) (4.2.0)\n",
            "Requirement already satisfied: click>=7.0 in c:\\users\\dedwi\\anaconda3\\lib\\site-packages (from streamlit) (8.0.3)\n",
            "Requirement already satisfied: base58 in c:\\users\\dedwi\\anaconda3\\lib\\site-packages (from streamlit) (2.1.1)\n",
            "Requirement already satisfied: cachetools>=4.0 in c:\\users\\dedwi\\anaconda3\\lib\\site-packages (from streamlit) (5.0.0)\n",
            "Requirement already satisfied: toml in c:\\users\\dedwi\\anaconda3\\lib\\site-packages (from streamlit) (0.10.2)\n",
            "Requirement already satisfied: toolz in c:\\users\\dedwi\\anaconda3\\lib\\site-packages (from altair>=3.2.0->streamlit) (0.11.1)\n",
            "Requirement already satisfied: entrypoints in c:\\users\\dedwi\\anaconda3\\lib\\site-packages (from altair>=3.2.0->streamlit) (0.3)\n",
            "Requirement already satisfied: jinja2 in c:\\users\\dedwi\\anaconda3\\lib\\site-packages (from altair>=3.2.0->streamlit) (2.11.3)\n",
            "Requirement already satisfied: jsonschema>=3.0 in c:\\users\\dedwi\\anaconda3\\lib\\site-packages (from altair>=3.2.0->streamlit) (3.2.0)\n",
            "Requirement already satisfied: colorama in c:\\users\\dedwi\\anaconda3\\lib\\site-packages (from click>=7.0->streamlit) (0.4.4)\n",
            "Requirement already satisfied: gitdb<5,>=4.0.1 in c:\\users\\dedwi\\anaconda3\\lib\\site-packages (from gitpython!=3.1.19->streamlit) (4.0.9)\n",
            "Requirement already satisfied: smmap<6,>=3.0.1 in c:\\users\\dedwi\\anaconda3\\lib\\site-packages (from gitdb<5,>=4.0.1->gitpython!=3.1.19->streamlit) (5.0.0)\n",
            "Requirement already satisfied: pyrsistent>=0.14.0 in c:\\users\\dedwi\\anaconda3\\lib\\site-packages (from jsonschema>=3.0->altair>=3.2.0->streamlit) (0.18.0)\n",
            "Requirement already satisfied: setuptools in c:\\users\\dedwi\\anaconda3\\lib\\site-packages (from jsonschema>=3.0->altair>=3.2.0->streamlit) (58.0.4)\n",
            "Requirement already satisfied: six>=1.11.0 in c:\\users\\dedwi\\anaconda3\\lib\\site-packages (from jsonschema>=3.0->altair>=3.2.0->streamlit) (1.16.0)\n",
            "Requirement already satisfied: pytz>=2017.3 in c:\\users\\dedwi\\anaconda3\\lib\\site-packages (from pandas>=0.21.0->streamlit) (2021.3)\n",
            "Requirement already satisfied: ipywidgets>=7.0.0 in c:\\users\\dedwi\\anaconda3\\lib\\site-packages (from pydeck>=0.1.dev5->streamlit) (7.6.5)\n",
            "Requirement already satisfied: ipykernel>=5.1.2 in c:\\users\\dedwi\\anaconda3\\lib\\site-packages (from pydeck>=0.1.dev5->streamlit) (6.4.1)\n",
            "Requirement already satisfied: traitlets>=4.3.2 in c:\\users\\dedwi\\anaconda3\\lib\\site-packages (from pydeck>=0.1.dev5->streamlit) (5.1.0)\n",
            "Requirement already satisfied: jupyter-client<8.0 in c:\\users\\dedwi\\anaconda3\\lib\\site-packages (from ipykernel>=5.1.2->pydeck>=0.1.dev5->streamlit) (6.1.12)\n",
            "Requirement already satisfied: ipython-genutils in c:\\users\\dedwi\\anaconda3\\lib\\site-packages (from ipykernel>=5.1.2->pydeck>=0.1.dev5->streamlit) (0.2.0)\n",
            "Requirement already satisfied: debugpy<2.0,>=1.0.0 in c:\\users\\dedwi\\anaconda3\\lib\\site-packages (from ipykernel>=5.1.2->pydeck>=0.1.dev5->streamlit) (1.4.1)\n",
            "Requirement already satisfied: matplotlib-inline<0.2.0,>=0.1.0 in c:\\users\\dedwi\\anaconda3\\lib\\site-packages (from ipykernel>=5.1.2->pydeck>=0.1.dev5->streamlit) (0.1.2)\n",
            "Requirement already satisfied: ipython<8.0,>=7.23.1 in c:\\users\\dedwi\\anaconda3\\lib\\site-packages (from ipykernel>=5.1.2->pydeck>=0.1.dev5->streamlit) (7.29.0)\n",
            "Requirement already satisfied: pickleshare in c:\\users\\dedwi\\anaconda3\\lib\\site-packages (from ipython<8.0,>=7.23.1->ipykernel>=5.1.2->pydeck>=0.1.dev5->streamlit) (0.7.5)\n",
            "Requirement already satisfied: decorator in c:\\users\\dedwi\\anaconda3\\lib\\site-packages (from ipython<8.0,>=7.23.1->ipykernel>=5.1.2->pydeck>=0.1.dev5->streamlit) (5.1.0)\n",
            "Requirement already satisfied: jedi>=0.16 in c:\\users\\dedwi\\anaconda3\\lib\\site-packages (from ipython<8.0,>=7.23.1->ipykernel>=5.1.2->pydeck>=0.1.dev5->streamlit) (0.18.0)\n",
            "Requirement already satisfied: backcall in c:\\users\\dedwi\\anaconda3\\lib\\site-packages (from ipython<8.0,>=7.23.1->ipykernel>=5.1.2->pydeck>=0.1.dev5->streamlit) (0.2.0)\n",
            "Requirement already satisfied: prompt-toolkit!=3.0.0,!=3.0.1,<3.1.0,>=2.0.0 in c:\\users\\dedwi\\anaconda3\\lib\\site-packages (from ipython<8.0,>=7.23.1->ipykernel>=5.1.2->pydeck>=0.1.dev5->streamlit) (3.0.20)\n",
            "Requirement already satisfied: pygments in c:\\users\\dedwi\\anaconda3\\lib\\site-packages (from ipython<8.0,>=7.23.1->ipykernel>=5.1.2->pydeck>=0.1.dev5->streamlit) (2.10.0)\n",
            "Requirement already satisfied: widgetsnbextension~=3.5.0 in c:\\users\\dedwi\\anaconda3\\lib\\site-packages (from ipywidgets>=7.0.0->pydeck>=0.1.dev5->streamlit) (3.5.1)\n",
            "Requirement already satisfied: jupyterlab-widgets>=1.0.0 in c:\\users\\dedwi\\anaconda3\\lib\\site-packages (from ipywidgets>=7.0.0->pydeck>=0.1.dev5->streamlit) (1.0.0)\n",
            "Requirement already satisfied: nbformat>=4.2.0 in c:\\users\\dedwi\\anaconda3\\lib\\site-packages (from ipywidgets>=7.0.0->pydeck>=0.1.dev5->streamlit) (5.1.3)\n",
            "Requirement already satisfied: parso<0.9.0,>=0.8.0 in c:\\users\\dedwi\\anaconda3\\lib\\site-packages (from jedi>=0.16->ipython<8.0,>=7.23.1->ipykernel>=5.1.2->pydeck>=0.1.dev5->streamlit) (0.8.2)\n",
            "Requirement already satisfied: MarkupSafe>=0.23 in c:\\users\\dedwi\\anaconda3\\lib\\site-packages (from jinja2->altair>=3.2.0->streamlit) (1.1.1)\n",
            "Requirement already satisfied: jupyter-core>=4.6.0 in c:\\users\\dedwi\\anaconda3\\lib\\site-packages (from jupyter-client<8.0->ipykernel>=5.1.2->pydeck>=0.1.dev5->streamlit) (4.8.1)\n",
            "Requirement already satisfied: pyzmq>=13 in c:\\users\\dedwi\\anaconda3\\lib\\site-packages (from jupyter-client<8.0->ipykernel>=5.1.2->pydeck>=0.1.dev5->streamlit) (22.2.1)\n",
            "Requirement already satisfied: pywin32>=1.0 in c:\\users\\dedwi\\anaconda3\\lib\\site-packages (from jupyter-core>=4.6.0->jupyter-client<8.0->ipykernel>=5.1.2->pydeck>=0.1.dev5->streamlit) (228)\n",
            "Requirement already satisfied: wcwidth in c:\\users\\dedwi\\anaconda3\\lib\\site-packages (from prompt-toolkit!=3.0.0,!=3.0.1,<3.1.0,>=2.0.0->ipython<8.0,>=7.23.1->ipykernel>=5.1.2->pydeck>=0.1.dev5->streamlit) (0.2.5)\n",
            "Requirement already satisfied: notebook>=4.4.1 in c:\\users\\dedwi\\anaconda3\\lib\\site-packages (from widgetsnbextension~=3.5.0->ipywidgets>=7.0.0->pydeck>=0.1.dev5->streamlit) (6.4.5)\n",
            "Requirement already satisfied: prometheus-client in c:\\users\\dedwi\\anaconda3\\lib\\site-packages (from notebook>=4.4.1->widgetsnbextension~=3.5.0->ipywidgets>=7.0.0->pydeck>=0.1.dev5->streamlit) (0.11.0)\n",
            "Requirement already satisfied: nbconvert in c:\\users\\dedwi\\anaconda3\\lib\\site-packages (from notebook>=4.4.1->widgetsnbextension~=3.5.0->ipywidgets>=7.0.0->pydeck>=0.1.dev5->streamlit) (6.1.0)\n",
            "Requirement already satisfied: terminado>=0.8.3 in c:\\users\\dedwi\\anaconda3\\lib\\site-packages (from notebook>=4.4.1->widgetsnbextension~=3.5.0->ipywidgets>=7.0.0->pydeck>=0.1.dev5->streamlit) (0.9.4)\n",
            "Requirement already satisfied: Send2Trash>=1.5.0 in c:\\users\\dedwi\\anaconda3\\lib\\site-packages (from notebook>=4.4.1->widgetsnbextension~=3.5.0->ipywidgets>=7.0.0->pydeck>=0.1.dev5->streamlit) (1.8.0)\n",
            "Requirement already satisfied: argon2-cffi in c:\\users\\dedwi\\anaconda3\\lib\\site-packages (from notebook>=4.4.1->widgetsnbextension~=3.5.0->ipywidgets>=7.0.0->pydeck>=0.1.dev5->streamlit) (20.1.0)\n",
            "Requirement already satisfied: pywinpty>=0.5 in c:\\users\\dedwi\\anaconda3\\lib\\site-packages (from terminado>=0.8.3->notebook>=4.4.1->widgetsnbextension~=3.5.0->ipywidgets>=7.0.0->pydeck>=0.1.dev5->streamlit) (0.5.7)\n",
            "Requirement already satisfied: cffi>=1.0.0 in c:\\users\\dedwi\\anaconda3\\lib\\site-packages (from argon2-cffi->notebook>=4.4.1->widgetsnbextension~=3.5.0->ipywidgets>=7.0.0->pydeck>=0.1.dev5->streamlit) (1.14.6)\n",
            "Requirement already satisfied: pycparser in c:\\users\\dedwi\\anaconda3\\lib\\site-packages (from cffi>=1.0.0->argon2-cffi->notebook>=4.4.1->widgetsnbextension~=3.5.0->ipywidgets>=7.0.0->pydeck>=0.1.dev5->streamlit) (2.20)\n",
            "Requirement already satisfied: jupyterlab-pygments in c:\\users\\dedwi\\anaconda3\\lib\\site-packages (from nbconvert->notebook>=4.4.1->widgetsnbextension~=3.5.0->ipywidgets>=7.0.0->pydeck>=0.1.dev5->streamlit) (0.1.2)\n",
            "Requirement already satisfied: defusedxml in c:\\users\\dedwi\\anaconda3\\lib\\site-packages (from nbconvert->notebook>=4.4.1->widgetsnbextension~=3.5.0->ipywidgets>=7.0.0->pydeck>=0.1.dev5->streamlit) (0.7.1)\n",
            "Requirement already satisfied: testpath in c:\\users\\dedwi\\anaconda3\\lib\\site-packages (from nbconvert->notebook>=4.4.1->widgetsnbextension~=3.5.0->ipywidgets>=7.0.0->pydeck>=0.1.dev5->streamlit) (0.5.0)\n",
            "Requirement already satisfied: mistune<2,>=0.8.1 in c:\\users\\dedwi\\anaconda3\\lib\\site-packages (from nbconvert->notebook>=4.4.1->widgetsnbextension~=3.5.0->ipywidgets>=7.0.0->pydeck>=0.1.dev5->streamlit) (0.8.4)\n",
            "Requirement already satisfied: nbclient<0.6.0,>=0.5.0 in c:\\users\\dedwi\\anaconda3\\lib\\site-packages (from nbconvert->notebook>=4.4.1->widgetsnbextension~=3.5.0->ipywidgets>=7.0.0->pydeck>=0.1.dev5->streamlit) (0.5.3)\n",
            "Requirement already satisfied: bleach in c:\\users\\dedwi\\anaconda3\\lib\\site-packages (from nbconvert->notebook>=4.4.1->widgetsnbextension~=3.5.0->ipywidgets>=7.0.0->pydeck>=0.1.dev5->streamlit) (4.0.0)\n",
            "Requirement already satisfied: pandocfilters>=1.4.1 in c:\\users\\dedwi\\anaconda3\\lib\\site-packages (from nbconvert->notebook>=4.4.1->widgetsnbextension~=3.5.0->ipywidgets>=7.0.0->pydeck>=0.1.dev5->streamlit) (1.4.3)\n",
            "Requirement already satisfied: async-generator in c:\\users\\dedwi\\anaconda3\\lib\\site-packages (from nbclient<0.6.0,>=0.5.0->nbconvert->notebook>=4.4.1->widgetsnbextension~=3.5.0->ipywidgets>=7.0.0->pydeck>=0.1.dev5->streamlit) (1.10)\n",
            "Requirement already satisfied: nest-asyncio in c:\\users\\dedwi\\anaconda3\\lib\\site-packages (from nbclient<0.6.0,>=0.5.0->nbconvert->notebook>=4.4.1->widgetsnbextension~=3.5.0->ipywidgets>=7.0.0->pydeck>=0.1.dev5->streamlit) (1.5.1)\n",
            "Requirement already satisfied: webencodings in c:\\users\\dedwi\\anaconda3\\lib\\site-packages (from bleach->nbconvert->notebook>=4.4.1->widgetsnbextension~=3.5.0->ipywidgets>=7.0.0->pydeck>=0.1.dev5->streamlit) (0.5.1)\n",
            "Requirement already satisfied: pyparsing>=2.0.2 in c:\\users\\dedwi\\anaconda3\\lib\\site-packages (from packaging->streamlit) (3.0.4)\n",
            "Requirement already satisfied: idna<4,>=2.5 in c:\\users\\dedwi\\anaconda3\\lib\\site-packages (from requests->streamlit) (3.2)\n",
            "Requirement already satisfied: charset-normalizer~=2.0.0 in c:\\users\\dedwi\\anaconda3\\lib\\site-packages (from requests->streamlit) (2.0.4)\n",
            "Requirement already satisfied: urllib3<1.27,>=1.21.1 in c:\\users\\dedwi\\anaconda3\\lib\\site-packages (from requests->streamlit) (1.26.7)\n",
            "Requirement already satisfied: certifi>=2017.4.17 in c:\\users\\dedwi\\anaconda3\\lib\\site-packages (from requests->streamlit) (2021.10.8)\n",
            "Requirement already satisfied: pytz-deprecation-shim in c:\\users\\dedwi\\anaconda3\\lib\\site-packages (from tzlocal->streamlit) (0.1.0.post0)\n",
            "Requirement already satisfied: tzdata in c:\\users\\dedwi\\anaconda3\\lib\\site-packages (from tzlocal->streamlit) (2021.5)\n"
          ]
        }
      ],
      "source": [
        "!pip install streamlit"
      ]
    },
    {
      "cell_type": "code",
      "execution_count": 2,
      "metadata": {
        "colab": {
          "base_uri": "https://localhost:8080/",
          "height": 204
        },
        "id": "MOLdMzgavmeR",
        "outputId": "ac45d53b-4fa3-4d32-c843-33d04aef6d7a"
      },
      "outputs": [
        {
          "data": {
            "text/html": [
              "<div>\n",
              "<style scoped>\n",
              "    .dataframe tbody tr th:only-of-type {\n",
              "        vertical-align: middle;\n",
              "    }\n",
              "\n",
              "    .dataframe tbody tr th {\n",
              "        vertical-align: top;\n",
              "    }\n",
              "\n",
              "    .dataframe thead th {\n",
              "        text-align: right;\n",
              "    }\n",
              "</style>\n",
              "<table border=\"1\" class=\"dataframe\">\n",
              "  <thead>\n",
              "    <tr style=\"text-align: right;\">\n",
              "      <th></th>\n",
              "      <th>Unnamed: 0</th>\n",
              "      <th>CustomerID</th>\n",
              "      <th>Gender</th>\n",
              "      <th>Age</th>\n",
              "      <th>Annual Income (k$)</th>\n",
              "      <th>Spending Score (1-100)</th>\n",
              "      <th>Label</th>\n",
              "    </tr>\n",
              "  </thead>\n",
              "  <tbody>\n",
              "    <tr>\n",
              "      <th>0</th>\n",
              "      <td>0</td>\n",
              "      <td>1</td>\n",
              "      <td>Male</td>\n",
              "      <td>19</td>\n",
              "      <td>15</td>\n",
              "      <td>39</td>\n",
              "      <td>0</td>\n",
              "    </tr>\n",
              "    <tr>\n",
              "      <th>1</th>\n",
              "      <td>1</td>\n",
              "      <td>2</td>\n",
              "      <td>Male</td>\n",
              "      <td>21</td>\n",
              "      <td>15</td>\n",
              "      <td>81</td>\n",
              "      <td>4</td>\n",
              "    </tr>\n",
              "    <tr>\n",
              "      <th>2</th>\n",
              "      <td>2</td>\n",
              "      <td>3</td>\n",
              "      <td>Female</td>\n",
              "      <td>20</td>\n",
              "      <td>16</td>\n",
              "      <td>6</td>\n",
              "      <td>0</td>\n",
              "    </tr>\n",
              "    <tr>\n",
              "      <th>3</th>\n",
              "      <td>3</td>\n",
              "      <td>4</td>\n",
              "      <td>Female</td>\n",
              "      <td>23</td>\n",
              "      <td>16</td>\n",
              "      <td>77</td>\n",
              "      <td>4</td>\n",
              "    </tr>\n",
              "    <tr>\n",
              "      <th>4</th>\n",
              "      <td>4</td>\n",
              "      <td>5</td>\n",
              "      <td>Female</td>\n",
              "      <td>31</td>\n",
              "      <td>17</td>\n",
              "      <td>40</td>\n",
              "      <td>0</td>\n",
              "    </tr>\n",
              "  </tbody>\n",
              "</table>\n",
              "</div>"
            ],
            "text/plain": [
              "   Unnamed: 0  CustomerID  Gender  Age  Annual Income (k$)  \\\n",
              "0           0           1    Male   19                  15   \n",
              "1           1           2    Male   21                  15   \n",
              "2           2           3  Female   20                  16   \n",
              "3           3           4  Female   23                  16   \n",
              "4           4           5  Female   31                  17   \n",
              "\n",
              "   Spending Score (1-100)  Label  \n",
              "0                      39      0  \n",
              "1                      81      4  \n",
              "2                       6      0  \n",
              "3                      77      4  \n",
              "4                      40      0  "
            ]
          },
          "execution_count": 2,
          "metadata": {},
          "output_type": "execute_result"
        }
      ],
      "source": [
        "data = pd.read_csv('https://raw.githubusercontent.com/fahmimnalfrzki/Dataset/main/Mall%20Customers.csv')\n",
        "data.head()"
      ]
    },
    {
      "cell_type": "code",
      "execution_count": 3,
      "metadata": {
        "id": "kw6RslvHvq3B"
      },
      "outputs": [],
      "source": [
        "income = data['Annual Income (k$)']"
      ]
    },
    {
      "cell_type": "markdown",
      "metadata": {
        "id": "pIsFx6Vhvzo6"
      },
      "source": [
        "## Central Tendency"
      ]
    },
    {
      "cell_type": "code",
      "execution_count": 4,
      "metadata": {
        "colab": {
          "base_uri": "https://localhost:8080/"
        },
        "id": "3EVQCx0Avxsy",
        "outputId": "103856f5-755d-4b86-bcc8-056d141b5282"
      },
      "outputs": [
        {
          "name": "stdout",
          "output_type": "stream",
          "text": [
            "Rata-rata: 60.56\n",
            "Median: 61.5\n",
            "Modus: 0    54\n",
            "1    78\n",
            "dtype: int64\n"
          ]
        }
      ],
      "source": [
        "print('Rata-rata:',income.mean())\n",
        "print('Median:',income.median())\n",
        "print('Modus:',income.mode())"
      ]
    },
    {
      "cell_type": "code",
      "execution_count": 5,
      "metadata": {
        "colab": {
          "base_uri": "https://localhost:8080/"
        },
        "id": "vppEDJpkwKFl",
        "outputId": "f7b0681d-b3e4-423a-904f-ebd1e2a50a10"
      },
      "outputs": [
        {
          "data": {
            "text/plain": [
              "54     12\n",
              "78     12\n",
              "48      6\n",
              "71      6\n",
              "63      6\n",
              "       ..\n",
              "58      2\n",
              "59      2\n",
              "16      2\n",
              "64      2\n",
              "137     2\n",
              "Name: Annual Income (k$), Length: 64, dtype: int64"
            ]
          },
          "execution_count": 5,
          "metadata": {},
          "output_type": "execute_result"
        }
      ],
      "source": [
        "income.value_counts()"
      ]
    },
    {
      "cell_type": "code",
      "execution_count": 6,
      "metadata": {
        "colab": {
          "base_uri": "https://localhost:8080/"
        },
        "id": "qJ9bejlmwhCr",
        "outputId": "bff89fff-3641-466f-d02f-51a9b8ccbba9"
      },
      "outputs": [
        {
          "data": {
            "text/plain": [
              "0    Female\n",
              "dtype: object"
            ]
          },
          "execution_count": 6,
          "metadata": {},
          "output_type": "execute_result"
        }
      ],
      "source": [
        "data['Gender'].mode()"
      ]
    },
    {
      "cell_type": "code",
      "execution_count": 7,
      "metadata": {
        "colab": {
          "base_uri": "https://localhost:8080/",
          "height": 297
        },
        "id": "nryu0nPPxseG",
        "outputId": "8e9934ef-36e2-4fbd-cce8-7f9b935b586e"
      },
      "outputs": [
        {
          "data": {
            "text/html": [
              "<div>\n",
              "<style scoped>\n",
              "    .dataframe tbody tr th:only-of-type {\n",
              "        vertical-align: middle;\n",
              "    }\n",
              "\n",
              "    .dataframe tbody tr th {\n",
              "        vertical-align: top;\n",
              "    }\n",
              "\n",
              "    .dataframe thead th {\n",
              "        text-align: right;\n",
              "    }\n",
              "</style>\n",
              "<table border=\"1\" class=\"dataframe\">\n",
              "  <thead>\n",
              "    <tr style=\"text-align: right;\">\n",
              "      <th></th>\n",
              "      <th>Unnamed: 0</th>\n",
              "      <th>CustomerID</th>\n",
              "      <th>Age</th>\n",
              "      <th>Annual Income (k$)</th>\n",
              "      <th>Spending Score (1-100)</th>\n",
              "      <th>Label</th>\n",
              "    </tr>\n",
              "  </thead>\n",
              "  <tbody>\n",
              "    <tr>\n",
              "      <th>count</th>\n",
              "      <td>200.000000</td>\n",
              "      <td>200.000000</td>\n",
              "      <td>200.000000</td>\n",
              "      <td>200.000000</td>\n",
              "      <td>200.000000</td>\n",
              "      <td>200.000000</td>\n",
              "    </tr>\n",
              "    <tr>\n",
              "      <th>mean</th>\n",
              "      <td>99.500000</td>\n",
              "      <td>100.500000</td>\n",
              "      <td>38.850000</td>\n",
              "      <td>60.560000</td>\n",
              "      <td>50.200000</td>\n",
              "      <td>2.190000</td>\n",
              "    </tr>\n",
              "    <tr>\n",
              "      <th>std</th>\n",
              "      <td>57.879185</td>\n",
              "      <td>57.879185</td>\n",
              "      <td>13.969007</td>\n",
              "      <td>26.264721</td>\n",
              "      <td>25.823522</td>\n",
              "      <td>1.208804</td>\n",
              "    </tr>\n",
              "    <tr>\n",
              "      <th>min</th>\n",
              "      <td>0.000000</td>\n",
              "      <td>1.000000</td>\n",
              "      <td>18.000000</td>\n",
              "      <td>15.000000</td>\n",
              "      <td>1.000000</td>\n",
              "      <td>0.000000</td>\n",
              "    </tr>\n",
              "    <tr>\n",
              "      <th>25%</th>\n",
              "      <td>49.750000</td>\n",
              "      <td>50.750000</td>\n",
              "      <td>28.750000</td>\n",
              "      <td>41.500000</td>\n",
              "      <td>34.750000</td>\n",
              "      <td>1.000000</td>\n",
              "    </tr>\n",
              "    <tr>\n",
              "      <th>50%</th>\n",
              "      <td>99.500000</td>\n",
              "      <td>100.500000</td>\n",
              "      <td>36.000000</td>\n",
              "      <td>61.500000</td>\n",
              "      <td>50.000000</td>\n",
              "      <td>3.000000</td>\n",
              "    </tr>\n",
              "    <tr>\n",
              "      <th>75%</th>\n",
              "      <td>149.250000</td>\n",
              "      <td>150.250000</td>\n",
              "      <td>49.000000</td>\n",
              "      <td>78.000000</td>\n",
              "      <td>73.000000</td>\n",
              "      <td>3.000000</td>\n",
              "    </tr>\n",
              "    <tr>\n",
              "      <th>max</th>\n",
              "      <td>199.000000</td>\n",
              "      <td>200.000000</td>\n",
              "      <td>70.000000</td>\n",
              "      <td>137.000000</td>\n",
              "      <td>99.000000</td>\n",
              "      <td>4.000000</td>\n",
              "    </tr>\n",
              "  </tbody>\n",
              "</table>\n",
              "</div>"
            ],
            "text/plain": [
              "       Unnamed: 0  CustomerID         Age  Annual Income (k$)  \\\n",
              "count  200.000000  200.000000  200.000000          200.000000   \n",
              "mean    99.500000  100.500000   38.850000           60.560000   \n",
              "std     57.879185   57.879185   13.969007           26.264721   \n",
              "min      0.000000    1.000000   18.000000           15.000000   \n",
              "25%     49.750000   50.750000   28.750000           41.500000   \n",
              "50%     99.500000  100.500000   36.000000           61.500000   \n",
              "75%    149.250000  150.250000   49.000000           78.000000   \n",
              "max    199.000000  200.000000   70.000000          137.000000   \n",
              "\n",
              "       Spending Score (1-100)       Label  \n",
              "count              200.000000  200.000000  \n",
              "mean                50.200000    2.190000  \n",
              "std                 25.823522    1.208804  \n",
              "min                  1.000000    0.000000  \n",
              "25%                 34.750000    1.000000  \n",
              "50%                 50.000000    3.000000  \n",
              "75%                 73.000000    3.000000  \n",
              "max                 99.000000    4.000000  "
            ]
          },
          "execution_count": 7,
          "metadata": {},
          "output_type": "execute_result"
        }
      ],
      "source": [
        "data.describe()"
      ]
    },
    {
      "cell_type": "markdown",
      "metadata": {
        "id": "74Nw14HsxCBV"
      },
      "source": [
        "## Skewness"
      ]
    },
    {
      "cell_type": "code",
      "execution_count": 8,
      "metadata": {
        "colab": {
          "base_uri": "https://localhost:8080/"
        },
        "id": "LVzQUeyNxEZl",
        "outputId": "80854948-acc0-4bac-e981-7fc759280989"
      },
      "outputs": [
        {
          "data": {
            "text/plain": [
              "0.3218425498619055"
            ]
          },
          "execution_count": 8,
          "metadata": {},
          "output_type": "execute_result"
        }
      ],
      "source": [
        "income.skew()"
      ]
    },
    {
      "cell_type": "code",
      "execution_count": 9,
      "metadata": {
        "colab": {
          "base_uri": "https://localhost:8080/",
          "height": 282
        },
        "id": "x_v_zOcTxHyp",
        "outputId": "65bc2ee8-bc26-43f8-d873-080f205043df"
      },
      "outputs": [
        {
          "data": {
            "text/plain": [
              "<matplotlib.legend.Legend at 0x28b6ad16d30>"
            ]
          },
          "execution_count": 9,
          "metadata": {},
          "output_type": "execute_result"
        },
        {
          "data": {
            "image/png": "[encoded data removed]",
            "text/plain": [
              "<Figure size 432x288 with 1 Axes>"
            ]
          },
          "metadata": {
            "needs_background": "light"
          },
          "output_type": "display_data"
        }
      ],
      "source": [
        "income.plot(kind='hist',bins=50)\n",
        "plt.axvline(x=income.mean(),label='mean',color='red')\n",
        "plt.axvline(x=income.median(),label='median')\n",
        "plt.legend()"
      ]
    },
    {
      "cell_type": "markdown",
      "metadata": {
        "id": "vWJApz8A0qaR"
      },
      "source": [
        "## Ukuran Persebaran Data"
      ]
    },
    {
      "cell_type": "code",
      "execution_count": 10,
      "metadata": {
        "colab": {
          "base_uri": "https://localhost:8080/",
          "height": 282
        },
        "id": "DnkPv3kNyDTE",
        "outputId": "ea02bcc2-7ef5-4400-b35e-bc862356fdb5"
      },
      "outputs": [
        {
          "data": {
            "text/plain": [
              "<AxesSubplot:>"
            ]
          },
          "execution_count": 10,
          "metadata": {},
          "output_type": "execute_result"
        },
        {
          "data": {
            "image/png": "[encoded data removed]",
            "text/plain": [
              "<Figure size 432x288 with 1 Axes>"
            ]
          },
          "metadata": {
            "needs_background": "light"
          },
          "output_type": "display_data"
        }
      ],
      "source": [
        "income.plot(kind='box')"
      ]
    },
    {
      "cell_type": "code",
      "execution_count": 11,
      "metadata": {
        "colab": {
          "base_uri": "https://localhost:8080/"
        },
        "id": "2WSGCKKY0teY",
        "outputId": "7cec3f50-c5ed-4362-ec2b-0807cfad3038"
      },
      "outputs": [
        {
          "name": "stdout",
          "output_type": "stream",
          "text": [
            "Max: 137\n",
            "Min: 15\n",
            "Range: 122\n",
            "Standard Deviasi: 26.264721165271254\n",
            "Variance: 689.8355778894478\n",
            "Q1: 41.5\n",
            "Q2: 61.5\n",
            "Q3: 78.0\n",
            "Inter Quartil Range: 36.5\n",
            "Upper Boundary: 132.75\n",
            "Lower Boundary: -13.25\n"
          ]
        }
      ],
      "source": [
        "print('Max:',income.max())\n",
        "print('Min:',income.min())\n",
        "print('Range:',income.max()-income.min())\n",
        "print('Standard Deviasi:',income.std())\n",
        "print('Variance:',income.var())\n",
        "print('Q1:',income.quantile(0.25))\n",
        "print('Q2:',income.quantile(0.5))\n",
        "print('Q3:',income.quantile(0.75))\n",
        "print('Inter Quartil Range:',income.quantile(0.75) - income.quantile(0.25))\n",
        "print('Upper Boundary:',income.quantile(0.75) + 1.5*(income.quantile(0.75) - income.quantile(0.25)))\n",
        "print('Lower Boundary:',income.quantile(0.25) - 1.5*(income.quantile(0.75) - income.quantile(0.25)))"
      ]
    },
    {
      "cell_type": "code",
      "execution_count": 12,
      "metadata": {
        "colab": {
          "base_uri": "https://localhost:8080/"
        },
        "id": "bpSF9AlR5LgN",
        "outputId": "36fa0d41-5539-4fef-aacb-991451a1ec20"
      },
      "outputs": [
        {
          "data": {
            "text/plain": [
              "0      15\n",
              "1      15\n",
              "2      16\n",
              "3      16\n",
              "4      17\n",
              "       ..\n",
              "175    88\n",
              "176    88\n",
              "177    88\n",
              "178    93\n",
              "179    93\n",
              "Name: Annual Income (k$), Length: 180, dtype: int64"
            ]
          },
          "execution_count": 12,
          "metadata": {},
          "output_type": "execute_result"
        }
      ],
      "source": [
        "income[(income<=96.25) & (income>=-13.25)]"
      ]
    },
    {
      "cell_type": "code",
      "execution_count": 13,
      "metadata": {
        "colab": {
          "base_uri": "https://localhost:8080/"
        },
        "id": "U2TIxm0I2kOX",
        "outputId": "0a78e35f-23c3-4db3-ce53-2c309694665b"
      },
      "outputs": [
        {
          "data": {
            "text/plain": [
              "array([ 15,  16,  17,  18,  19,  20,  21,  23,  24,  25,  28,  29,  30,\n",
              "        33,  34,  37,  38,  39,  40,  42,  43,  44,  46,  47,  48,  49,\n",
              "        50,  54,  57,  58,  59,  60,  61,  62,  63,  64,  65,  67,  69,\n",
              "        70,  71,  72,  73,  74,  75,  76,  77,  78,  79,  81,  85,  86,\n",
              "        87,  88,  93,  97,  98,  99, 101, 103, 113, 120, 126, 137],\n",
              "      dtype=int64)"
            ]
          },
          "execution_count": 13,
          "metadata": {},
          "output_type": "execute_result"
        }
      ],
      "source": [
        "income.unique()"
      ]
    },
    {
      "cell_type": "code",
      "execution_count": 14,
      "metadata": {
        "colab": {
          "base_uri": "https://localhost:8080/"
        },
        "id": "oWtbIXAT2mV5",
        "outputId": "85fa9d88-1b9e-4eae-9a24-5110dc365a37"
      },
      "outputs": [
        {
          "data": {
            "text/plain": [
              "array([0, 4, 3, 1, 2], dtype=int64)"
            ]
          },
          "execution_count": 14,
          "metadata": {},
          "output_type": "execute_result"
        }
      ],
      "source": [
        "data.Label.unique()"
      ]
    },
    {
      "cell_type": "code",
      "execution_count": 15,
      "metadata": {
        "colab": {
          "base_uri": "https://localhost:8080/"
        },
        "id": "YPMHb5fI2oxK",
        "outputId": "9eb1b9eb-9457-46ac-e033-32ee16e6e7fe"
      },
      "outputs": [
        {
          "data": {
            "text/plain": [
              "1.461206030150752"
            ]
          },
          "execution_count": 15,
          "metadata": {},
          "output_type": "execute_result"
        }
      ],
      "source": [
        "data.Label.var()"
      ]
    },
    {
      "cell_type": "code",
      "execution_count": 16,
      "metadata": {
        "colab": {
          "base_uri": "https://localhost:8080/",
          "height": 282
        },
        "id": "Eiuw6x433AvP",
        "outputId": "15386349-051a-4484-9723-9bf162ab26b7"
      },
      "outputs": [
        {
          "data": {
            "text/plain": [
              "<matplotlib.collections.PathCollection at 0x28b6ae98430>"
            ]
          },
          "execution_count": 16,
          "metadata": {},
          "output_type": "execute_result"
        },
        {
          "data": {
            "image/png": "[encoded data removed]",
            "text/plain": [
              "<Figure size 432x288 with 1 Axes>"
            ]
          },
          "metadata": {
            "needs_background": "light"
          },
          "output_type": "display_data"
        }
      ],
      "source": [
        "plt.scatter(data.Age,income)"
      ]
    },
    {
      "cell_type": "code",
      "execution_count": 17,
      "metadata": {
        "colab": {
          "base_uri": "https://localhost:8080/"
        },
        "id": "YV0EGh3V6IF5",
        "outputId": "a4617d5c-4b65-4c3b-c461-72e67fd08a4e"
      },
      "outputs": [
        {
          "data": {
            "text/plain": [
              "-0.012398042736060145"
            ]
          },
          "execution_count": 17,
          "metadata": {},
          "output_type": "execute_result"
        }
      ],
      "source": [
        "data.Age.corr(income)"
      ]
    },
    {
      "cell_type": "code",
      "execution_count": 18,
      "metadata": {
        "colab": {
          "base_uri": "https://localhost:8080/",
          "height": 282
        },
        "id": "M4U4049v3EA2",
        "outputId": "aec3d72e-2454-4b18-bb17-05c16be8c92f"
      },
      "outputs": [
        {
          "data": {
            "text/plain": [
              "<matplotlib.collections.PathCollection at 0x28b6b362fd0>"
            ]
          },
          "execution_count": 18,
          "metadata": {},
          "output_type": "execute_result"
        },
        {
          "data": {
            "image/png": "[encoded data removed]",
            "text/plain": [
              "<Figure size 432x288 with 1 Axes>"
            ]
          },
          "metadata": {
            "needs_background": "light"
          },
          "output_type": "display_data"
        }
      ],
      "source": [
        "plt.scatter(income,data['Spending Score (1-100)'])"
      ]
    },
    {
      "cell_type": "code",
      "execution_count": 19,
      "metadata": {
        "colab": {
          "base_uri": "https://localhost:8080/"
        },
        "id": "Oj1Fsefx6E5-",
        "outputId": "5ee7447b-0a11-4030-bb1d-510657f0c0a8"
      },
      "outputs": [
        {
          "data": {
            "text/plain": [
              "0.009902848094037608"
            ]
          },
          "execution_count": 19,
          "metadata": {},
          "output_type": "execute_result"
        }
      ],
      "source": [
        "income.corr(data['Spending Score (1-100)'])"
      ]
    }
  ],
  "metadata": {
    "colab": {
      "name": "Mentoring.ipynb",
      "provenance": []
    },
    "kernelspec": {
      "display_name": "Python 3",
      "name": "python3"
    },
    "language_info": {
      "codemirror_mode": {
        "name": "ipython",
        "version": 3
      },
      "file_extension": ".py",
      "mimetype": "text/x-python",
      "name": "python",
      "nbconvert_exporter": "python",
      "pygments_lexer": "ipython3",
      "version": "3.9.7"
    }
  },
  "nbformat": 4,
  "nbformat_minor": 0
}
