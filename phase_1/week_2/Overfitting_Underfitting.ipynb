{
 "cells": [
  {
   "cell_type": "markdown",
   "metadata": {},
   "source": [
    "Perbandingan kesalahan pelatihan dan kesalahan pengujian dapat membantu kita mengidentifikasi situasi overfitting dan underfitting.\n",
    "Penyebab:\n",
    "Kasus 01: kinerja set pelatihan tinggi dan kinerja set pengujian rendah--> Overfitting\n",
    "Kasus 02: kinerja set pelatihan rendah dan kinerja set pengujian rendah--> Underfitting\n",
    "\n",
    "Faktor yang bertanggung jawab untuk\n",
    "a) overfitting: algoritme yang lebih fleksibel dan tingkat kebebasan yang lebih tinggi mencoba menyesuaikan noise dalam kumpulan data dan mengurangi kesalahan pelatihan\n",
    "a) underfitting : algoritme sederhana dengan fitur yang tidak mencukupi mencoba menyesuaikan noise dalam kumpulan data yang membatasi kinerja pengujian\n",
    "\n",
    "Validasi silang dan regularisasi sering membantu untuk menghindari kekurangan dan kelebihan\n",
    "\n",
    "Sebuah model dikatakan overfit jika terdapat perbedaan yang cukup besar dalam akurasi antara dataset pelatihan dan pengujian. Dalam kasus Anda, ya, sepertinya agak terlalu pas. Secara teknis overfit terjadi ketika kesalahan varians tinggi dan underfit terjadi ketika kesalahan bias tinggi.\n",
    "\n",
    "Overfit dan underfit disebabkan karena berbagai alasan, beberapa petunjuk utama yang saya catat di notebook Anda, tolong kerjakan bahwa Anda pasti akan melihat peningkatan pada model Anda,\n",
    "\n",
    "Anda telah melatih model Anda menggunakan seluruh data pelatihan Anda dan menerapkan model ke data uji tak terlihat yang disediakan di kaggle. Alih-alih melakukan ini, pisahkan data pelatihan Anda menggunakan sklearns train_test_split menjadi tiga kumpulan data berbeda,\n",
    "\n",
    "Data pelatihan\n",
    "Validasi data (Digunakan untuk menghindari kebocoran data)\n",
    "data_tes\n",
    "Anda harus melatih model Anda dengan data pelatihan yang telah Anda buat belat dari data kereta yang disediakan. Lakukan validasi silang Anda pada data pelatihan dan periksa silang di set validasi Anda ketika skor validasi silang memuaskan. Jika tidak memuaskan bekerja pada hyperparameters model dan setelah yakin uji model Anda pada dataset uji. Pertimbangkan data uji yang diberikan sebagai data produksi yang menerapkan model ketika kondisi tersebut di atas terpenuhi.\n",
    "\n",
    "Kinerja model murni didasarkan pada kualitas data, oleh karena itu lakukan Analisis Data Eksplorasi yang mendalam dan hapus kumpulan data yang tidak diinginkan dan tambahkan fitur baru yang akan memunculkan kinerja.\n",
    "\n",
    "Tolong beri tahu saya jika itu membantu atau Anda membutuhkan lebih banyak kejelasan. Saya akan mencoba membuat buku catatan dan segera membagikannya."
   ]
  },
  {
   "cell_type": "markdown",
   "metadata": {},
   "source": [
    "Hi @djpaulo , If the model is having high error both in test and train data then your model is underfitting. But if the error is high only in the test and not in the train then it can be overfitting."
   ]
  },
  {
   "cell_type": "code",
   "execution_count": null,
   "metadata": {},
   "outputs": [],
   "source": []
  }
 ],
 "metadata": {
  "language_info": {
   "name": "python"
  },
  "orig_nbformat": 4
 },
 "nbformat": 4,
 "nbformat_minor": 2
}
