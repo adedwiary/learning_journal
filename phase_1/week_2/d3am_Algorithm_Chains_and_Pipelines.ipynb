{
  "cells": [
    {
      "cell_type": "markdown",
      "metadata": {
        "id": "XKaYNROCpDS_"
      },
      "source": [
        "# Week 4: Day 3 PM // Algorithm Chains and Pipelines"
      ]
    },
    {
      "cell_type": "code",
      "execution_count": 1,
      "metadata": {
        "colab": {
          "base_uri": "https://localhost:8080/"
        },
        "id": "ZVfJ0wNS1B-D",
        "outputId": "dd39e4f9-fd16-452f-9ecf-52a444b3b7e9"
      },
      "outputs": [
        {
          "name": "stdout",
          "output_type": "stream",
          "text": [
            "Collecting mglearn\n",
            "  Downloading mglearn-0.1.9.tar.gz (540 kB)\n",
            "Requirement already satisfied: numpy in c:\\users\\dedwi\\anaconda3\\lib\\site-packages (from mglearn) (1.20.3)\n",
            "Requirement already satisfied: matplotlib in c:\\users\\dedwi\\anaconda3\\lib\\site-packages (from mglearn) (3.4.3)\n",
            "Requirement already satisfied: scikit-learn in c:\\users\\dedwi\\anaconda3\\lib\\site-packages (from mglearn) (0.24.2)\n",
            "Requirement already satisfied: pandas in c:\\users\\dedwi\\anaconda3\\lib\\site-packages (from mglearn) (1.3.4)\n",
            "Requirement already satisfied: pillow in c:\\users\\dedwi\\anaconda3\\lib\\site-packages (from mglearn) (8.4.0)\n",
            "Requirement already satisfied: cycler in c:\\users\\dedwi\\anaconda3\\lib\\site-packages (from mglearn) (0.10.0)\n",
            "Requirement already satisfied: imageio in c:\\users\\dedwi\\anaconda3\\lib\\site-packages (from mglearn) (2.9.0)\n",
            "Requirement already satisfied: joblib in c:\\users\\dedwi\\anaconda3\\lib\\site-packages (from mglearn) (1.1.0)\n",
            "Requirement already satisfied: six in c:\\users\\dedwi\\anaconda3\\lib\\site-packages (from cycler->mglearn) (1.16.0)\n",
            "Requirement already satisfied: python-dateutil>=2.7 in c:\\users\\dedwi\\anaconda3\\lib\\site-packages (from matplotlib->mglearn) (2.8.2)\n",
            "Requirement already satisfied: kiwisolver>=1.0.1 in c:\\users\\dedwi\\anaconda3\\lib\\site-packages (from matplotlib->mglearn) (1.3.1)\n",
            "Requirement already satisfied: pyparsing>=2.2.1 in c:\\users\\dedwi\\anaconda3\\lib\\site-packages (from matplotlib->mglearn) (3.0.4)\n",
            "Requirement already satisfied: pytz>=2017.3 in c:\\users\\dedwi\\anaconda3\\lib\\site-packages (from pandas->mglearn) (2021.3)\n",
            "Requirement already satisfied: scipy>=0.19.1 in c:\\users\\dedwi\\anaconda3\\lib\\site-packages (from scikit-learn->mglearn) (1.7.1)\n",
            "Requirement already satisfied: threadpoolctl>=2.0.0 in c:\\users\\dedwi\\anaconda3\\lib\\site-packages (from scikit-learn->mglearn) (2.2.0)\n",
            "Building wheels for collected packages: mglearn\n",
            "  Building wheel for mglearn (setup.py): started\n",
            "  Building wheel for mglearn (setup.py): finished with status 'done'\n",
            "  Created wheel for mglearn: filename=mglearn-0.1.9-py2.py3-none-any.whl size=582637 sha256=42ed4a6171c9179c3640aca2b5e8fe30bd55b242519907a6eccc28a5b56c6797\n",
            "  Stored in directory: c:\\users\\dedwi\\appdata\\local\\pip\\cache\\wheels\\df\\30\\8a\\1e2c8f144c9d411b0688f628d496d2db8f61b6d14bcedaa1df\n",
            "Successfully built mglearn\n",
            "Installing collected packages: mglearn\n",
            "Successfully installed mglearn-0.1.9\n"
          ]
        }
      ],
      "source": [
        "!pip install mglearn"
      ]
    },
    {
      "cell_type": "code",
      "execution_count": 2,
      "metadata": {
        "colab": {
          "base_uri": "https://localhost:8080/",
          "height": 304
        },
        "id": "RTeJtQTgpDTE",
        "outputId": "ca7906a7-2fc5-4032-829b-676e96dabdec"
      },
      "outputs": [
        {
          "data": {
            "text/html": [
              "<div>\n",
              "<style scoped>\n",
              "    .dataframe tbody tr th:only-of-type {\n",
              "        vertical-align: middle;\n",
              "    }\n",
              "\n",
              "    .dataframe tbody tr th {\n",
              "        vertical-align: top;\n",
              "    }\n",
              "\n",
              "    .dataframe thead th {\n",
              "        text-align: right;\n",
              "    }\n",
              "</style>\n",
              "<table border=\"1\" class=\"dataframe\">\n",
              "  <thead>\n",
              "    <tr style=\"text-align: right;\">\n",
              "      <th></th>\n",
              "      <th>mean radius</th>\n",
              "      <th>mean texture</th>\n",
              "      <th>mean perimeter</th>\n",
              "      <th>mean area</th>\n",
              "      <th>mean smoothness</th>\n",
              "      <th>mean compactness</th>\n",
              "      <th>mean concavity</th>\n",
              "      <th>mean concave points</th>\n",
              "      <th>mean symmetry</th>\n",
              "      <th>mean fractal dimension</th>\n",
              "      <th>...</th>\n",
              "      <th>worst texture</th>\n",
              "      <th>worst perimeter</th>\n",
              "      <th>worst area</th>\n",
              "      <th>worst smoothness</th>\n",
              "      <th>worst compactness</th>\n",
              "      <th>worst concavity</th>\n",
              "      <th>worst concave points</th>\n",
              "      <th>worst symmetry</th>\n",
              "      <th>worst fractal dimension</th>\n",
              "      <th>target</th>\n",
              "    </tr>\n",
              "  </thead>\n",
              "  <tbody>\n",
              "    <tr>\n",
              "      <th>0</th>\n",
              "      <td>17.99</td>\n",
              "      <td>10.38</td>\n",
              "      <td>122.80</td>\n",
              "      <td>1001.0</td>\n",
              "      <td>0.11840</td>\n",
              "      <td>0.27760</td>\n",
              "      <td>0.3001</td>\n",
              "      <td>0.14710</td>\n",
              "      <td>0.2419</td>\n",
              "      <td>0.07871</td>\n",
              "      <td>...</td>\n",
              "      <td>17.33</td>\n",
              "      <td>184.60</td>\n",
              "      <td>2019.0</td>\n",
              "      <td>0.1622</td>\n",
              "      <td>0.6656</td>\n",
              "      <td>0.7119</td>\n",
              "      <td>0.2654</td>\n",
              "      <td>0.4601</td>\n",
              "      <td>0.11890</td>\n",
              "      <td>0</td>\n",
              "    </tr>\n",
              "    <tr>\n",
              "      <th>1</th>\n",
              "      <td>20.57</td>\n",
              "      <td>17.77</td>\n",
              "      <td>132.90</td>\n",
              "      <td>1326.0</td>\n",
              "      <td>0.08474</td>\n",
              "      <td>0.07864</td>\n",
              "      <td>0.0869</td>\n",
              "      <td>0.07017</td>\n",
              "      <td>0.1812</td>\n",
              "      <td>0.05667</td>\n",
              "      <td>...</td>\n",
              "      <td>23.41</td>\n",
              "      <td>158.80</td>\n",
              "      <td>1956.0</td>\n",
              "      <td>0.1238</td>\n",
              "      <td>0.1866</td>\n",
              "      <td>0.2416</td>\n",
              "      <td>0.1860</td>\n",
              "      <td>0.2750</td>\n",
              "      <td>0.08902</td>\n",
              "      <td>0</td>\n",
              "    </tr>\n",
              "    <tr>\n",
              "      <th>2</th>\n",
              "      <td>19.69</td>\n",
              "      <td>21.25</td>\n",
              "      <td>130.00</td>\n",
              "      <td>1203.0</td>\n",
              "      <td>0.10960</td>\n",
              "      <td>0.15990</td>\n",
              "      <td>0.1974</td>\n",
              "      <td>0.12790</td>\n",
              "      <td>0.2069</td>\n",
              "      <td>0.05999</td>\n",
              "      <td>...</td>\n",
              "      <td>25.53</td>\n",
              "      <td>152.50</td>\n",
              "      <td>1709.0</td>\n",
              "      <td>0.1444</td>\n",
              "      <td>0.4245</td>\n",
              "      <td>0.4504</td>\n",
              "      <td>0.2430</td>\n",
              "      <td>0.3613</td>\n",
              "      <td>0.08758</td>\n",
              "      <td>0</td>\n",
              "    </tr>\n",
              "    <tr>\n",
              "      <th>3</th>\n",
              "      <td>11.42</td>\n",
              "      <td>20.38</td>\n",
              "      <td>77.58</td>\n",
              "      <td>386.1</td>\n",
              "      <td>0.14250</td>\n",
              "      <td>0.28390</td>\n",
              "      <td>0.2414</td>\n",
              "      <td>0.10520</td>\n",
              "      <td>0.2597</td>\n",
              "      <td>0.09744</td>\n",
              "      <td>...</td>\n",
              "      <td>26.50</td>\n",
              "      <td>98.87</td>\n",
              "      <td>567.7</td>\n",
              "      <td>0.2098</td>\n",
              "      <td>0.8663</td>\n",
              "      <td>0.6869</td>\n",
              "      <td>0.2575</td>\n",
              "      <td>0.6638</td>\n",
              "      <td>0.17300</td>\n",
              "      <td>0</td>\n",
              "    </tr>\n",
              "    <tr>\n",
              "      <th>4</th>\n",
              "      <td>20.29</td>\n",
              "      <td>14.34</td>\n",
              "      <td>135.10</td>\n",
              "      <td>1297.0</td>\n",
              "      <td>0.10030</td>\n",
              "      <td>0.13280</td>\n",
              "      <td>0.1980</td>\n",
              "      <td>0.10430</td>\n",
              "      <td>0.1809</td>\n",
              "      <td>0.05883</td>\n",
              "      <td>...</td>\n",
              "      <td>16.67</td>\n",
              "      <td>152.20</td>\n",
              "      <td>1575.0</td>\n",
              "      <td>0.1374</td>\n",
              "      <td>0.2050</td>\n",
              "      <td>0.4000</td>\n",
              "      <td>0.1625</td>\n",
              "      <td>0.2364</td>\n",
              "      <td>0.07678</td>\n",
              "      <td>0</td>\n",
              "    </tr>\n",
              "  </tbody>\n",
              "</table>\n",
              "<p>5 rows × 31 columns</p>\n",
              "</div>"
            ],
            "text/plain": [
              "   mean radius  mean texture  mean perimeter  mean area  mean smoothness  \\\n",
              "0        17.99         10.38          122.80     1001.0          0.11840   \n",
              "1        20.57         17.77          132.90     1326.0          0.08474   \n",
              "2        19.69         21.25          130.00     1203.0          0.10960   \n",
              "3        11.42         20.38           77.58      386.1          0.14250   \n",
              "4        20.29         14.34          135.10     1297.0          0.10030   \n",
              "\n",
              "   mean compactness  mean concavity  mean concave points  mean symmetry  \\\n",
              "0           0.27760          0.3001              0.14710         0.2419   \n",
              "1           0.07864          0.0869              0.07017         0.1812   \n",
              "2           0.15990          0.1974              0.12790         0.2069   \n",
              "3           0.28390          0.2414              0.10520         0.2597   \n",
              "4           0.13280          0.1980              0.10430         0.1809   \n",
              "\n",
              "   mean fractal dimension  ...  worst texture  worst perimeter  worst area  \\\n",
              "0                 0.07871  ...          17.33           184.60      2019.0   \n",
              "1                 0.05667  ...          23.41           158.80      1956.0   \n",
              "2                 0.05999  ...          25.53           152.50      1709.0   \n",
              "3                 0.09744  ...          26.50            98.87       567.7   \n",
              "4                 0.05883  ...          16.67           152.20      1575.0   \n",
              "\n",
              "   worst smoothness  worst compactness  worst concavity  worst concave points  \\\n",
              "0            0.1622             0.6656           0.7119                0.2654   \n",
              "1            0.1238             0.1866           0.2416                0.1860   \n",
              "2            0.1444             0.4245           0.4504                0.2430   \n",
              "3            0.2098             0.8663           0.6869                0.2575   \n",
              "4            0.1374             0.2050           0.4000                0.1625   \n",
              "\n",
              "   worst symmetry  worst fractal dimension  target  \n",
              "0          0.4601                  0.11890       0  \n",
              "1          0.2750                  0.08902       0  \n",
              "2          0.3613                  0.08758       0  \n",
              "3          0.6638                  0.17300       0  \n",
              "4          0.2364                  0.07678       0  \n",
              "\n",
              "[5 rows x 31 columns]"
            ]
          },
          "execution_count": 2,
          "metadata": {},
          "output_type": "execute_result"
        }
      ],
      "source": [
        "\n",
        "import mglearn\n",
        "import matplotlib.pyplot as plt\n",
        "import pandas as pd\n",
        "from sklearn.svm import SVC\n",
        "from sklearn.datasets import load_breast_cancer\n",
        "from sklearn.model_selection import train_test_split\n",
        "from sklearn.pipeline import Pipeline\n",
        "from sklearn.preprocessing import MinMaxScaler\n",
        "\n",
        "df = pd.DataFrame(load_breast_cancer().data, columns=load_breast_cancer().feature_names)\n",
        "df['target'] = load_breast_cancer().target\n",
        "df.head()"
      ]
    },
    {
      "cell_type": "code",
      "execution_count": 3,
      "metadata": {
        "colab": {
          "base_uri": "https://localhost:8080/"
        },
        "id": "Gqt5Eiyd1S-W",
        "outputId": "13ed4c3e-8783-41db-bd44-b97b325a2098"
      },
      "outputs": [
        {
          "data": {
            "text/plain": [
              "array([0, 0, 0, 0, 0, 0, 0, 0, 0, 0, 0, 0, 0, 0, 0, 0, 0, 0, 0, 1, 1, 1,\n",
              "       0, 0, 0, 0, 0, 0, 0, 0, 0, 0, 0, 0, 0, 0, 0, 1, 0, 0, 0, 0, 0, 0,\n",
              "       0, 0, 1, 0, 1, 1, 1, 1, 1, 0, 0, 1, 0, 0, 1, 1, 1, 1, 0, 1, 0, 0,\n",
              "       1, 1, 1, 1, 0, 1, 0, 0, 1, 0, 1, 0, 0, 1, 1, 1, 0, 0, 1, 0, 0, 0,\n",
              "       1, 1, 1, 0, 1, 1, 0, 0, 1, 1, 1, 0, 0, 1, 1, 1, 1, 0, 1, 1, 0, 1,\n",
              "       1, 1, 1, 1, 1, 1, 1, 0, 0, 0, 1, 0, 0, 1, 1, 1, 0, 0, 1, 0, 1, 0,\n",
              "       0, 1, 0, 0, 1, 1, 0, 1, 1, 0, 1, 1, 1, 1, 0, 1, 1, 1, 1, 1, 1, 1,\n",
              "       1, 1, 0, 1, 1, 1, 1, 0, 0, 1, 0, 1, 1, 0, 0, 1, 1, 0, 0, 1, 1, 1,\n",
              "       1, 0, 1, 1, 0, 0, 0, 1, 0, 1, 0, 1, 1, 1, 0, 1, 1, 0, 0, 1, 0, 0,\n",
              "       0, 0, 1, 0, 0, 0, 1, 0, 1, 0, 1, 1, 0, 1, 0, 0, 0, 0, 1, 1, 0, 0,\n",
              "       1, 1, 1, 0, 1, 1, 1, 1, 1, 0, 0, 1, 1, 0, 1, 1, 0, 0, 1, 0, 1, 1,\n",
              "       1, 1, 0, 1, 1, 1, 1, 1, 0, 1, 0, 0, 0, 0, 0, 0, 0, 0, 0, 0, 0, 0,\n",
              "       0, 0, 1, 1, 1, 1, 1, 1, 0, 1, 0, 1, 1, 0, 1, 1, 0, 1, 0, 0, 1, 1,\n",
              "       1, 1, 1, 1, 1, 1, 1, 1, 1, 1, 1, 0, 1, 1, 0, 1, 0, 1, 1, 1, 1, 1,\n",
              "       1, 1, 1, 1, 1, 1, 1, 1, 1, 0, 1, 1, 1, 0, 1, 0, 1, 1, 1, 1, 0, 0,\n",
              "       0, 1, 1, 1, 1, 0, 1, 0, 1, 0, 1, 1, 1, 0, 1, 1, 1, 1, 1, 1, 1, 0,\n",
              "       0, 0, 1, 1, 1, 1, 1, 1, 1, 1, 1, 1, 1, 0, 0, 1, 0, 0, 0, 1, 0, 0,\n",
              "       1, 1, 1, 1, 1, 0, 1, 1, 1, 1, 1, 0, 1, 1, 1, 0, 1, 1, 0, 0, 1, 1,\n",
              "       1, 1, 1, 1, 0, 1, 1, 1, 1, 1, 1, 1, 0, 1, 1, 1, 1, 1, 0, 1, 1, 0,\n",
              "       1, 1, 1, 1, 1, 1, 1, 1, 1, 1, 1, 1, 0, 1, 0, 0, 1, 0, 1, 1, 1, 1,\n",
              "       1, 0, 1, 1, 0, 1, 0, 1, 1, 0, 1, 0, 1, 1, 1, 1, 1, 1, 1, 1, 0, 0,\n",
              "       1, 1, 1, 1, 1, 1, 0, 1, 1, 1, 1, 1, 1, 1, 1, 1, 1, 0, 1, 1, 1, 1,\n",
              "       1, 1, 1, 0, 1, 0, 1, 1, 0, 1, 1, 1, 1, 1, 0, 0, 1, 0, 1, 0, 1, 1,\n",
              "       1, 1, 1, 0, 1, 1, 0, 1, 0, 1, 0, 0, 1, 1, 1, 0, 1, 1, 1, 1, 1, 1,\n",
              "       1, 1, 1, 1, 1, 0, 1, 0, 0, 1, 1, 1, 1, 1, 1, 1, 1, 1, 1, 1, 1, 1,\n",
              "       1, 1, 1, 1, 1, 1, 1, 1, 1, 1, 1, 1, 0, 0, 0, 0, 0, 0, 1])"
            ]
          },
          "execution_count": 3,
          "metadata": {},
          "output_type": "execute_result"
        }
      ],
      "source": [
        "# load and split the data\n",
        "cancer = load_breast_cancer()\n",
        "cancer.target"
      ]
    },
    {
      "cell_type": "code",
      "execution_count": 4,
      "metadata": {
        "id": "CMuccKhdN87l"
      },
      "outputs": [],
      "source": [
        "\n",
        "X_train, X_test, y_train, y_test = train_test_split(\n",
        "    cancer.data, cancer.target, random_state=0)\n",
        "\n",
        "# compute minimum and maximum on the training data\n",
        "scaler = MinMaxScaler()"
      ]
    },
    {
      "cell_type": "code",
      "execution_count": 5,
      "metadata": {
        "colab": {
          "base_uri": "https://localhost:8080/"
        },
        "id": "KfEgmVJkpDTF",
        "outputId": "7dca6931-339c-43b4-adfa-40d47230fbcb"
      },
      "outputs": [
        {
          "name": "stdout",
          "output_type": "stream",
          "text": [
            "Test score: 0.97\n"
          ]
        }
      ],
      "source": [
        "# rescale the training data\n",
        "scaler.fit(X_train)\n",
        "X_train_scaled = scaler.transform(X_train)\n",
        "\n",
        "svm = SVC()\n",
        "# learn an SVM on the scaled training data\n",
        "svm.fit(X_train_scaled, y_train)\n",
        "# scale the test data and score the scaled data\n",
        "X_test_scaled = scaler.transform(X_test)\n",
        "print(\"Test score: {:.2f}\".format(svm.score(X_test_scaled, y_test)))"
      ]
    },
    {
      "cell_type": "code",
      "execution_count": 6,
      "metadata": {
        "colab": {
          "base_uri": "https://localhost:8080/"
        },
        "id": "2EqOLEIDTMnw",
        "outputId": "ee531dbd-00a8-45a6-c8af-9bb12ec16185"
      },
      "outputs": [
        {
          "name": "stdout",
          "output_type": "stream",
          "text": [
            "[[0.   0.  ]\n",
            " [0.25 0.25]\n",
            " [0.5  0.5 ]\n",
            " [1.   1.  ]]\n"
          ]
        }
      ],
      "source": [
        "# Example Min Max\n",
        "example_data = [[-1, 2], [-0.5, 6], [0, 10], [1, 18]]\n",
        "example_scaler = MinMaxScaler().fit(example_data)\n",
        "print(example_scaler.transform(example_data))"
      ]
    },
    {
      "cell_type": "code",
      "execution_count": 7,
      "metadata": {
        "colab": {
          "base_uri": "https://localhost:8080/",
          "height": 304
        },
        "id": "E6H2mbE0C_6e",
        "outputId": "178911ce-be43-4305-c9ea-71ff537a9e0c"
      },
      "outputs": [
        {
          "data": {
            "text/html": [
              "<div>\n",
              "<style scoped>\n",
              "    .dataframe tbody tr th:only-of-type {\n",
              "        vertical-align: middle;\n",
              "    }\n",
              "\n",
              "    .dataframe tbody tr th {\n",
              "        vertical-align: top;\n",
              "    }\n",
              "\n",
              "    .dataframe thead th {\n",
              "        text-align: right;\n",
              "    }\n",
              "</style>\n",
              "<table border=\"1\" class=\"dataframe\">\n",
              "  <thead>\n",
              "    <tr style=\"text-align: right;\">\n",
              "      <th></th>\n",
              "      <th>mean radius</th>\n",
              "      <th>mean texture</th>\n",
              "      <th>mean perimeter</th>\n",
              "      <th>mean area</th>\n",
              "      <th>mean smoothness</th>\n",
              "      <th>mean compactness</th>\n",
              "      <th>mean concavity</th>\n",
              "      <th>mean concave points</th>\n",
              "      <th>mean symmetry</th>\n",
              "      <th>mean fractal dimension</th>\n",
              "      <th>...</th>\n",
              "      <th>worst texture</th>\n",
              "      <th>worst perimeter</th>\n",
              "      <th>worst area</th>\n",
              "      <th>worst smoothness</th>\n",
              "      <th>worst compactness</th>\n",
              "      <th>worst concavity</th>\n",
              "      <th>worst concave points</th>\n",
              "      <th>worst symmetry</th>\n",
              "      <th>worst fractal dimension</th>\n",
              "      <th>target</th>\n",
              "    </tr>\n",
              "  </thead>\n",
              "  <tbody>\n",
              "    <tr>\n",
              "      <th>0</th>\n",
              "      <td>0.521037</td>\n",
              "      <td>0.022658</td>\n",
              "      <td>0.545989</td>\n",
              "      <td>0.363733</td>\n",
              "      <td>0.593753</td>\n",
              "      <td>0.792037</td>\n",
              "      <td>0.703140</td>\n",
              "      <td>0.731113</td>\n",
              "      <td>0.686364</td>\n",
              "      <td>0.605518</td>\n",
              "      <td>...</td>\n",
              "      <td>0.141525</td>\n",
              "      <td>0.668310</td>\n",
              "      <td>0.450698</td>\n",
              "      <td>0.601136</td>\n",
              "      <td>0.619292</td>\n",
              "      <td>0.568610</td>\n",
              "      <td>0.912027</td>\n",
              "      <td>0.598462</td>\n",
              "      <td>0.418864</td>\n",
              "      <td>0</td>\n",
              "    </tr>\n",
              "    <tr>\n",
              "      <th>1</th>\n",
              "      <td>0.643144</td>\n",
              "      <td>0.272574</td>\n",
              "      <td>0.615783</td>\n",
              "      <td>0.501591</td>\n",
              "      <td>0.289880</td>\n",
              "      <td>0.181768</td>\n",
              "      <td>0.203608</td>\n",
              "      <td>0.348757</td>\n",
              "      <td>0.379798</td>\n",
              "      <td>0.141323</td>\n",
              "      <td>...</td>\n",
              "      <td>0.303571</td>\n",
              "      <td>0.539818</td>\n",
              "      <td>0.435214</td>\n",
              "      <td>0.347553</td>\n",
              "      <td>0.154563</td>\n",
              "      <td>0.192971</td>\n",
              "      <td>0.639175</td>\n",
              "      <td>0.233590</td>\n",
              "      <td>0.222878</td>\n",
              "      <td>0</td>\n",
              "    </tr>\n",
              "    <tr>\n",
              "      <th>2</th>\n",
              "      <td>0.601496</td>\n",
              "      <td>0.390260</td>\n",
              "      <td>0.595743</td>\n",
              "      <td>0.449417</td>\n",
              "      <td>0.514309</td>\n",
              "      <td>0.431017</td>\n",
              "      <td>0.462512</td>\n",
              "      <td>0.635686</td>\n",
              "      <td>0.509596</td>\n",
              "      <td>0.211247</td>\n",
              "      <td>...</td>\n",
              "      <td>0.360075</td>\n",
              "      <td>0.508442</td>\n",
              "      <td>0.374508</td>\n",
              "      <td>0.483590</td>\n",
              "      <td>0.385375</td>\n",
              "      <td>0.359744</td>\n",
              "      <td>0.835052</td>\n",
              "      <td>0.403706</td>\n",
              "      <td>0.213433</td>\n",
              "      <td>0</td>\n",
              "    </tr>\n",
              "    <tr>\n",
              "      <th>3</th>\n",
              "      <td>0.210090</td>\n",
              "      <td>0.360839</td>\n",
              "      <td>0.233501</td>\n",
              "      <td>0.102906</td>\n",
              "      <td>0.811321</td>\n",
              "      <td>0.811361</td>\n",
              "      <td>0.565604</td>\n",
              "      <td>0.522863</td>\n",
              "      <td>0.776263</td>\n",
              "      <td>1.000000</td>\n",
              "      <td>...</td>\n",
              "      <td>0.385928</td>\n",
              "      <td>0.241347</td>\n",
              "      <td>0.094008</td>\n",
              "      <td>0.915472</td>\n",
              "      <td>0.814012</td>\n",
              "      <td>0.548642</td>\n",
              "      <td>0.884880</td>\n",
              "      <td>1.000000</td>\n",
              "      <td>0.773711</td>\n",
              "      <td>0</td>\n",
              "    </tr>\n",
              "    <tr>\n",
              "      <th>4</th>\n",
              "      <td>0.629893</td>\n",
              "      <td>0.156578</td>\n",
              "      <td>0.630986</td>\n",
              "      <td>0.489290</td>\n",
              "      <td>0.430351</td>\n",
              "      <td>0.347893</td>\n",
              "      <td>0.463918</td>\n",
              "      <td>0.518390</td>\n",
              "      <td>0.378283</td>\n",
              "      <td>0.186816</td>\n",
              "      <td>...</td>\n",
              "      <td>0.123934</td>\n",
              "      <td>0.506948</td>\n",
              "      <td>0.341575</td>\n",
              "      <td>0.437364</td>\n",
              "      <td>0.172415</td>\n",
              "      <td>0.319489</td>\n",
              "      <td>0.558419</td>\n",
              "      <td>0.157500</td>\n",
              "      <td>0.142595</td>\n",
              "      <td>0</td>\n",
              "    </tr>\n",
              "  </tbody>\n",
              "</table>\n",
              "<p>5 rows × 31 columns</p>\n",
              "</div>"
            ],
            "text/plain": [
              "   mean radius  mean texture  mean perimeter  mean area  mean smoothness  \\\n",
              "0     0.521037      0.022658        0.545989   0.363733         0.593753   \n",
              "1     0.643144      0.272574        0.615783   0.501591         0.289880   \n",
              "2     0.601496      0.390260        0.595743   0.449417         0.514309   \n",
              "3     0.210090      0.360839        0.233501   0.102906         0.811321   \n",
              "4     0.629893      0.156578        0.630986   0.489290         0.430351   \n",
              "\n",
              "   mean compactness  mean concavity  mean concave points  mean symmetry  \\\n",
              "0          0.792037        0.703140             0.731113       0.686364   \n",
              "1          0.181768        0.203608             0.348757       0.379798   \n",
              "2          0.431017        0.462512             0.635686       0.509596   \n",
              "3          0.811361        0.565604             0.522863       0.776263   \n",
              "4          0.347893        0.463918             0.518390       0.378283   \n",
              "\n",
              "   mean fractal dimension  ...  worst texture  worst perimeter  worst area  \\\n",
              "0                0.605518  ...       0.141525         0.668310    0.450698   \n",
              "1                0.141323  ...       0.303571         0.539818    0.435214   \n",
              "2                0.211247  ...       0.360075         0.508442    0.374508   \n",
              "3                1.000000  ...       0.385928         0.241347    0.094008   \n",
              "4                0.186816  ...       0.123934         0.506948    0.341575   \n",
              "\n",
              "   worst smoothness  worst compactness  worst concavity  worst concave points  \\\n",
              "0          0.601136           0.619292         0.568610              0.912027   \n",
              "1          0.347553           0.154563         0.192971              0.639175   \n",
              "2          0.483590           0.385375         0.359744              0.835052   \n",
              "3          0.915472           0.814012         0.548642              0.884880   \n",
              "4          0.437364           0.172415         0.319489              0.558419   \n",
              "\n",
              "   worst symmetry  worst fractal dimension  target  \n",
              "0        0.598462                 0.418864       0  \n",
              "1        0.233590                 0.222878       0  \n",
              "2        0.403706                 0.213433       0  \n",
              "3        1.000000                 0.773711       0  \n",
              "4        0.157500                 0.142595       0  \n",
              "\n",
              "[5 rows x 31 columns]"
            ]
          },
          "execution_count": 7,
          "metadata": {},
          "output_type": "execute_result"
        }
      ],
      "source": [
        "# See the difference\n",
        "new_scaler = MinMaxScaler().fit(cancer.data)\n",
        "new_df = pd.DataFrame(new_scaler.transform(cancer.data), columns=cancer.feature_names)\n",
        "new_df['target'] = cancer.target\n",
        "new_df.head()"
      ]
    },
    {
      "cell_type": "code",
      "execution_count": 8,
      "metadata": {
        "colab": {
          "base_uri": "https://localhost:8080/",
          "height": 497
        },
        "id": "j3kO9ykGP6j6",
        "outputId": "3ad3fdf6-6ab3-4cb9-e355-292f41b211b5"
      },
      "outputs": [
        {
          "data": {
            "text/plain": [
              "[Text(0.5, 1.0, 'After MaxMinScaler, Mean Radius'), Text(0, 0.5, 'Frequency')]"
            ]
          },
          "execution_count": 8,
          "metadata": {},
          "output_type": "execute_result"
        },
        {
          "data": {
            "image/png": "[encoded data removed]",
            "text/plain": [
              "<Figure size 1152x576 with 2 Axes>"
            ]
          },
          "metadata": {
            "needs_background": "light"
          },
          "output_type": "display_data"
        }
      ],
      "source": [
        "x1 = df['mean radius'].tolist()\n",
        "x2 = new_df['mean radius'].tolist()\n",
        "\n",
        "kwargs = dict(alpha=0.5, bins=100)\n",
        "\n",
        "plt.figure(figsize=(16, 8)) \n",
        "plt.subplot(1,2,1)\n",
        "plt.hist(x1, **kwargs, color='g', label='old')\n",
        "plt.gca().set(title='Before MaxMinScaler, Mean Radius', ylabel='Frequency')\n",
        "plt.subplot(1,2,2)\n",
        "plt.hist(x2, **kwargs, color='b', label='new')\n",
        "plt.gca().set(title='After MaxMinScaler, Mean Radius', ylabel='Frequency')"
      ]
    },
    {
      "cell_type": "markdown",
      "metadata": {
        "id": "mEHszsbNpDTH"
      },
      "source": [
        "### Parameter Selection with Preprocessing "
      ]
    },
    {
      "cell_type": "code",
      "execution_count": 9,
      "metadata": {
        "colab": {
          "base_uri": "https://localhost:8080/"
        },
        "id": "bOYhKuSTpDTH",
        "outputId": "bcc47acf-d257-4c85-85c4-fc9bad36b8e8"
      },
      "outputs": [
        {
          "name": "stdout",
          "output_type": "stream",
          "text": [
            "Best cross-validation accuracy: 0.98\n",
            "Best parameters:  {'C': 1, 'gamma': 1}\n",
            "Test set accuracy: 0.97\n"
          ]
        }
      ],
      "source": [
        "from sklearn.model_selection import GridSearchCV\n",
        "# for illustration purposes only, don't use this code!\n",
        "param_grid = {'C': [0.001, 0.01, 0.1, 1, 10, 100],\n",
        "              'gamma': [0.001, 0.01, 0.1, 1, 10, 100]}\n",
        "grid = GridSearchCV(SVC(), param_grid=param_grid, cv=5)\n",
        "grid.fit(X_train_scaled, y_train)\n",
        "print(\"Best cross-validation accuracy: {:.2f}\".format(grid.best_score_))\n",
        "print(\"Best parameters: \", grid.best_params_)\n",
        "print(\"Test set accuracy: {:.2f}\".format(grid.score(X_test_scaled, y_test)))"
      ]
    },
    {
      "cell_type": "code",
      "execution_count": 10,
      "metadata": {
        "colab": {
          "base_uri": "https://localhost:8080/",
          "height": 602
        },
        "hide_input": false,
        "id": "HWqNLfdJpDTI",
        "outputId": "2b4cbcf2-dacb-4370-9319-38aa4da7c479"
      },
      "outputs": [
        {
          "data": {
            "image/png": "[encoded data removed]",
            "text/plain": [
              "<Figure size 1080x720 with 2 Axes>"
            ]
          },
          "metadata": {},
          "output_type": "display_data"
        }
      ],
      "source": [
        "mglearn.plots.plot_improper_processing()"
      ]
    },
    {
      "cell_type": "markdown",
      "metadata": {
        "id": "qahzRVUvpDTJ"
      },
      "source": [
        "### Building Pipelines"
      ]
    },
    {
      "cell_type": "code",
      "execution_count": 11,
      "metadata": {
        "id": "qrgJ8EompDTK"
      },
      "outputs": [],
      "source": [
        "from sklearn.pipeline import Pipeline\n",
        "scaler = MinMaxScaler()\n",
        "clf = SVC()\n",
        "pipe = Pipeline([(\"scaler\", scaler), (\"svm\", clf)])"
      ]
    },
    {
      "cell_type": "code",
      "execution_count": 12,
      "metadata": {
        "colab": {
          "base_uri": "https://localhost:8080/"
        },
        "id": "x8J-H1hHpDTL",
        "outputId": "a0f0fe8e-ebaf-49d8-d52f-5c8f80991332"
      },
      "outputs": [
        {
          "data": {
            "text/plain": [
              "Pipeline(steps=[('scaler', MinMaxScaler()), ('svm', SVC())])"
            ]
          },
          "execution_count": 12,
          "metadata": {},
          "output_type": "execute_result"
        }
      ],
      "source": [
        "pipe.fit(X_train, y_train)"
      ]
    },
    {
      "cell_type": "code",
      "execution_count": 13,
      "metadata": {
        "colab": {
          "base_uri": "https://localhost:8080/"
        },
        "id": "hF6KTjBYpDTL",
        "outputId": "d075f697-bb12-481c-ce17-45f155ac2663"
      },
      "outputs": [
        {
          "name": "stdout",
          "output_type": "stream",
          "text": [
            "Test score: 0.97\n"
          ]
        }
      ],
      "source": [
        "print(\"Test score: {:.2f}\".format(pipe.score(X_test, y_test)))"
      ]
    },
    {
      "cell_type": "code",
      "execution_count": 14,
      "metadata": {
        "colab": {
          "base_uri": "https://localhost:8080/"
        },
        "id": "2AjdPTzPBDDH",
        "outputId": "b0467d98-1222-4c26-fa22-4f3621d9826f"
      },
      "outputs": [
        {
          "name": "stdout",
          "output_type": "stream",
          "text": [
            "              precision    recall  f1-score   support\n",
            "\n",
            "           0       0.98      0.94      0.96        53\n",
            "           1       0.97      0.99      0.98        90\n",
            "\n",
            "    accuracy                           0.97       143\n",
            "   macro avg       0.97      0.97      0.97       143\n",
            "weighted avg       0.97      0.97      0.97       143\n",
            "\n"
          ]
        }
      ],
      "source": [
        "from sklearn.metrics import accuracy_score, classification_report\n",
        "y_pred = pipe.predict(X_test)\n",
        "print(classification_report(y_test, y_pred))"
      ]
    },
    {
      "cell_type": "markdown",
      "metadata": {
        "id": "hhGyJemopDTM"
      },
      "source": [
        "### Using Pipelines in Grid-searches"
      ]
    },
    {
      "cell_type": "code",
      "execution_count": null,
      "metadata": {
        "id": "g9dhVNpQpDTM",
        "scrolled": true
      },
      "outputs": [],
      "source": []
    },
    {
      "cell_type": "code",
      "execution_count": 15,
      "metadata": {
        "colab": {
          "base_uri": "https://localhost:8080/"
        },
        "id": "AuaEdyEapDTN",
        "outputId": "80a3e660-2727-4e17-9259-98ad5b1864cf"
      },
      "outputs": [
        {
          "name": "stdout",
          "output_type": "stream",
          "text": [
            "Best cross-validation accuracy: 0.98\n",
            "Test set score: 0.97\n",
            "Best parameters: {'clf__C': 1, 'clf__gamma': 1}\n"
          ]
        }
      ],
      "source": [
        "pipe = Pipeline([(\"scaler\", MinMaxScaler()), (\"clf\", SVC())])\n",
        "\n",
        "param_grid = {'clf__C': [0.001, 0.01, 0.1, 1, 10, 100],\n",
        "              'clf__gamma': [0.001, 0.01, 0.1, 1, 10, 100]}\n",
        "\n",
        "grid = GridSearchCV(pipe, param_grid=param_grid, cv=5)\n",
        "grid.fit(X_train, y_train)\n",
        "print(\"Best cross-validation accuracy: {:.2f}\".format(grid.best_score_))\n",
        "print(\"Test set score: {:.2f}\".format(grid.score(X_test, y_test)))\n",
        "print(\"Best parameters: {}\".format(grid.best_params_))"
      ]
    },
    {
      "cell_type": "code",
      "execution_count": 16,
      "metadata": {
        "colab": {
          "base_uri": "https://localhost:8080/",
          "height": 493
        },
        "hide_input": false,
        "id": "YAsIetJ3pDTQ",
        "outputId": "ba5ee789-484f-46e2-ebe3-da1c1705be37"
      },
      "outputs": [
        {
          "data": {
            "image/png": "[encoded data removed]",
            "text/plain": [
              "<Figure size 1080x576 with 2 Axes>"
            ]
          },
          "metadata": {},
          "output_type": "display_data"
        }
      ],
      "source": [
        "mglearn.plots.plot_proper_processing()"
      ]
    },
    {
      "cell_type": "code",
      "execution_count": 17,
      "metadata": {
        "id": "jMO1ne6gpDTR"
      },
      "outputs": [],
      "source": [
        "import numpy as np\n",
        "rnd = np.random.RandomState(seed=0)\n",
        "X = rnd.normal(size=(100, 10000))\n",
        "y = rnd.normal(size=(100,))"
      ]
    },
    {
      "cell_type": "code",
      "execution_count": 18,
      "metadata": {
        "colab": {
          "base_uri": "https://localhost:8080/"
        },
        "id": "VgMF5BlapDTR",
        "outputId": "07917d8d-c2ee-49ce-a750-f228624ec568"
      },
      "outputs": [
        {
          "name": "stdout",
          "output_type": "stream",
          "text": [
            "X_selected.shape: (100, 500)\n"
          ]
        }
      ],
      "source": [
        "from sklearn.feature_selection import SelectPercentile, f_regression\n",
        "\n",
        "select = SelectPercentile(score_func=f_regression, percentile=5).fit(X, y)\n",
        "X_selected = select.transform(X)\n",
        "print(\"X_selected.shape: {}\".format(X_selected.shape))"
      ]
    },
    {
      "cell_type": "code",
      "execution_count": 19,
      "metadata": {
        "colab": {
          "base_uri": "https://localhost:8080/"
        },
        "id": "EFzeLOFlpDTR",
        "outputId": "1b41a535-70bc-4d6b-fb72-0f7197ea108d"
      },
      "outputs": [
        {
          "name": "stdout",
          "output_type": "stream",
          "text": [
            "Cross-validation accuracy (cv only on ridge): 0.91\n"
          ]
        }
      ],
      "source": [
        "from sklearn.model_selection import cross_val_score\n",
        "from sklearn.linear_model import Ridge\n",
        "print(\"Cross-validation accuracy (cv only on ridge): {:.2f}\".format(\n",
        "      np.mean(cross_val_score(Ridge(), X_selected, y, cv=5))))"
      ]
    },
    {
      "cell_type": "code",
      "execution_count": 20,
      "metadata": {
        "colab": {
          "base_uri": "https://localhost:8080/"
        },
        "id": "i0R-Lt_2pDTS",
        "outputId": "d3b905e8-0355-4570-ecc8-7513400f14a9"
      },
      "outputs": [
        {
          "name": "stdout",
          "output_type": "stream",
          "text": [
            "Cross-validation accuracy (pipeline): -0.25\n"
          ]
        }
      ],
      "source": [
        "pipe = Pipeline([(\"select\", SelectPercentile(score_func=f_regression,\n",
        "                                             percentile=5)),\n",
        "                 (\"ridge\", Ridge())])\n",
        "print(\"Cross-validation accuracy (pipeline): {:.2f}\".format(\n",
        "      np.mean(cross_val_score(pipe, X, y, cv=5))))"
      ]
    },
    {
      "cell_type": "markdown",
      "metadata": {
        "id": "NrPtQHNNpDTS"
      },
      "source": [
        "### The General Pipeline Interface"
      ]
    },
    {
      "cell_type": "code",
      "execution_count": 21,
      "metadata": {
        "id": "lg2PcXgJsN6p"
      },
      "outputs": [
        {
          "ename": "NameError",
          "evalue": "name 'a' is not defined",
          "output_type": "error",
          "traceback": [
            "\u001b[1;31m---------------------------------------------------------------------------\u001b[0m",
            "\u001b[1;31mNameError\u001b[0m                                 Traceback (most recent call last)",
            "\u001b[1;32m~\\AppData\\Local\\Temp/ipykernel_20280/566403080.py\u001b[0m in \u001b[0;36m<module>\u001b[1;34m\u001b[0m\n\u001b[1;32m----> 1\u001b[1;33m \u001b[1;33m[\u001b[0m\u001b[0ma\u001b[0m\u001b[1;33m,\u001b[0m \u001b[0mb\u001b[0m\u001b[1;33m,\u001b[0m \u001b[0mc\u001b[0m\u001b[1;33m,\u001b[0m \u001b[0md\u001b[0m\u001b[1;33m]\u001b[0m\u001b[1;33m\u001b[0m\u001b[1;33m\u001b[0m\u001b[0m\n\u001b[0m",
            "\u001b[1;31mNameError\u001b[0m: name 'a' is not defined"
          ]
        }
      ],
      "source": [
        "[a, b, c, d]"
      ]
    },
    {
      "cell_type": "code",
      "execution_count": null,
      "metadata": {
        "id": "Le3eg31BpDTS"
      },
      "outputs": [],
      "source": [
        "def fit(self, X, y):\n",
        "    X_transformed = X\n",
        "    for name, estimator in self.steps[:-1]:\n",
        "        # iterate over all but the final step\n",
        "        # fit and transform the data\n",
        "        X_transformed = estimator.fit_transform(X_transformed, y)\n",
        "    # fit the last step\n",
        "    self.steps[-1][1].fit(X_transformed, y)\n",
        "    return self"
      ]
    },
    {
      "cell_type": "code",
      "execution_count": null,
      "metadata": {
        "id": "RiunSz53pDTT"
      },
      "outputs": [],
      "source": [
        "def predict(self, X):\n",
        "    X_transformed = X\n",
        "    for step in self.steps[:-1]:\n",
        "        # iterate over all but the final step\n",
        "        # transform the data\n",
        "        X_transformed = step[1].transform(X_transformed)\n",
        "    # predict using the last step\n",
        "    return self.steps[-1][1].predict(X_transformed)"
      ]
    },
    {
      "cell_type": "markdown",
      "metadata": {
        "id": "RawOCQ7ypDTT"
      },
      "source": [
        "![pipeline_illustration](images/pipeline.png)"
      ]
    },
    {
      "cell_type": "markdown",
      "metadata": {
        "id": "SDJ3Kg7PpDTT"
      },
      "source": [
        "### Convenient Pipeline creation with ``make_pipeline``"
      ]
    },
    {
      "cell_type": "code",
      "execution_count": null,
      "metadata": {
        "id": "4qRRhxRSpDTT"
      },
      "outputs": [],
      "source": [
        "from sklearn.pipeline import make_pipeline\n",
        "# standard syntax\n",
        "pipe_long = Pipeline([(\"scaler\", MinMaxScaler()), (\"svm\", SVC(C=100))])\n",
        "# abbreviated syntax\n",
        "pipe_short = make_pipeline(MinMaxScaler(), SVC(C=100))"
      ]
    },
    {
      "cell_type": "code",
      "execution_count": null,
      "metadata": {
        "colab": {
          "base_uri": "https://localhost:8080/"
        },
        "id": "Z8yIZr1tpDTU",
        "outputId": "d4389996-7072-4f93-bde4-961f82789e54"
      },
      "outputs": [
        {
          "name": "stdout",
          "output_type": "stream",
          "text": [
            "Pipeline steps:\n",
            "[('minmaxscaler', MinMaxScaler()), ('svc', SVC(C=100))]\n"
          ]
        }
      ],
      "source": [
        "print(\"Pipeline steps:\\n{}\".format(pipe_short.steps))"
      ]
    },
    {
      "cell_type": "code",
      "execution_count": null,
      "metadata": {
        "colab": {
          "base_uri": "https://localhost:8080/"
        },
        "id": "YNQUJ4uQpDTU",
        "outputId": "27be6e0e-b878-4685-8413-9c6e475e8bbc"
      },
      "outputs": [
        {
          "name": "stdout",
          "output_type": "stream",
          "text": [
            "Pipeline steps:\n",
            "[('standardscaler-1', StandardScaler()), ('pca', PCA(n_components=2)), ('standardscaler-2', StandardScaler())]\n"
          ]
        }
      ],
      "source": [
        "# example if multiple steps have the same class\n",
        "from sklearn.preprocessing import StandardScaler\n",
        "from sklearn.decomposition import PCA\n",
        "\n",
        "pipe = make_pipeline(StandardScaler(), PCA(n_components=2), StandardScaler())\n",
        "print(\"Pipeline steps:\\n{}\".format(pipe.steps))"
      ]
    },
    {
      "cell_type": "markdown",
      "metadata": {
        "id": "7aLcVu7xpDTU"
      },
      "source": [
        "#### Accessing step attributes"
      ]
    },
    {
      "cell_type": "code",
      "execution_count": null,
      "metadata": {
        "colab": {
          "base_uri": "https://localhost:8080/"
        },
        "id": "7l12peJ2pDTU",
        "outputId": "9a25e5cc-9264-4880-f70f-89223b2a15d9"
      },
      "outputs": [
        {
          "name": "stdout",
          "output_type": "stream",
          "text": [
            "components.shape: (2, 30)\n"
          ]
        }
      ],
      "source": [
        "# fit the pipeline defined before to the cancer dataset\n",
        "pipe.fit(cancer.data)\n",
        "# extract the first two principal components from the \"pca\" step\n",
        "components = pipe.named_steps[\"pca\"].components_\n",
        "print(\"components.shape: {}\".format(components.shape))"
      ]
    },
    {
      "cell_type": "code",
      "execution_count": null,
      "metadata": {
        "colab": {
          "base_uri": "https://localhost:8080/"
        },
        "id": "k4fzFYfdnrmP",
        "outputId": "d5a1b9e2-9490-4091-c66f-a67d4d3c6286"
      },
      "outputs": [
        {
          "data": {
            "text/plain": [
              "(569, 2)"
            ]
          },
          "execution_count": 26,
          "metadata": {},
          "output_type": "execute_result"
        }
      ],
      "source": [
        "pipe.transform(cancer.data).shape"
      ]
    },
    {
      "cell_type": "code",
      "execution_count": null,
      "metadata": {
        "colab": {
          "base_uri": "https://localhost:8080/"
        },
        "id": "wdFQvmtNnbLE",
        "outputId": "7563bada-77f2-4fff-ec13-7487c8603abd"
      },
      "outputs": [
        {
          "data": {
            "text/plain": [
              "(569, 30)"
            ]
          },
          "execution_count": 27,
          "metadata": {},
          "output_type": "execute_result"
        }
      ],
      "source": [
        "cancer.data.shape"
      ]
    },
    {
      "cell_type": "markdown",
      "metadata": {
        "id": "eIrKLpcZpDTV"
      },
      "source": [
        "#### Accessing Attributes in a Pipeline inside GridSearchCV"
      ]
    },
    {
      "cell_type": "code",
      "execution_count": null,
      "metadata": {
        "id": "0_j5QtFPpDTV"
      },
      "outputs": [],
      "source": [
        "from sklearn.linear_model import LogisticRegression\n",
        "\n",
        "pipe = make_pipeline(StandardScaler(), LogisticRegression(max_iter=1000))"
      ]
    },
    {
      "cell_type": "code",
      "execution_count": null,
      "metadata": {
        "id": "ZEhcdmA3pDTV"
      },
      "outputs": [],
      "source": [
        "param_grid = {'logisticregression__C': [0.01, 0.1, 1, 10, 100]}"
      ]
    },
    {
      "cell_type": "code",
      "execution_count": null,
      "metadata": {
        "colab": {
          "base_uri": "https://localhost:8080/"
        },
        "id": "NjIjZq0gpDTW",
        "outputId": "ec4d3a09-2d5c-42d2-fc2a-6e6d8199efa3"
      },
      "outputs": [
        {
          "data": {
            "text/plain": [
              "GridSearchCV(cv=5,\n",
              "             estimator=Pipeline(steps=[('standardscaler', StandardScaler()),\n",
              "                                       ('logisticregression',\n",
              "                                        LogisticRegression(max_iter=1000))]),\n",
              "             param_grid={'logisticregression__C': [0.01, 0.1, 1, 10, 100]})"
            ]
          },
          "execution_count": 30,
          "metadata": {},
          "output_type": "execute_result"
        }
      ],
      "source": [
        "X_train, X_test, y_train, y_test = train_test_split(\n",
        "    cancer.data, cancer.target, random_state=4)\n",
        "grid = GridSearchCV(pipe, param_grid, cv=5)\n",
        "grid.fit(X_train, y_train)"
      ]
    },
    {
      "cell_type": "code",
      "execution_count": null,
      "metadata": {
        "colab": {
          "base_uri": "https://localhost:8080/"
        },
        "id": "iwrNI9i9pDTW",
        "outputId": "18e147af-3d81-46a3-f5f6-29a170415619"
      },
      "outputs": [
        {
          "name": "stdout",
          "output_type": "stream",
          "text": [
            "Best estimator:\n",
            "Pipeline(steps=[('standardscaler', StandardScaler()),\n",
            "                ('logisticregression', LogisticRegression(C=1, max_iter=1000))])\n"
          ]
        }
      ],
      "source": [
        "print(\"Best estimator:\\n{}\".format(grid.best_estimator_))"
      ]
    },
    {
      "cell_type": "code",
      "execution_count": null,
      "metadata": {
        "colab": {
          "base_uri": "https://localhost:8080/"
        },
        "id": "RMtkVxrKpDTW",
        "outputId": "74b07c61-ccf0-4486-b210-e5e760a07e7c"
      },
      "outputs": [
        {
          "name": "stdout",
          "output_type": "stream",
          "text": [
            "Logistic regression step:\n",
            "LogisticRegression(C=1, max_iter=1000)\n"
          ]
        }
      ],
      "source": [
        "print(\"Logistic regression step:\\n{}\".format(\n",
        "      grid.best_estimator_.named_steps[\"logisticregression\"]))"
      ]
    },
    {
      "cell_type": "code",
      "execution_count": null,
      "metadata": {
        "id": "EtbYE0wVokk6"
      },
      "outputs": [],
      "source": [
        "lr = grid.best_estimator_.named_steps[\"logisticregression\"]"
      ]
    },
    {
      "cell_type": "code",
      "execution_count": null,
      "metadata": {
        "colab": {
          "base_uri": "https://localhost:8080/"
        },
        "id": "kafo_jWFJ-Ud",
        "outputId": "cb823a87-e452-4910-8061-793183c754e5"
      },
      "outputs": [
        {
          "data": {
            "text/plain": [
              "array([[ 1.11491297, -2.03449436,  1.28751646, ...,  2.31707382,\n",
              "         2.77113274,  1.95337338],\n",
              "       [ 1.85614078, -0.33675539,  1.70728339, ...,  1.10604329,\n",
              "        -0.2501468 ,  0.3082897 ],\n",
              "       [ 1.60331889,  0.46272115,  1.58675625, ...,  1.97542289,\n",
              "         1.15847786,  0.22900856],\n",
              "       ...,\n",
              "       [ 0.7155693 ,  2.03180873,  0.68488077, ...,  0.4318928 ,\n",
              "        -1.11849943, -0.28741999],\n",
              "       [ 1.86475971,  2.31897703,  2.00652318, ...,  2.31097291,\n",
              "         1.93216047,  2.23416076],\n",
              "       [-1.82414149,  1.21854811, -1.82457735, ..., -1.7308796 ,\n",
              "        -0.05264554, -0.71741006]])"
            ]
          },
          "execution_count": 35,
          "metadata": {},
          "output_type": "execute_result"
        }
      ],
      "source": [
        "scaler = grid.best_estimator_.named_steps[\"standardscaler\"]\n",
        "scaler.transform(cancer.data)"
      ]
    },
    {
      "cell_type": "code",
      "execution_count": null,
      "metadata": {
        "colab": {
          "base_uri": "https://localhost:8080/"
        },
        "id": "jNIehYfnKI4d",
        "outputId": "f0d7b3f0-8043-4068-aab3-278adcee453e"
      },
      "outputs": [
        {
          "data": {
            "text/plain": [
              "array([0, 0, 0, 0, 0, 0, 0, 0, 0, 0, 0, 0, 0, 0, 0, 0, 0, 0, 0, 1, 1, 1,\n",
              "       0, 0, 0, 0, 0, 0, 0, 0, 0, 0, 0, 0, 0, 0, 0, 1, 0, 0, 1, 0, 0, 0,\n",
              "       0, 0, 1, 0, 1, 1, 1, 1, 1, 0, 0, 1, 0, 0, 1, 1, 1, 1, 0, 1, 0, 0,\n",
              "       1, 1, 1, 1, 0, 1, 0, 1, 1, 0, 1, 0, 0, 1, 1, 1, 0, 0, 1, 0, 0, 0,\n",
              "       1, 1, 1, 0, 1, 1, 0, 0, 1, 1, 1, 0, 0, 1, 1, 1, 1, 0, 1, 1, 0, 1,\n",
              "       1, 1, 1, 1, 1, 1, 1, 0, 0, 0, 1, 0, 0, 1, 1, 1, 0, 0, 1, 0, 1, 0,\n",
              "       0, 1, 0, 1, 1, 1, 0, 1, 1, 0, 1, 1, 1, 1, 1, 1, 1, 1, 1, 1, 1, 1,\n",
              "       1, 1, 0, 0, 1, 1, 1, 0, 0, 1, 0, 1, 1, 0, 0, 1, 1, 0, 0, 1, 1, 1,\n",
              "       1, 0, 1, 1, 0, 0, 0, 1, 0, 1, 0, 1, 1, 1, 0, 1, 1, 0, 0, 1, 0, 0,\n",
              "       0, 0, 1, 0, 0, 0, 1, 0, 1, 0, 1, 1, 0, 1, 0, 0, 0, 0, 1, 1, 0, 0,\n",
              "       1, 1, 1, 0, 1, 1, 1, 1, 1, 0, 0, 1, 1, 0, 1, 1, 0, 0, 0, 0, 1, 1,\n",
              "       1, 1, 0, 1, 1, 1, 1, 1, 0, 1, 0, 0, 0, 0, 0, 0, 0, 0, 0, 0, 0, 0,\n",
              "       0, 0, 1, 1, 1, 1, 1, 1, 0, 1, 0, 1, 1, 0, 1, 1, 0, 1, 0, 0, 1, 1,\n",
              "       1, 1, 1, 1, 1, 1, 1, 1, 1, 1, 1, 1, 1, 1, 0, 1, 0, 1, 1, 1, 1, 1,\n",
              "       1, 1, 1, 1, 1, 1, 1, 1, 1, 0, 1, 1, 1, 0, 1, 0, 1, 1, 1, 1, 0, 0,\n",
              "       0, 1, 1, 1, 1, 0, 1, 0, 1, 0, 1, 1, 1, 0, 1, 1, 1, 1, 1, 1, 1, 0,\n",
              "       0, 0, 1, 1, 1, 1, 1, 1, 1, 1, 1, 0, 1, 0, 0, 1, 0, 0, 0, 1, 0, 0,\n",
              "       1, 1, 1, 1, 1, 0, 1, 1, 1, 1, 1, 0, 1, 1, 1, 0, 1, 1, 0, 0, 1, 1,\n",
              "       1, 1, 1, 1, 0, 1, 1, 1, 1, 1, 1, 1, 0, 1, 1, 1, 1, 0, 0, 1, 1, 0,\n",
              "       1, 1, 1, 1, 1, 1, 1, 1, 1, 1, 1, 1, 0, 1, 0, 0, 1, 0, 1, 1, 1, 1,\n",
              "       1, 0, 1, 1, 0, 1, 0, 1, 1, 0, 1, 0, 1, 1, 1, 1, 1, 1, 1, 1, 0, 0,\n",
              "       1, 1, 1, 1, 1, 1, 0, 1, 1, 1, 1, 1, 1, 1, 1, 1, 1, 0, 1, 1, 1, 1,\n",
              "       1, 1, 1, 0, 1, 0, 1, 0, 0, 1, 1, 1, 1, 1, 0, 0, 1, 0, 1, 0, 1, 1,\n",
              "       1, 1, 1, 0, 1, 1, 0, 1, 0, 1, 0, 0, 1, 1, 1, 0, 1, 1, 1, 1, 1, 1,\n",
              "       1, 1, 1, 1, 1, 0, 1, 0, 0, 1, 1, 1, 1, 0, 1, 1, 1, 1, 1, 1, 1, 1,\n",
              "       1, 1, 1, 1, 1, 1, 1, 1, 1, 1, 1, 1, 0, 0, 0, 0, 0, 0, 1])"
            ]
          },
          "execution_count": 46,
          "metadata": {},
          "output_type": "execute_result"
        }
      ],
      "source": [
        "pipe = grid.best_estimator_\n",
        "pipe.predict(cancer.data)"
      ]
    },
    {
      "cell_type": "code",
      "execution_count": null,
      "metadata": {
        "colab": {
          "base_uri": "https://localhost:8080/"
        },
        "id": "Bvxi5UpapDTW",
        "outputId": "49ce2253-a476-4990-abb6-edd570bf65b9"
      },
      "outputs": [
        {
          "name": "stdout",
          "output_type": "stream",
          "text": [
            "Logistic regression coefficients:\n",
            "[[-0.43570655 -0.34266946 -0.40809443 -0.5344574  -0.14971847  0.61034122\n",
            "  -0.72634347 -0.78538827  0.03886087  0.27497198 -1.29780109  0.04926005\n",
            "  -0.67336941 -0.93447426 -0.13939555  0.45032641 -0.13009864 -0.10144273\n",
            "   0.43432027  0.71596578 -1.09068862 -1.09463976 -0.85183755 -1.06406198\n",
            "  -0.74316099  0.07252425 -0.82323903 -0.65321239 -0.64379499 -0.42026013]]\n"
          ]
        }
      ],
      "source": [
        "print(\"Logistic regression coefficients:\\n{}\".format(\n",
        "      grid.best_estimator_.named_steps[\"logisticregression\"].coef_))"
      ]
    },
    {
      "cell_type": "markdown",
      "metadata": {
        "id": "2AAWZHqapDTW"
      },
      "source": [
        "### Grid-searching preprocessing steps and model parameters"
      ]
    },
    {
      "cell_type": "code",
      "execution_count": null,
      "metadata": {
        "colab": {
          "base_uri": "https://localhost:8080/"
        },
        "id": "dZOpOizapDTX",
        "outputId": "e3f21a5b-5ae1-4f15-d10d-dd117e400e29"
      },
      "outputs": [
        {
          "name": "stderr",
          "output_type": "stream",
          "text": [
            "/usr/local/lib/python3.7/dist-packages/sklearn/utils/deprecation.py:87: FutureWarning: Function load_boston is deprecated; `load_boston` is deprecated in 1.0 and will be removed in 1.2.\n",
            "\n",
            "    The Boston housing prices dataset has an ethical problem. You can refer to\n",
            "    the documentation of this function for further details.\n",
            "\n",
            "    The scikit-learn maintainers therefore strongly discourage the use of this\n",
            "    dataset unless the purpose of the code is to study and educate about\n",
            "    ethical issues in data science and machine learning.\n",
            "\n",
            "    In this special case, you can fetch the dataset from the original\n",
            "    source::\n",
            "\n",
            "        import pandas as pd\n",
            "        import numpy as np\n",
            "\n",
            "\n",
            "        data_url = \"http://lib.stat.cmu.edu/datasets/boston\"\n",
            "        raw_df = pd.read_csv(data_url, sep=\"\\s+\", skiprows=22, header=None)\n",
            "        data = np.hstack([raw_df.values[::2, :], raw_df.values[1::2, :2]])\n",
            "        target = raw_df.values[1::2, 2]\n",
            "\n",
            "    Alternative datasets include the California housing dataset (i.e.\n",
            "    :func:`~sklearn.datasets.fetch_california_housing`) and the Ames housing\n",
            "    dataset. You can load the datasets as follows::\n",
            "\n",
            "        from sklearn.datasets import fetch_california_housing\n",
            "        housing = fetch_california_housing()\n",
            "\n",
            "    for the California housing dataset and::\n",
            "\n",
            "        from sklearn.datasets import fetch_openml\n",
            "        housing = fetch_openml(name=\"house_prices\", as_frame=True)\n",
            "\n",
            "    for the Ames housing dataset.\n",
            "    \n",
            "  warnings.warn(msg, category=FutureWarning)\n"
          ]
        }
      ],
      "source": [
        "from sklearn.datasets import load_boston\n",
        "boston = load_boston()\n",
        "X_train, X_test, y_train, y_test = train_test_split(boston.data, boston.target,\n",
        "                                                    random_state=0)\n",
        "\n",
        "from sklearn.preprocessing import PolynomialFeatures\n",
        "pipe = make_pipeline(\n",
        "    StandardScaler(),\n",
        "    PolynomialFeatures(),\n",
        "    Ridge())"
      ]
    },
    {
      "cell_type": "code",
      "execution_count": null,
      "metadata": {
        "id": "JIOQXT2QpDTX",
        "scrolled": true
      },
      "outputs": [],
      "source": [
        "param_grid = {'polynomialfeatures__degree': [1, 2, 3],\n",
        "              'ridge__alpha': [0.001, 0.01, 0.1, 1, 10, 100]}"
      ]
    },
    {
      "cell_type": "code",
      "execution_count": null,
      "metadata": {
        "colab": {
          "base_uri": "https://localhost:8080/"
        },
        "id": "_QOWH-Y0pDTX",
        "outputId": "847fdf5d-c543-46b3-e5e7-f4fd07b4f715",
        "scrolled": true
      },
      "outputs": [
        {
          "data": {
            "text/plain": [
              "GridSearchCV(cv=5,\n",
              "             estimator=Pipeline(steps=[('standardscaler', StandardScaler()),\n",
              "                                       ('polynomialfeatures',\n",
              "                                        PolynomialFeatures()),\n",
              "                                       ('ridge', Ridge())]),\n",
              "             n_jobs=-1,\n",
              "             param_grid={'polynomialfeatures__degree': [1, 2, 3],\n",
              "                         'ridge__alpha': [0.001, 0.01, 0.1, 1, 10, 100]})"
            ]
          },
          "execution_count": 38,
          "metadata": {},
          "output_type": "execute_result"
        }
      ],
      "source": [
        "grid = GridSearchCV(pipe, param_grid=param_grid, cv=5, n_jobs=-1)\n",
        "grid.fit(X_train, y_train)"
      ]
    },
    {
      "cell_type": "code",
      "execution_count": null,
      "metadata": {
        "colab": {
          "base_uri": "https://localhost:8080/"
        },
        "id": "RVYbAYXM00Sw",
        "outputId": "be7ae48c-23d4-445b-82fa-0c60d2c581f9"
      },
      "outputs": [
        {
          "data": {
            "text/plain": [
              "{'polynomialfeatures__degree': 2, 'ridge__alpha': 10}"
            ]
          },
          "execution_count": 39,
          "metadata": {},
          "output_type": "execute_result"
        }
      ],
      "source": [
        "grid.best_params_"
      ]
    },
    {
      "cell_type": "code",
      "execution_count": null,
      "metadata": {
        "colab": {
          "base_uri": "https://localhost:8080/",
          "height": 277
        },
        "id": "UTGDdrdI3Fbz",
        "outputId": "077bbbb4-e9e5-432d-b757-4607e9d77da7"
      },
      "outputs": [
        {
          "data": {
            "text/plain": [
              "<matplotlib.colorbar.Colorbar at 0x7f0f7d16e4d0>"
            ]
          },
          "execution_count": 40,
          "metadata": {},
          "output_type": "execute_result"
        },
        {
          "data": {
            "image/png": "[encoded data removed]",
            "text/plain": [
              "<Figure size 576x288 with 2 Axes>"
            ]
          },
          "metadata": {
            "needs_background": "light"
          },
          "output_type": "display_data"
        }
      ],
      "source": [
        "import matplotlib.pyplot as plt\n",
        "plt.matshow(grid.cv_results_['mean_test_score'].reshape(3, -1), vmin=0, cmap=\"viridis\")\n",
        "plt.xlabel(\"ridge__alpha\")\n",
        "plt.ylabel(\"polynomialfeatures__degree\")\n",
        "plt.xticks(range(len(param_grid['ridge__alpha'])), param_grid['ridge__alpha'])\n",
        "plt.yticks(range(len(param_grid['polynomialfeatures__degree'])), param_grid['polynomialfeatures__degree'])\n",
        "plt.colorbar()"
      ]
    },
    {
      "cell_type": "code",
      "execution_count": null,
      "metadata": {
        "colab": {
          "base_uri": "https://localhost:8080/"
        },
        "id": "lXDWpj4EpDTY",
        "outputId": "ad5883f6-670f-4f1d-fc72-3c0be42a6ed5"
      },
      "outputs": [
        {
          "name": "stdout",
          "output_type": "stream",
          "text": [
            "Best parameters: {'polynomialfeatures__degree': 2, 'ridge__alpha': 10}\n"
          ]
        }
      ],
      "source": [
        "print(\"Best parameters: {}\".format(grid.best_params_))"
      ]
    },
    {
      "cell_type": "code",
      "execution_count": null,
      "metadata": {
        "colab": {
          "base_uri": "https://localhost:8080/"
        },
        "id": "B8iKCJ7UpDTY",
        "outputId": "80dc90b1-9cbe-4cb6-bb81-8f45400704b7"
      },
      "outputs": [
        {
          "name": "stdout",
          "output_type": "stream",
          "text": [
            "Test-set score: 0.77\n"
          ]
        }
      ],
      "source": [
        "print(\"Test-set score: {:.2f}\".format(grid.score(X_test, y_test)))"
      ]
    },
    {
      "cell_type": "code",
      "execution_count": null,
      "metadata": {
        "colab": {
          "base_uri": "https://localhost:8080/"
        },
        "id": "yWW9q1CupDTY",
        "outputId": "de338e9e-95f1-45b9-c2fc-62fa05a8f830"
      },
      "outputs": [
        {
          "name": "stdout",
          "output_type": "stream",
          "text": [
            "Score without poly features: 0.63\n"
          ]
        }
      ],
      "source": [
        "param_grid = {'ridge__alpha': [0.001, 0.01, 0.1, 1, 10, 100]}\n",
        "pipe = make_pipeline(StandardScaler(), Ridge())\n",
        "grid = GridSearchCV(pipe, param_grid, cv=5)\n",
        "grid.fit(X_train, y_train)\n",
        "print(\"Score without poly features: {:.2f}\".format(grid.score(X_test, y_test)))"
      ]
    },
    {
      "cell_type": "markdown",
      "metadata": {
        "id": "RvNFNGqR5N4b"
      },
      "source": []
    },
    {
      "cell_type": "code",
      "execution_count": null,
      "metadata": {
        "id": "-1A0v7I1pDTY"
      },
      "outputs": [],
      "source": [
        "pipe = Pipeline([('preprocessing', StandardScaler()), ('classifier', SVC())])"
      ]
    },
    {
      "cell_type": "code",
      "execution_count": null,
      "metadata": {
        "id": "L272MWkUpDTY"
      },
      "outputs": [],
      "source": [
        "from sklearn.ensemble import RandomForestClassifier\n",
        "from sklearn.neighbors import KNeighborsClassifier\n",
        "\n",
        "param_grid = [\n",
        "    {'classifier': [SVC()], 'preprocessing': [MinMaxScaler(), StandardScaler(), None],\n",
        "     'classifier__gamma': [0.001, 0.01, 0.1, 1, 10, 100],\n",
        "     'classifier__C': [0.001, 0.01, 0.1, 1, 10, 100]},\n",
        "    {'classifier': [RandomForestClassifier(n_estimators=100)],\n",
        "     'preprocessing': [None], 'classifier__max_features': [1, 2, 3]},\n",
        "    {'classifier': [KNeighborsClassifier()], 'preprocessing': [MinMaxScaler(), None],\n",
        "    'classifier__n_neighbors': [3, 5, 7, 9],\n",
        "    'classifier__weights': ['uniform', 'distance'],\n",
        "    'classifier__leaf_size': [15, 20]}\n",
        "            ]"
      ]
    },
    {
      "cell_type": "code",
      "execution_count": null,
      "metadata": {
        "colab": {
          "base_uri": "https://localhost:8080/"
        },
        "id": "yk5IOGu3MsjP",
        "outputId": "5d3a6dae-93da-4e5c-a686-6610b06221b0"
      },
      "outputs": [
        {
          "data": {
            "text/plain": [
              "[{'classifier': [SVC()],\n",
              "  'classifier__C': [0.001, 0.01, 0.1, 1, 10, 100],\n",
              "  'classifier__gamma': [0.001, 0.01, 0.1, 1, 10, 100],\n",
              "  'preprocessing': [MinMaxScaler(), StandardScaler(), None]},\n",
              " {'classifier': [RandomForestClassifier()],\n",
              "  'classifier__max_features': [1, 2, 3],\n",
              "  'preprocessing': [None]},\n",
              " {'classifier': [KNeighborsClassifier()],\n",
              "  'classifier__leaf_size': [15, 20],\n",
              "  'classifier__n_neighbors': [3, 5, 7, 9],\n",
              "  'classifier__weights': ['uniform', 'distance'],\n",
              "  'preprocessing': [MinMaxScaler(), None]}]"
            ]
          },
          "execution_count": 57,
          "metadata": {},
          "output_type": "execute_result"
        }
      ],
      "source": [
        "param_grid"
      ]
    },
    {
      "cell_type": "code",
      "execution_count": null,
      "metadata": {
        "colab": {
          "base_uri": "https://localhost:8080/"
        },
        "id": "mkgDfBXdpDTY",
        "outputId": "119578e7-ab52-4496-c3f6-732dc6a8c15e"
      },
      "outputs": [
        {
          "name": "stdout",
          "output_type": "stream",
          "text": [
            "Best params:\n",
            "{'classifier': SVC(C=10, gamma=0.01), 'classifier__C': 10, 'classifier__gamma': 0.01, 'preprocessing': StandardScaler()}\n",
            "\n",
            "Best cross-validation score: 0.99\n",
            "Test-set score: 0.98\n"
          ]
        }
      ],
      "source": [
        "X_train, X_test, y_train, y_test = train_test_split(\n",
        "    cancer.data, cancer.target, random_state=0)\n",
        "\n",
        "grid = GridSearchCV(pipe, param_grid, cv=5)\n",
        "grid.fit(X_train, y_train)\n",
        "\n",
        "print(\"Best params:\\n{}\\n\".format(grid.best_params_))\n",
        "print(\"Best cross-validation score: {:.2f}\".format(grid.best_score_))\n",
        "print(\"Test-set score: {:.2f}\".format(grid.score(X_test, y_test)))"
      ]
    },
    {
      "cell_type": "markdown",
      "metadata": {
        "id": "DDK8LTcopDTZ"
      },
      "source": [
        "#### Avoiding Redundant Computation"
      ]
    },
    {
      "cell_type": "code",
      "execution_count": null,
      "metadata": {
        "id": "HLhLzJitpDTZ"
      },
      "outputs": [],
      "source": [
        "pipe = Pipeline([('preprocessing', StandardScaler()), ('classifier', SVC())],\n",
        "                memory=\"cache_folder\")"
      ]
    },
    {
      "cell_type": "code",
      "execution_count": null,
      "metadata": {
        "id": "x0dDOpzDq54J"
      },
      "outputs": [],
      "source": []
    }
  ],
  "metadata": {
    "anaconda-cloud": {},
    "colab": {
      "collapsed_sections": [
        "DDK8LTcopDTZ"
      ],
      "name": "Algorithm_Chains_and_Pipelines.ipynb",
      "provenance": []
    },
    "kernelspec": {
      "display_name": "Python 3",
      "language": "python",
      "name": "python3"
    },
    "language_info": {
      "codemirror_mode": {
        "name": "ipython",
        "version": 3
      },
      "file_extension": ".py",
      "mimetype": "text/x-python",
      "name": "python",
      "nbconvert_exporter": "python",
      "pygments_lexer": "ipython3",
      "version": "3.9.7"
    }
  },
  "nbformat": 4,
  "nbformat_minor": 0
}
